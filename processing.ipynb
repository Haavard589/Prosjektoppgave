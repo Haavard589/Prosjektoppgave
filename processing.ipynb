{
 "cells": [
  {
   "cell_type": "code",
   "execution_count": 1,
   "id": "c976c1d4-a0a7-4c28-9926-48a66d5f8a37",
   "metadata": {
    "tags": []
   },
   "outputs": [],
   "source": [
    "%matplotlib qt\n",
    "import sys\n",
    "\n",
    "sys.path.append(r\"C:\\Users\\hfyhn\\TEM\")\n",
    "\n",
    "from signal_class import Template_matching"
   ]
  },
  {
   "cell_type": "code",
   "execution_count": 2,
   "id": "8424ec5b-aacc-4735-b234-a268d54d8991",
   "metadata": {
    "tags": []
   },
   "outputs": [],
   "source": [
    "TM = Template_matching(elements = [\"muscovite\"])\n"
   ]
  },
  {
   "cell_type": "code",
   "execution_count": 4,
   "id": "7a7c398c-8d30-4b75-a6fb-973026242337",
   "metadata": {
    "tags": []
   },
   "outputs": [],
   "source": [
    "TM = Template_matching(elements = [\"muscovite\"])\n",
    "TM.read_file(\"sped_256x256_30x30_15x15nn_MP_6_CL_91mm_1deg_100hz_10ms\", area = \"test\" ,lazy = False)\n",
    "TM.update_axes_manager([19.2086316]*2, 0.010212846154005488, 0.010212846154005488,129, 80.0)\n"
   ]
  },
  {
   "cell_type": "code",
   "execution_count": null,
   "id": "e4baf3e9-2eee-4020-85ec-0e0910675d1e",
   "metadata": {
    "tags": []
   },
   "outputs": [],
   "source": [
    "TM.generate_masks()"
   ]
  },
  {
   "cell_type": "code",
   "execution_count": 5,
   "id": "12730d16-303f-4308-ac60-d412a2307aef",
   "metadata": {
    "tags": []
   },
   "outputs": [],
   "source": [
    "TM.isolate_minerals()"
   ]
  },
  {
   "cell_type": "code",
   "execution_count": 4,
   "id": "9ae59e88-af48-4097-a601-8586077de9f6",
   "metadata": {
    "tags": []
   },
   "outputs": [
    {
     "name": "stdout",
     "output_type": "stream",
     "text": [
      "[########################################] | 100% Completed | 3.35 sms\n",
      "[########################################] | 100% Completed | 15.23 s\n",
      "[########################################] | 100% Completed | 3.97 sms\n",
      "[########################################] | 100% Completed | 625.24 ms\n"
     ]
    },
    {
     "name": "stderr",
     "output_type": "stream",
     "text": [
      "C:\\Users\\hfyhn\\TEM\\signal_class.py:257: RuntimeWarning: More than 20 figures have been opened. Figures created through the pyplot interface (`matplotlib.pyplot.figure`) are retained until explicitly closed and may consume too much memory. (To control this warning, see the rcParam `figure.max_open_warning`). Consider using `matplotlib.pyplot.close()`.\n",
      "  plt.figure()\n"
     ]
    },
    {
     "name": "stdout",
     "output_type": "stream",
     "text": [
      "[########################################] | 100% Completed | 722.14 ms\n",
      "[########################################] | 100% Completed | 312.60 ms\n"
     ]
    }
   ],
   "source": [
    "for i in range(6):\n",
    "    TM.read_file(i, area = \"test\" ,lazy = True)\n",
    "    TM.update_axes_manager([19.2086316]*2, 0.010212846154005488, 0.010212846154005488,129, 80.0)\n",
    "    TM.delete_vacuum() \n",
    "    TM.save_signal(name = \"vacuum_removed\", add_on = True)\n"
   ]
  },
  {
   "cell_type": "code",
   "execution_count": 9,
   "id": "4bdd3069-adca-4916-a945-f02f5f4042cc",
   "metadata": {
    "tags": []
   },
   "outputs": [
    {
     "name": "stdout",
     "output_type": "stream",
     "text": [
      "[########################################] | 100% Completed | 2.81 sms\n",
      "[########################################] | 100% Completed | 11.22 ss\n",
      "[########################################] | 100% Completed | 3.01 sms\n",
      "[########################################] | 100% Completed | 537.00 ms\n",
      "[########################################] | 100% Completed | 623.24 ms\n",
      "[########################################] | 100% Completed | 310.19 ms\n"
     ]
    }
   ],
   "source": [
    "TM.loop_COM()"
   ]
  },
  {
   "cell_type": "code",
   "execution_count": null,
   "id": "4017934f-9886-4a03-85fb-04357f27b20d",
   "metadata": {
    "tags": []
   },
   "outputs": [],
   "source": [
    "TM.store_blobs()"
   ]
  },
  {
   "cell_type": "code",
   "execution_count": null,
   "id": "fc04dd41-d7ab-4f63-b7ea-e24f229602ae",
   "metadata": {
    "tags": []
   },
   "outputs": [],
   "source": [
    "TM.load_blobs()"
   ]
  },
  {
   "cell_type": "code",
   "execution_count": null,
   "id": "942faa82-5a5a-4414-a4a7-a1afcd687abc",
   "metadata": {},
   "outputs": [],
   "source": [
    "TM.save_signal(name = \"blob\", add_on = True)\n"
   ]
  },
  {
   "cell_type": "code",
   "execution_count": null,
   "id": "526a1b2d-fb41-4690-9a82-8da1d75cca74",
   "metadata": {
    "tags": []
   },
   "outputs": [],
   "source": []
  },
  {
   "cell_type": "code",
   "execution_count": null,
   "id": "249f0e59-a759-4717-8d06-439800fee263",
   "metadata": {
    "tags": []
   },
   "outputs": [],
   "source": []
  },
  {
   "cell_type": "code",
   "execution_count": null,
   "id": "aa48a99e-4a3c-4c54-bf4d-13fc890983f0",
   "metadata": {},
   "outputs": [],
   "source": []
  },
  {
   "cell_type": "code",
   "execution_count": null,
   "id": "84b08835-7a78-439a-9056-5e83f51347a2",
   "metadata": {},
   "outputs": [],
   "source": []
  }
 ],
 "metadata": {
  "kernelspec": {
   "display_name": "Python 3 (ipykernel)",
   "language": "python",
   "name": "python3"
  },
  "language_info": {
   "codemirror_mode": {
    "name": "ipython",
    "version": 3
   },
   "file_extension": ".py",
   "mimetype": "text/x-python",
   "name": "python",
   "nbconvert_exporter": "python",
   "pygments_lexer": "ipython3",
   "version": "3.11.4"
  }
 },
 "nbformat": 4,
 "nbformat_minor": 5
}
