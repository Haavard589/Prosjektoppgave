{
 "cells": [
  {
   "cell_type": "code",
   "execution_count": 1,
   "id": "5efa9e58-ea99-494b-bd48-be0675fb2223",
   "metadata": {
    "tags": []
   },
   "outputs": [],
   "source": [
    "%matplotlib qt\n",
    "import sys\n",
    "\n",
    "sys.path.append(r\"C:\\Users\\hfyhn\\TEM\")\n",
    "\n",
    "from signal_class import Template_matching"
   ]
  },
  {
   "cell_type": "code",
   "execution_count": 2,
   "id": "04c48092-9c81-4ec8-9ebb-ef38945f4ab5",
   "metadata": {},
   "outputs": [
    {
     "name": "stdout",
     "output_type": "stream",
     "text": [
      "128.9688844279534 80.0 1e-20 0.0078 1.3072443077127025\n"
     ]
    }
   ],
   "source": [
    "TM = Template_matching(elements = [\"muscovite\", \"illite\"])\n",
    "TM.read_file(1, processing_type = \"uniform_3\",element = \"illite\", lazy = False)\n",
    "TM.update_axes_manager([19.2086316]*2, 0.010212846154005488, 0.010212846154005488,129, 80.0)\n",
    "\n",
    "TM.create_lib(16.0, deny_new = False, minimum_intensity=1E-20, max_excitation_error=78E-4, force_new = False)\n"
   ]
  },
  {
   "cell_type": "code",
   "execution_count": null,
   "id": "c15f43ce-a783-4ae5-944d-a7af8aae678b",
   "metadata": {
    "tags": []
   },
   "outputs": [],
   "source": [
    "TM.signal.plot(norm = \"symlog\")"
   ]
  },
  {
   "cell_type": "code",
   "execution_count": null,
   "id": "07c5681a-766a-4340-a725-44d4e3170fe3",
   "metadata": {
    "tags": []
   },
   "outputs": [],
   "source": [
    "TM.template_match(intensity_transform_function=None)\n",
    "\n",
    "TM.plot_correlation()\n",
    "    \n",
    "TM.plot_phase_map()\n"
   ]
  },
  {
   "cell_type": "code",
   "execution_count": null,
   "id": "7bf84e5f-0694-4713-9f90-424628ce524f",
   "metadata": {},
   "outputs": [],
   "source": []
  }
 ],
 "metadata": {
  "kernelspec": {
   "display_name": "Python 3 (ipykernel)",
   "language": "python",
   "name": "python3"
  },
  "language_info": {
   "codemirror_mode": {
    "name": "ipython",
    "version": 3
   },
   "file_extension": ".py",
   "mimetype": "text/x-python",
   "name": "python",
   "nbconvert_exporter": "python",
   "pygments_lexer": "ipython3",
   "version": "3.11.4"
  }
 },
 "nbformat": 4,
 "nbformat_minor": 5
}
