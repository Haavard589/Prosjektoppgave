{
 "cells": [
  {
   "cell_type": "markdown",
   "metadata": {},
   "source": [
    "# Preparing SPED data for templatematching - an example\n",
    "\n",
    "## Contents\n",
    " 1. [Loading raw data](#1.-Load-raw-data)\n",
    " 2. [Reshaping raw data](#2.-Reshape-and-prepare-the-raw-data)\n",
    " 3. [Plotting and metadata](#3.-Plotting-and-metadata)\n",
    " 4. [Save converted data](#4.-Saving-converted-data)\n",
    " 5. [Load converted data](#5.-Load-the-converted-data)\n",
    " 6. [VBF and cropping](#6.-Create-VBF-and-crop-the-data)\n",
    " 7. [Center data](#7.-Center-data) \n",
    " 8. [Calibrate diffraction space](#8.-Calibrate-diffraction-space)\n",
    " 9. [Save processed data](#9.-Save-processed-data)\n",
    " 10. [Load processed data](#10.-Load-processed-data)\n",
    " 11. [Basic VDF analysis](#11.-Basic-VDF-analysis)\n",
    "\n",
    "## Introduction\n",
    "This notebook shows how to prepare Scanning Precession Electron Diffraction (SPED) data for template matching through an example dataset of FIB lamella of Silver. This dataset is available by request from [emil.christiansen@ntnu.no](emil.christiansen@ntnu.no) through the following link: [https://studntnu-my.sharepoint.com/:f:/r/personal/emilc_ntnu_no/Documents/NORTEM/Data/DemoData/SPED_Ag?csf=1&web=1&e=ej997R](https://studntnu-my.sharepoint.com/:f:/r/personal/emilc_ntnu_no/Documents/NORTEM/Data/DemoData/SPED_Ag?csf=1&web=1&e=ej997R). Download this data to your local computer (e.g. same location as this notebook) and copy the path into the `datapath` variable below."
   ]
  },
  {
   "cell_type": "code",
   "execution_count": 1,
   "metadata": {
    "collapsed": false,
    "jupyter": {
     "outputs_hidden": false
    },
    "tags": []
   },
   "outputs": [],
   "source": [
    "%matplotlib qt\n",
    "import hyperspy.api as hs #General hyperspy package\n",
    "import pyxem as pxm #Electron diffraction tools based on hyperspy\n",
    "import numpy as np #General numerical and matrix support\n",
    "import matplotlib.pyplot as plt #Plotting tools\n",
    "import matplotlib.colors as mcolors #Some plotting color tools\n",
    "\n",
    "#Import path handling tool\n",
    "from pathlib import Path\n",
    "import json\n",
    "\n",
    "def read_hdr(filename):\n",
    "    \"\"\"\n",
    "    Return the content of a .hdr file as a dictionary\n",
    "    \"\"\"\n",
    "    filename=Path(filename)\n",
    "    if not filename.suffix == '.hdr':\n",
    "        raise ValueError(f'Cannot read hdr file: File \"{str(filename)}\" is not a .hdr file')\n",
    "    hdr = {}\n",
    "    with filename.open('r') as f:\n",
    "        for line in f.readlines():\n",
    "            content = line.split(':', maxsplit=1)\n",
    "            if len(content)>1:\n",
    "                hdr[content[0].strip()] = content[1].strip()\n",
    "    return hdr"
   ]
  },
  {
   "cell_type": "markdown",
   "metadata": {},
   "source": [
    "# 1. Load raw data\n",
    "The data consists of three parts:\n",
    "  - The actual raw diffraction data in \"SPED.mib\"\n",
    "  - A \"SPED.hdr\" file with detector state information\n",
    "  - A \"parameters.json\" file with various manually recorded metadata from the microscope\n",
    "\n",
    "Let us load all of these three files..."
   ]
  },
  {
   "cell_type": "code",
   "execution_count": 2,
   "metadata": {
    "tags": []
   },
   "outputs": [],
   "source": [
    "#datapath = Path(r\"C:\\Users\\hfyhn\\Documents\\Skole\\Fordypningsoppgave\\Data\\excite cambridge\\D5 muscovite\\20230711_124805\\sped_256x256_30x30_15x15nn_MP_6_CL_91mm_1deg_100hz_10ms.mib\")C:\\Users\\hfyhn\\Documents\\Skole\\Fordypningsoppgave\\Data\\2023_11_08_Muscovite\\Particle9\\0X0Y\\20231108_131447\n",
    "#datapath = Path(r\"C:\\Users\\hfyhn\\Documents\\Skole\\Fordypningsoppgave\\Data\\2023_11_08_Muscovite\\Particle9\\0X0Y\\20231108_131447\\SPED_256x256x12_5x5_1p745x1p745nm_NBD_alpha5_spot0p5nm_CL10cm_1deg_100Hz.mib\")\n",
    "#datapath = Path(r\"C:\\Users\\hfyhn\\Documents\\Skole\\Fordypningsoppgave\\Data\\2023_11_08_Muscovite\\Particle9\\0X0Y\\20231108_131447\\SPED_256x256x12_5x5_1p745x1p745nm_NBD_alpha5_spot0p5nm_CL10cm_1deg_100Hz.mib\")\n",
    "\n",
    "#datapath = Path(r\"C:\\Users\\hfyhn\\Documents\\Skole\\Fordypningsoppgave\\Data\\2023_11_08_Muscovite\\Particle5\\0X0Y\\20231108_152425\\SED_128x128x12_30x30_10p47x10p47nm_NBD_alpha5_spot0p5nm_CL10cm_0deg.mib\")\n",
    "#datapath = Path(r\"C:\\Users\\hfyhn\\Documents\\Skole\\Fordypningsoppgave\\Data\\2023_11_08_Muscovite\\Particle9\\0X0Y\\20231108_132728\\SED_256x256x12_5x5_1p745x1p745nm_NBD_alpha5_spot0p5nm_CL10cm_0deg.mib\")\n",
    "\n",
    "#datapath = Path(r\"C:\\Users\\hfyhn\\Documents\\Skole\\Fordypningsoppgave\\Data\\2023_11_08_Muscovite\\Particle9\\0X0Y\\20231108_134154/SPED_11x11x24_120x120_42x42nmnm_NBD_alpha5_spot0p5nm_CL10cm_1deg_100Hz_descanOff.mib\")\n",
    "datapath = Path(r\"C:\\Users\\hfyhn\\Documents\\Skole\\Fordypningsoppgave\\Data\\excite cambridge\\D5 muscovite\\20230711_130113\\sed_256x256_30x30_15x15nn_MP_6_CL_91mm_0deg_100hz_10ms.mib\")\n",
    "\n"
   ]
  },
  {
   "cell_type": "code",
   "execution_count": 3,
   "metadata": {
    "collapsed": false,
    "jupyter": {
     "outputs_hidden": false
    },
    "tags": []
   },
   "outputs": [
    {
     "name": "stdout",
     "output_type": "stream",
     "text": [
      "This mib file appears to be TEM data. The stack is returned with no reshaping.\n"
     ]
    },
    {
     "ename": "FileNotFoundError",
     "evalue": "[Errno 2] No such file or directory: 'C:\\\\Users\\\\hfyhn\\\\Documents\\\\Skole\\\\Fordypningsoppgave\\\\Data\\\\excite cambridge\\\\D5 muscovite\\\\20230711_130113\\\\metadata.json'",
     "output_type": "error",
     "traceback": [
      "\u001b[1;31m---------------------------------------------------------------------------\u001b[0m",
      "\u001b[1;31mFileNotFoundError\u001b[0m                         Traceback (most recent call last)",
      "Cell \u001b[1;32mIn[3], line 3\u001b[0m\n\u001b[0;32m      1\u001b[0m mib_data \u001b[38;5;241m=\u001b[39m pxm\u001b[38;5;241m.\u001b[39mload_mib(\u001b[38;5;28mstr\u001b[39m(datapath))\n\u001b[0;32m      2\u001b[0m hdr \u001b[38;5;241m=\u001b[39m read_hdr(datapath\u001b[38;5;241m.\u001b[39mwith_suffix(\u001b[38;5;124m'\u001b[39m\u001b[38;5;124m.hdr\u001b[39m\u001b[38;5;124m'\u001b[39m))\n\u001b[1;32m----> 3\u001b[0m \u001b[38;5;28;01mwith\u001b[39;00m \u001b[38;5;28mopen\u001b[39m(datapath\u001b[38;5;241m.\u001b[39mparent\u001b[38;5;241m/\u001b[39m\u001b[38;5;124m'\u001b[39m\u001b[38;5;124mmetadata.json\u001b[39m\u001b[38;5;124m'\u001b[39m, \u001b[38;5;124m'\u001b[39m\u001b[38;5;124mr\u001b[39m\u001b[38;5;124m'\u001b[39m) \u001b[38;5;28;01mas\u001b[39;00m j:\n\u001b[0;32m      4\u001b[0m     parameters \u001b[38;5;241m=\u001b[39m json\u001b[38;5;241m.\u001b[39mloads(j\u001b[38;5;241m.\u001b[39mread())\n",
      "File \u001b[1;32m~\\anaconda3\\envs\\pyxem\\Lib\\site-packages\\IPython\\core\\interactiveshell.py:284\u001b[0m, in \u001b[0;36m_modified_open\u001b[1;34m(file, *args, **kwargs)\u001b[0m\n\u001b[0;32m    277\u001b[0m \u001b[38;5;28;01mif\u001b[39;00m file \u001b[38;5;129;01min\u001b[39;00m {\u001b[38;5;241m0\u001b[39m, \u001b[38;5;241m1\u001b[39m, \u001b[38;5;241m2\u001b[39m}:\n\u001b[0;32m    278\u001b[0m     \u001b[38;5;28;01mraise\u001b[39;00m \u001b[38;5;167;01mValueError\u001b[39;00m(\n\u001b[0;32m    279\u001b[0m         \u001b[38;5;124mf\u001b[39m\u001b[38;5;124m\"\u001b[39m\u001b[38;5;124mIPython won\u001b[39m\u001b[38;5;124m'\u001b[39m\u001b[38;5;124mt let you open fd=\u001b[39m\u001b[38;5;132;01m{\u001b[39;00mfile\u001b[38;5;132;01m}\u001b[39;00m\u001b[38;5;124m by default \u001b[39m\u001b[38;5;124m\"\u001b[39m\n\u001b[0;32m    280\u001b[0m         \u001b[38;5;124m\"\u001b[39m\u001b[38;5;124mas it is likely to crash IPython. If you know what you are doing, \u001b[39m\u001b[38;5;124m\"\u001b[39m\n\u001b[0;32m    281\u001b[0m         \u001b[38;5;124m\"\u001b[39m\u001b[38;5;124myou can use builtins\u001b[39m\u001b[38;5;124m'\u001b[39m\u001b[38;5;124m open.\u001b[39m\u001b[38;5;124m\"\u001b[39m\n\u001b[0;32m    282\u001b[0m     )\n\u001b[1;32m--> 284\u001b[0m \u001b[38;5;28;01mreturn\u001b[39;00m io_open(file, \u001b[38;5;241m*\u001b[39margs, \u001b[38;5;241m*\u001b[39m\u001b[38;5;241m*\u001b[39mkwargs)\n",
      "\u001b[1;31mFileNotFoundError\u001b[0m: [Errno 2] No such file or directory: 'C:\\\\Users\\\\hfyhn\\\\Documents\\\\Skole\\\\Fordypningsoppgave\\\\Data\\\\excite cambridge\\\\D5 muscovite\\\\20230711_130113\\\\metadata.json'"
     ]
    }
   ],
   "source": [
    "mib_data = pxm.load_mib(str(datapath))\n",
    "hdr = read_hdr(datapath.with_suffix('.hdr'))\n",
    "with open(datapath.parent/'metadata.json', 'r') as j:\n",
    "    parameters = json.loads(j.read())"
   ]
  },
  {
   "cell_type": "markdown",
   "metadata": {},
   "source": [
    "In the cell above, `pxm.load_mib()` is used to read the data, while a custom function defined earlier in this notebook is used to read the .hdr file. To read the .json file with our parameters, we use the `json.load()` together with the `Path` objects `.open()` function.\n",
    "\n",
    "Now, let us take a look at each of these different objects:"
   ]
  },
  {
   "cell_type": "code",
   "execution_count": 18,
   "metadata": {
    "collapsed": false,
    "jupyter": {
     "outputs_hidden": false
    }
   },
   "outputs": [
    {
     "name": "stdout",
     "output_type": "stream",
     "text": [
      "<LazyElectronDiffraction2D, title: , dimensions: (65536|256, 256)>\n"
     ]
    }
   ],
   "source": [
    "print(mib_data)"
   ]
  },
  {
   "cell_type": "markdown",
   "metadata": {},
   "source": [
    "The .mib data is loaded as a `LazyElectronDiffraction2D` dataset, without a title, and with dimensions `(256000|256, 256)`. The \"lazy\" part is a clever trick that enables us to work with big datasets without loading everything into memory at the same time. The dimensions in hyperspy are defined as $(X, Y|k_x, k_y)$, where $X$ and $Y$ are the real-space (also called \"navigation axes\", and $k_x$ and $k_y$ are the reciprocal axes (also called the \"signal axes\"). The distinction will become clearer as we go. For now, it is enough to recognize that the data is loaded as a 1-D array (of length $256000$) of diffraction patterns (each with size $256\\times256$)."
   ]
  },
  {
   "cell_type": "code",
   "execution_count": 19,
   "metadata": {
    "collapsed": false,
    "jupyter": {
     "outputs_hidden": false
    }
   },
   "outputs": [
    {
     "name": "stdout",
     "output_type": "stream",
     "text": [
      "{'Time and Date Stamp (day, mnth, yr, hr, min, s)': '08/11/2023 13:14:47', 'Chip ID': 'W559_G11, - , - , -', 'Chip Type (Medipix 3.0, Medipix 3.1, Medipix 3RX)': 'Medipix 3RX', 'Assembly Size (NX1, 2X2)': '1x1', 'Chip Mode  (SPM, CSM, CM, CSCM)': 'SPM', 'Counter Depth (number)': '12', 'Gain': 'SLGM', 'Active Counters': 'Counter 0', 'Thresholds (keV)': '4.000000E+1,5.110000E+2,0.000000E+0,0.000000E+0,0.000000E+0,0.000000E+0,0.000000E+0,0.000000E+0', 'DACs': '068,511,000,000,000,000,000,000,100,255,100,125,100,100,080,100,090,030,128,004,255,126,128,174,172,511,511; ; ;', 'bpc File': 'c:\\\\MERLIN_Quad_Config\\\\W559_G11\\\\W559_G11_SPM.bpc,,,', 'DAC File': 'c:\\\\MERLIN_Quad_Config\\\\W559_G11\\\\W559_G11_SPM.dacs,,,', 'Gap Fill Mode': 'None', 'Flat Field File': 'None', 'Dead Time File': 'Dummy (C:\\\\<NUL>\\\\)', 'Acquisition Type (Normal, Th_scan, Config)': 'Normal', 'Frames in Acquisition (Number)': '65536', 'Frames per Trigger (Number)': '1', 'Trigger Start (Positive, Negative, Internal)': 'Rising Edge', 'Trigger Stop (Positive, Negative, Internal)': 'Internal', 'Sensor Bias (V)': '120 V', 'Sensor Polarity (Positive, Negative)': 'Positive', 'Temperature (C)': 'Board Temp 0.000000 Deg C', 'Humidity (%)': 'Board Humidity 0.000000', 'Medipix Clock (MHz)': '160MHz', 'Readout System': 'Merlin Quad', 'Software Version': '1.0.0.122'}\n"
     ]
    }
   ],
   "source": [
    "print(hdr)"
   ]
  },
  {
   "cell_type": "markdown",
   "metadata": {},
   "source": [
    "The .hdr file on the other hand, is read as a dictionary. In fact, this file is a simple text file that you can open in any text editor software. Our custom function loaded every line of this file into a dictionary so that the information is a little bit more accessible to us if we need it."
   ]
  },
  {
   "cell_type": "code",
   "execution_count": 17,
   "metadata": {
    "collapsed": false,
    "jupyter": {
     "outputs_hidden": false
    }
   },
   "outputs": [
    {
     "name": "stdout",
     "output_type": "stream",
     "text": [
      "{'B240': {'NBD_alpha': '5', 'spot': '0.5 nm', 'diff': '8 cm', 'condenser_aperture': 'smallest', 'precession': '0.7 deg', 'resolution': '1024x256 points', 'stepsize': '1.852 nm (=4)', 'scan_rotation': '0', 'Mirror_scan_x_off': 'true', 'Camera': {'on': '10 ms', 'off': '0.75 ms'}, 'flyback': '50 ms', 'pixel_trigger': 'enabled', 'continuous_mode': 'off', 'Merlin_scan_points': '1024x256', 'thresholds': {'high': '40 kV', 'low': '511 kV'}, 'frame': '10 ms', 'gap_time': '0.617 ms', 'counting_mode': '2x12 bit'}}\n"
     ]
    }
   ],
   "source": [
    "print(parameters)"
   ]
  },
  {
   "cell_type": "markdown",
   "metadata": {},
   "source": [
    "The `parameters.json` file is also loaded as a dictionary. This is very convenient for us as much of this information will be useful to us very soon. You will come across many different ways of recording acquisition parameters and other important metadata, and you will likely find your own way of doing it. However, the .json format is a very convenient way of storing it as you can create these files yourself in any text editor and it will be very easy to read them into python later on. The best advice is to find a way that works for you, and a combination of digital files and paper-notes will most likely be the best option."
   ]
  },
  {
   "cell_type": "markdown",
   "metadata": {},
   "source": [
    "# 2. Reshape and prepare the raw data\n",
    "As we saw above, the .mib data was loaded as a 1D array of diffraction patterns. From the `parameters` dictionary loaded from the \".json\" file we see that the data was acquired as a scan with $X=800$ and $Y=320$ pixels in the first and second directions, respectively. We can use these to reshape the data into a more meaningful representation. However, doing this requires retrieving the `data` object of the `mib_data`."
   ]
  },
  {
   "cell_type": "code",
   "execution_count": 4,
   "metadata": {
    "collapsed": false,
    "jupyter": {
     "outputs_hidden": false
    }
   },
   "outputs": [
    {
     "name": "stdout",
     "output_type": "stream",
     "text": [
      "dask.array<reshape, shape=(65536, 256, 256), dtype=>u2, chunksize=(1021, 256, 256), chunktype=numpy.ndarray>\n"
     ]
    }
   ],
   "source": [
    "data = mib_data.data\n",
    "print(data)"
   ]
  },
  {
   "cell_type": "markdown",
   "metadata": {},
   "source": [
    "We see that the data is a `dask.array` object. This is an object that behaves as a `numpy` array, except that it supports the lazy functionality entioned earlier - it enables us to work with the data without loading everything into memory in one go! Instead, it loads \"chunks\" of this data into memory to work with when requested. The size of these chunks should not be too small (as that would require a lot of read/write operations when using the data) or too large (as that would require more memory). For diffraction data, for instance, we might only need certain parts of the pattern (such as pixels containing reflections), and it is convenient to work with a compomise - a chunksize of 32 is usually ok for many cases. Now, let us reshape the data and change the chunks:"
   ]
  },
  {
   "cell_type": "code",
   "execution_count": 5,
   "metadata": {
    "collapsed": false,
    "jupyter": {
     "outputs_hidden": false
    }
   },
   "outputs": [
    {
     "name": "stdout",
     "output_type": "stream",
     "text": [
      "dask.array<rechunk-merge, shape=(256, 256, 256, 256), dtype=>u2, chunksize=(32, 32, 32, 32), chunktype=numpy.ndarray>\n"
     ]
    }
   ],
   "source": [
    "scan_shape = (256,256)#(parameters['Y'], parameters['X']) #Note that hyperspy flips the axes, so Y is the first, and X is the second when reshaping the data\n",
    "chunksize = 32\n",
    "\n",
    "data = mib_data.data\n",
    "data = data.reshape(scan_shape + mib_data.axes_manager.signal_shape)\n",
    "data = data.rechunk((chunksize,)*4)\n",
    "print(data)"
   ]
  },
  {
   "cell_type": "markdown",
   "metadata": {},
   "source": [
    "Ignore the warnings - they are not crucial at this point. We see that our data is now reshaped into $(y, x, 256, 256)$ shape. We can now use this array to create a new `LazyElectronDiffraction2D` signal:"
   ]
  },
  {
   "cell_type": "code",
   "execution_count": 6,
   "metadata": {
    "collapsed": false,
    "jupyter": {
     "outputs_hidden": false
    }
   },
   "outputs": [
    {
     "name": "stdout",
     "output_type": "stream",
     "text": [
      "<LazyElectronDiffraction2D, title: , dimensions: (256, 256|256, 256)>\n"
     ]
    }
   ],
   "source": [
    "signal = pxm.signals.LazyElectronDiffraction2D(data)\n",
    "print(signal)"
   ]
  },
  {
   "cell_type": "markdown",
   "metadata": {},
   "source": [
    "# 3. Plotting and metadata"
   ]
  },
  {
   "cell_type": "markdown",
   "metadata": {},
   "source": [
    "Now the time has come to start taking a look at our data, let's start by plotting it. You will notice that it takes some time to plot the data (at least the first time). This is because `hyperspy` needs to prepare a `navigator` for you to use to navigate the data. This `navigator` is effectively a map of your scan, and the default representation is that each \"pixel\" in this map is the sum of all the intensities in the associated diffraction pattern.\n",
    "\n",
    "In the figures created by the next cell, you can press the `+` key on your keyboard to increase the size of a handle that you can click and drag around the `navigator` map - you should see the `signal` plot updating showing you the data associated to the central pixel in the handle."
   ]
  },
  {
   "cell_type": "code",
   "execution_count": 7,
   "metadata": {
    "collapsed": false,
    "jupyter": {
     "outputs_hidden": false
    }
   },
   "outputs": [
    {
     "name": "stdout",
     "output_type": "stream",
     "text": [
      "[########################################] | 100% Completed | 24.10 s\n"
     ]
    },
    {
     "name": "stderr",
     "output_type": "stream",
     "text": [
      "C:\\Users\\hfyhn\\anaconda3\\envs\\pyxem\\Lib\\site-packages\\ipykernel\\eventloops.py:128: UserWarning: All values for SymLogScale are below linthresh, making it effectively linear. You likely should lower the value of linthresh. \n",
      "  el.exec() if hasattr(el, 'exec') else el.exec_()\n",
      "C:\\Users\\hfyhn\\anaconda3\\envs\\pyxem\\Lib\\site-packages\\ipykernel\\eventloops.py:128: UserWarning: All values for SymLogScale are below linthresh, making it effectively linear. You likely should lower the value of linthresh. \n",
      "  el.exec() if hasattr(el, 'exec') else el.exec_()\n"
     ]
    }
   ],
   "source": [
    "signal.plot(norm = \"symlog\", cmap = \"Greens_r\")"
   ]
  },
  {
   "cell_type": "markdown",
   "metadata": {},
   "source": [
    "You will see that the scales of the axes in the plots are all `<undefined>`. This is beacause we haven't set any metadata yet! Doing so requires us to either do some calibration ourselves, or have some reference data that we can use. Let us first set the data we can based on the content of our `parameters` dictionary we loaded from the \".json\" file earlier.\n",
    "\n",
    "Metadata can be stored in many ways for a signal. The two most important ways are in the `signal.axes_manager` object and the `signal.metadata` object. Calibrations and scales for the data are set in the `signal.axes_manager` object, while all kinds of metadata can be set in the `signal.metadata` object."
   ]
  },
  {
   "cell_type": "code",
   "execution_count": 8,
   "metadata": {
    "collapsed": false,
    "jupyter": {
     "outputs_hidden": false
    }
   },
   "outputs": [
    {
     "name": "stdout",
     "output_type": "stream",
     "text": [
      "The signal metadata:\n",
      "├── General\n",
      "│   └── title = \n",
      "└── Signal\n",
      "    └── signal_type = electron_diffraction\n",
      "\n",
      "The signal axes:\n",
      "<Axes manager, axes: (11, 11|256, 256)>\n",
      "            Name |   size |  index |  offset |   scale |  units \n",
      "================ | ====== | ====== | ======= | ======= | ====== \n",
      "     <undefined> |     11 |      0 |       0 |       1 | <undefined> \n",
      "     <undefined> |     11 |      0 |       0 |       1 | <undefined> \n",
      "---------------- | ------ | ------ | ------- | ------- | ------ \n",
      "     <undefined> |    256 |      0 |       0 |       1 | <undefined> \n",
      "     <undefined> |    256 |      0 |       0 |       1 | <undefined> \n"
     ]
    }
   ],
   "source": [
    "print(f'The signal metadata:\\n{signal.metadata}')\n",
    "print(f'The signal axes:\\n{signal.axes_manager}')"
   ]
  },
  {
   "cell_type": "markdown",
   "metadata": {},
   "source": [
    "We see that there is very little useful information here yet. Before we do something about that, let us first take a look at another useful `metadata` object: the `signals.original_metadata` object, which can be very useful to store e.g. our head file contents and the contents of `parameters.json`. The difference between `signal.metadata` and `signal.original_metadata` is that the former will be used and changed by `hyperspy` as you run various commands, while the latter will stay unchanged. The `original_metadata` is therefore a very convenient place for us to store our .hdr the `parameters` dictionaries to the `original_metadata`:"
   ]
  },
  {
   "cell_type": "code",
   "execution_count": 8,
   "metadata": {
    "collapsed": false,
    "jupyter": {
     "outputs_hidden": false
    }
   },
   "outputs": [
    {
     "ename": "NameError",
     "evalue": "name 'parameters' is not defined",
     "output_type": "error",
     "traceback": [
      "\u001b[1;31m---------------------------------------------------------------------------\u001b[0m",
      "\u001b[1;31mNameError\u001b[0m                                 Traceback (most recent call last)",
      "Cell \u001b[1;32mIn[8], line 1\u001b[0m\n\u001b[1;32m----> 1\u001b[0m signal\u001b[38;5;241m.\u001b[39moriginal_metadata\u001b[38;5;241m.\u001b[39madd_dictionary({\u001b[38;5;124m'\u001b[39m\u001b[38;5;124mHDR\u001b[39m\u001b[38;5;124m'\u001b[39m: hdr, \u001b[38;5;124m'\u001b[39m\u001b[38;5;124mParameters\u001b[39m\u001b[38;5;124m'\u001b[39m: parameters})\n\u001b[0;32m      2\u001b[0m \u001b[38;5;28mprint\u001b[39m(signal\u001b[38;5;241m.\u001b[39moriginal_metadata)\n",
      "\u001b[1;31mNameError\u001b[0m: name 'parameters' is not defined"
     ]
    }
   ],
   "source": [
    "signal.original_metadata.add_dictionary({'HDR': hdr, 'Parameters': parameters})\n",
    "print(signal.original_metadata)"
   ]
  },
  {
   "cell_type": "markdown",
   "metadata": {},
   "source": [
    "Here we see that the `original_metadata` follows a tree-like structure. If you have nested dictionaries of metadata you want to add, that is no problem at all! The `metadata` object will have the same basic tree-structure."
   ]
  },
  {
   "cell_type": "markdown",
   "metadata": {},
   "source": [
    "Now, finally, let us set some useful metadata in the `signal.metadata` object. You can of course define your own metadata fields, but it is most convenient to use `hyperspy` functionality to set most of them to ensure a systematic way to store the data (by using e.g. `signal.set_experimental_parameters`):"
   ]
  },
  {
   "cell_type": "code",
   "execution_count": 10,
   "metadata": {
    "collapsed": false,
    "jupyter": {
     "outputs_hidden": false
    }
   },
   "outputs": [],
   "source": [
    "signal.metadata.General.title='Muscovite' #Set the title of the data  - this will appear over all plots\n",
    "\n",
    "#Set the most important experimental parameters\n",
    "signal.set_experimental_parameters(beam_energy=parameters['Beam energy'],\n",
    "                                   camera_length=parameters['Camleralength'],\n",
    "                                   scan_rotation=parameters['Rotation'],\n",
    "                                   rocking_angle=parameters['Rocking angle'],\n",
    "                                   rocking_frequency=parameters['Rocking frequency'],\n",
    "                                   exposure_time=parameters['Exposure time']\n",
    "                                   )"
   ]
  },
  {
   "cell_type": "code",
   "execution_count": 11,
   "metadata": {
    "collapsed": false,
    "jupyter": {
     "outputs_hidden": false
    }
   },
   "outputs": [
    {
     "name": "stdout",
     "output_type": "stream",
     "text": [
      "├── Acquisition_instrument\n",
      "│   └── TEM\n",
      "│       ├── Detector\n",
      "│       │   └── Diffraction\n",
      "│       │       ├── camera_length = 10\n",
      "│       │       └── exposure_time = 100\n",
      "│       ├── beam_energy = 200\n",
      "│       ├── rocking_angle = 1.0\n",
      "│       ├── rocking_frequency = 100\n",
      "│       └── scan_rotation = 0\n",
      "├── General\n",
      "│   └── title = Muscovite\n",
      "└── Signal\n",
      "    └── signal_type = electron_diffraction\n",
      "\n"
     ]
    }
   ],
   "source": [
    "print(signal.metadata)"
   ]
  },
  {
   "cell_type": "markdown",
   "metadata": {},
   "source": [
    "Now we see that the `metadata` object contains alot more useful information!"
   ]
  },
  {
   "cell_type": "markdown",
   "metadata": {},
   "source": [
    "Next, let us set the scan step size. This is already recorded in the `parameters` dictionary, so let us use one of those values (called `dx` or `dy` in this case)."
   ]
  },
  {
   "cell_type": "code",
   "execution_count": 12,
   "metadata": {
    "collapsed": false,
    "jupyter": {
     "outputs_hidden": false
    }
   },
   "outputs": [
    {
     "name": "stdout",
     "output_type": "stream",
     "text": [
      "<Axes manager, axes: (11, 11|256, 256)>\n",
      "            Name |   size |  index |  offset |   scale |  units \n",
      "================ | ====== | ====== | ======= | ======= | ====== \n",
      "               x |     11 |      0 |       0 |     1.7 |     nm \n",
      "               y |     11 |      0 |       0 |     1.7 |     nm \n",
      "---------------- | ------ | ------ | ------- | ------- | ------ \n",
      "     <undefined> |    256 |      0 |       0 |       1 | <undefined> \n",
      "     <undefined> |    256 |      0 |       0 |       1 | <undefined> \n"
     ]
    }
   ],
   "source": [
    "signal.set_scan_calibration(parameters['dx'])\n",
    "print(signal.axes_manager)"
   ]
  },
  {
   "cell_type": "code",
   "execution_count": 13,
   "metadata": {
    "tags": []
   },
   "outputs": [],
   "source": [
    "def wavelength(V, \n",
    "            m0=9.1093837015*1e-31, \n",
    "            e=1.60217662*1e-19, \n",
    "            h=6.62607004*1e-34 , \n",
    "            c=299792458):\n",
    "    \"\"\"\n",
    "    Return the wavelength of an accelerated electron in [m]\n",
    "    \n",
    "    Arguments\n",
    "    ---------\n",
    "    V : float, Acceleration voltage of electrons [kV]\n",
    "    m0 : float, Rest mass of electron [kg]\n",
    "    e : float, Elementary charge of electron [C]\n",
    "    h : float, Planck' constant [m^2 kg/s]\n",
    "    c : float, Speed of light in vacuum [m/s]\n",
    "    \"\"\"\n",
    "    V = V*1E3\n",
    "    return h / np.sqrt( 2 * m0 * e * V * ( 1.0 + ( e*V / ( 2*m0*c**2 ) ) ) )\n",
    "\n",
    "def get_d_spacing(a = 1, b = 1, c = 1, h = 0, k = 0, l = 0, beta = np.pi/2, crystal = \"monoclinic\"):\n",
    "    if crystal == \"cubic\":\n",
    "        return 1/(h**2 / a**2 + k**2/b**2 + l**2/c**2)**0.5\n",
    "    \n",
    "    if crystal == \"monoclinic\":\n",
    "        return np.sin(beta)/(h**2/a**2 + k**2 * np.sin(beta)**2/b**2 + l**2 / c**2 - 2*h*l*np.cos(beta)/a*c)**0.5"
   ]
  },
  {
   "cell_type": "code",
   "execution_count": 15,
   "metadata": {
    "tags": []
   },
   "outputs": [
    {
     "name": "stdout",
     "output_type": "stream",
     "text": [
      "<Axes manager, axes: (11, 11|256, 256)>\n",
      "            Name |   size |  index |  offset |   scale |  units \n",
      "================ | ====== | ====== | ======= | ======= | ====== \n",
      "               x |     11 |      0 |       0 |     1.7 |     nm \n",
      "               y |     11 |      0 |       0 |     1.7 |     nm \n",
      "---------------- | ------ | ------ | ------- | ------- | ------ \n",
      "     <undefined> |    256 |      0 |       0 |   0.022 | $Å^{-1}$ \n",
      "     <undefined> |    256 |      0 |       0 |   0.022 | $Å^{-1}$ \n"
     ]
    }
   ],
   "source": [
    "l = wavelength(200)\n",
    "p = 55E-6\n",
    "c = 10E-2\n",
    "#signal.set_scan_calibration(p/(l*c) * 1E-10)#parameters['dx'])\n",
    "signal.axes_manager[-1].scale = p/(l*c) * 1E-10\n",
    "signal.axes_manager[-2].scale = p/(l*c) * 1E-10\n",
    "\n",
    "signal.axes_manager[-1].units = \"$Å^{-1}$\"\n",
    "signal.axes_manager[-2].units = \"$Å^{-1}$\"\n",
    "\n",
    "signal.axes_manager[-1].Name = \"kx\"\n",
    "signal.axes_manager[-2].Name = \"ky\"\n",
    "print(signal.axes_manager)"
   ]
  },
  {
   "cell_type": "markdown",
   "metadata": {
    "jupyter": {
     "outputs_hidden": false
    }
   },
   "source": [
    "# 4. Saving converted data"
   ]
  },
  {
   "cell_type": "code",
   "execution_count": 16,
   "metadata": {
    "collapsed": false,
    "jupyter": {
     "outputs_hidden": false
    }
   },
   "outputs": [],
   "source": [
    "#signal.save(r\"C:\\Users\\hfyhn\\Documents\\Skole\\Fordypningsoppgave\\Data\\Excite_Illite\\SED_256x256_5x5_2p3x2p3nm_NBD5_1nm_12cm\", overwrite=True, chunks=(chunksize,) * 4)\n",
    "signal.save(str(datapath.parent) + r\"\\\\\" + (datapath.stem) + \".hspy\")\n",
    "\n",
    "#signal = hs.load(str(datapath), lazy=True) #Use the lazy keyword to work with big datasets without loading everything into memory at once"
   ]
  },
  {
   "cell_type": "markdown",
   "metadata": {},
   "source": [
    "# 5. Load the converted data"
   ]
  },
  {
   "cell_type": "code",
   "execution_count": 11,
   "metadata": {
    "collapsed": false,
    "jupyter": {
     "outputs_hidden": false
    },
    "tags": []
   },
   "outputs": [],
   "source": [
    "#location = r\"C:\\Users\\hfyhn\\Documents\\Skole\\Fordypningsoppgave\\Data\\excite cambridge\\D5\\20230711_124805\"\n",
    "#location = r\"C:\\Users\\hfyhn\\Documents\\Skole\\Fordypningsoppgave\\Data\\excite cambridge\\A5 illite\\20230710_112932\"\n",
    "#location = r\"C:\\Users\\hfyhn\\Documents\\Skole\\Fordypningsoppgave\\Data\\excite cambridge\\D5 muscovite\\20230711_124805\"\n",
    "location = r\"C:\\Users\\hfyhn\\Documents\\Skole\\Fordypningsoppgave\\Data\\excite cambridge\\A5 illite\\20230710_134854\"\n",
    "\n",
    "#location = r\"C:\\Users\\hfyhn\\Documents\\Skole\\Fordypningsoppgave\\Data\\2023_11_08_Muscovite\\Particle9\\0X0Y\\20231108_131447\\hyperSpy\\SPED_256x256x12_5x5_1p745x1p745nm_NBD_alpha5_spot0p5nm_CL10cm_1deg_100Hz_centered.hspy\"\n",
    "#location = r\"C:\\Users\\hfyhn\\Documents\\Skole\\Fordypningsoppgave\\Data\\2023_11_08_Muscovite\\Particle5\\0X0Y\\20231108_152425\\hyperSpy/SED_128x128x12_30x30_10p47x10p47nm_NBD_alpha5_spot0p5nm_CL10cm_0deg.hspy\"\n",
    "\n",
    "\n",
    "path = r\"\\hyperSpy\"\n",
    "#path = r\"\\HyperSpy\"\n",
    "#datapath = Path(location)\n",
    "#datapath = Path(location + path + r\"\\crystal_3\" + \".hspy\")\n",
    "\n",
    "#datapath = Path(location + path + r\"\\sped_256x256_30x30_15x15nn_MP_6_CL_91mm_1deg_100hz_10ms_centered\" + \".hspy\")\n",
    "datapath = Path(location + path + r\"\\crystal_1_centered\" + \".hspy\")\n",
    "\n",
    "signal = hs.load(str(datapath), lazy=False)"
   ]
  },
  {
   "cell_type": "markdown",
   "metadata": {},
   "source": [
    "### Inspect the data\n",
    "#### Print some info"
   ]
  },
  {
   "cell_type": "code",
   "execution_count": 10,
   "metadata": {
    "collapsed": false,
    "jupyter": {
     "outputs_hidden": false
    },
    "tags": []
   },
   "outputs": [
    {
     "name": "stdout",
     "output_type": "stream",
     "text": [
      "The signal:\n",
      "<ElectronDiffraction2D, title: Muscovite, dimensions: (256, 256|256, 256)>\n",
      "\n",
      "Axes information:\n",
      "<Axes manager, axes: (256, 256|256, 256)>\n",
      "            Name |   size |  index |  offset |   scale |  units \n",
      "================ | ====== | ====== | ======= | ======= | ====== \n",
      "               x |    256 |      0 |       0 |     1.9 |     nm \n",
      "               y |    256 |      0 |       0 |     1.9 |     nm \n",
      "---------------- | ------ | ------ | ------- | ------- | ------ \n",
      "              kx |    256 |      0 |    -1.4 |   0.011 | $Å^{-1}$ \n",
      "              ky |    256 |      0 |    -1.4 |   0.011 | $Å^{-1}$ \n",
      "\n"
     ]
    }
   ],
   "source": [
    "print(f'The signal:\\n{signal}\\n') #Print information about the signal\n",
    "print(f'Axes information:\\n{signal.axes_manager}\\n') #Print information about the axes\n",
    "#print(f'Data:\\n{signal.data}\\n')"
   ]
  },
  {
   "cell_type": "markdown",
   "metadata": {},
   "source": [
    "We see that the signal is a `LazyElectronDiffraction2D` signal without a title, and with 320 x 800 probe positions with a diffraction pattern of 256 x 256 pixels in each position.\n",
    "\n",
    "We also see that the scan step sizes are calibrated, but the diffraction scales are not. This information should _always_ be verified by additional data (calibration samples or reference images)"
   ]
  },
  {
   "cell_type": "markdown",
   "metadata": {},
   "source": [
    "#### Plot the data to see what we have\n",
    "Run the next cell and move around in navigation space to see the different diffraction patterns we have in the sample"
   ]
  },
  {
   "cell_type": "code",
   "execution_count": 9,
   "metadata": {
    "tags": []
   },
   "outputs": [],
   "source": [
    "def update_axes_manager(s, step_size, dx, dy,cl):\n",
    "    names = ['x', 'y', 'kx', 'ky']\n",
    "    scan_units = \"nm\"\n",
    "    \n",
    "    scales = [step_size[0], step_size[1], dx, dy]\n",
    "    offsets = [0, 0, -dx*s.axes_manager[2].size/2, -dy*s.axes_manager[2].size/2]\n",
    "    units = [scan_units, scan_units, '$Å^{-1}$', '$Å^{-1}$']\n",
    "    for ax_no, (name, scale, offset, unit) in enumerate(zip(names, scales, offsets, units)):\n",
    "        s.axes_manager[ax_no].name = name\n",
    "        s.axes_manager[ax_no].scale = scale\n",
    "\n",
    "        s.axes_manager[ax_no].offset = offset\n",
    "        s.axes_manager[ax_no].units = unit    \n",
    "        \n",
    "    return s"
   ]
  },
  {
   "cell_type": "code",
   "execution_count": 12,
   "metadata": {
    "collapsed": false,
    "jupyter": {
     "outputs_hidden": false
    },
    "tags": []
   },
   "outputs": [
    {
     "name": "stderr",
     "output_type": "stream",
     "text": [
      "C:\\Users\\hfyhn\\anaconda3\\envs\\pyxem\\Lib\\site-packages\\ipykernel\\eventloops.py:128: UserWarning: All values for SymLogScale are below linthresh, making it effectively linear. You likely should lower the value of linthresh. \n",
      "  el.exec() if hasattr(el, 'exec') else el.exec_()\n",
      "C:\\Users\\hfyhn\\anaconda3\\envs\\pyxem\\Lib\\site-packages\\ipykernel\\eventloops.py:128: UserWarning: All values for SymLogScale are below linthresh, making it effectively linear. You likely should lower the value of linthresh. \n",
      "  el.exec() if hasattr(el, 'exec') else el.exec_()\n",
      "C:\\Users\\hfyhn\\anaconda3\\envs\\pyxem\\Lib\\site-packages\\ipykernel\\eventloops.py:128: UserWarning: All values for SymLogScale are below linthresh, making it effectively linear. You likely should lower the value of linthresh. \n",
      "  el.exec() if hasattr(el, 'exec') else el.exec_()\n"
     ]
    }
   ],
   "source": [
    "signal = update_axes_manager(signal, [19.2086316]*2, 0.010212846154005488, 0.010212846154005488,128.9688844279534)\n",
    "\n",
    "signal.plot(norm='symlog') #Plot the data with a \"symmetrical log\" intensity scale (this avoids log(0) which is undefined"
   ]
  },
  {
   "cell_type": "markdown",
   "metadata": {},
   "source": [
    "Run the next cell to create interactive virtual images of the data"
   ]
  },
  {
   "cell_type": "code",
   "execution_count": 7,
   "metadata": {
    "collapsed": false,
    "jupyter": {
     "outputs_hidden": false
    },
    "tags": []
   },
   "outputs": [
    {
     "name": "stdout",
     "output_type": "stream",
     "text": [
      "2.614488615425405\n"
     ]
    }
   ],
   "source": [
    "#roi = hs.roi.CircleROI(0.0, 0.0, 0.1) #For calibrated data sets\n",
    "# For uncalibrated data sets:\n",
    "nx, ny = 256,256#signal.axes_manager.signal_shape#Get the signal shape\n",
    "nx *= signal.axes_manager[2].scale \n",
    "ny *= signal.axes_manager[3].scale \n",
    "print(nx)\n",
    "roi = hs.roi.CircleROI(0.00, 0.00, 0.07) #For calibrated data sets, position the ROI at the middle of the diffraction pattern and with a radius of 10 pixels\n",
    "signal.plot_integrated_intensity(roi)"
   ]
  },
  {
   "cell_type": "code",
   "execution_count": 22,
   "metadata": {
    "tags": []
   },
   "outputs": [
    {
     "name": "stdout",
     "output_type": "stream",
     "text": [
      "CircleROI(cx=0.0102128, cy=0.0612771, r=0.137873, r_inner=0)\n"
     ]
    }
   ],
   "source": [
    "print(roi)"
   ]
  },
  {
   "cell_type": "markdown",
   "metadata": {},
   "source": [
    "# 6. Create VBF and crop the data\n",
    "It is often useful to use a virtual bright field (VBF) image when cropping the data. You can use this to represent the data and add a ROI widget that you can freely move around before using it to crop the data."
   ]
  },
  {
   "cell_type": "markdown",
   "metadata": {},
   "source": [
    "First, create a VBF"
   ]
  },
  {
   "cell_type": "code",
   "execution_count": 19,
   "metadata": {
    "collapsed": false,
    "jupyter": {
     "outputs_hidden": false
    },
    "tags": []
   },
   "outputs": [
    {
     "name": "stdout",
     "output_type": "stream",
     "text": [
      "[########################################] | 100% Completed | 88.62 s\n"
     ]
    }
   ],
   "source": [
    "vbf = signal.get_integrated_intensity(hs.roi.CircleROI(cx=2.40993E-05, cy=0, r=0.000325341, r_inner=0))\n",
    "vbf.compute()"
   ]
  },
  {
   "cell_type": "markdown",
   "metadata": {},
   "source": [
    "Next, plot the VBF and add a ROI widget to the data. Move the ROI around the VBF and reshape it to cover the most interesting parts of the data"
   ]
  },
  {
   "cell_type": "code",
   "execution_count": 20,
   "metadata": {
    "collapsed": false,
    "jupyter": {
     "outputs_hidden": false
    },
    "tags": []
   },
   "outputs": [
    {
     "data": {
      "text/plain": [
       "<hyperspy.drawing._widgets.rectangles.RectangleWidget at 0x13ecc92c950>"
      ]
     },
     "execution_count": 20,
     "metadata": {},
     "output_type": "execute_result"
    },
    {
     "name": "stderr",
     "output_type": "stream",
     "text": [
      "C:\\Users\\hfyhn\\anaconda3\\envs\\pyxem\\Lib\\site-packages\\ipykernel\\eventloops.py:128: UserWarning: All values for SymLogScale are below linthresh, making it effectively linear. You likely should lower the value of linthresh. \n",
      "  el.exec() if hasattr(el, 'exec') else el.exec_()\n"
     ]
    }
   ],
   "source": [
    "vbf.plot()\n",
    "#left, right, top, bottom = vbf.axes_manager.signal_extent #Set the roi to cover the whole scan area\n",
    "left, right, top, bottom = 1385.3, 8077.5, 234.278, 1028.79 #Select a pre-defined region\n",
    "roi = hs.roi.RectangularROI(left=left, right=right, top=top, bottom=bottom)\n",
    "roi.add_widget(vbf)"
   ]
  },
  {
   "cell_type": "markdown",
   "metadata": {},
   "source": [
    "Run the next cell to crop the data. Note that this overwrites the `signal` variable, so if you regret your cropping, you will have to reload the original data!"
   ]
  },
  {
   "cell_type": "code",
   "execution_count": 21,
   "metadata": {
    "tags": []
   },
   "outputs": [],
   "source": [
    "signal = roi(signal) "
   ]
  },
  {
   "cell_type": "markdown",
   "metadata": {},
   "source": [
    "Plot the cropped data to verify that it looks good"
   ]
  },
  {
   "cell_type": "code",
   "execution_count": 22,
   "metadata": {
    "tags": []
   },
   "outputs": [
    {
     "name": "stdout",
     "output_type": "stream",
     "text": [
      "[########################################] | 100% Completed | 8.89 ss\n"
     ]
    }
   ],
   "source": [
    "signal.plot(norm='symlog')"
   ]
  },
  {
   "cell_type": "markdown",
   "metadata": {},
   "source": [
    "Save the cropped data"
   ]
  },
  {
   "cell_type": "code",
   "execution_count": 29,
   "metadata": {
    "tags": []
   },
   "outputs": [],
   "source": [
    "signal.save(datapath.with_name(f'{datapath.stem}_cropped.hspy'))"
   ]
  },
  {
   "cell_type": "markdown",
   "metadata": {},
   "source": [
    "Load the newly created cropped dataset - useful if you are starting the notebook over at a later point"
   ]
  },
  {
   "cell_type": "code",
   "execution_count": 5,
   "metadata": {
    "tags": []
   },
   "outputs": [],
   "source": [
    "signal = hs.load(datapath.with_name(f'{datapath.stem}_cropped.hspy'), lazy=True)"
   ]
  },
  {
   "cell_type": "markdown",
   "metadata": {},
   "source": [
    "Print the signal to verify its shape, data size, etc"
   ]
  },
  {
   "cell_type": "code",
   "execution_count": 23,
   "metadata": {
    "tags": []
   },
   "outputs": [
    {
     "data": {
      "text/html": [
       "<table>\n",
       "    <tr>\n",
       "        <td>\n",
       "            <table>\n",
       "                <thead>\n",
       "                    <tr>\n",
       "                        <th> Title: </th>\n",
       "                        <td>  </td>\n",
       "                    </tr>\n",
       "                    <tr>\n",
       "                        <th> SignalType: </th>\n",
       "                        <td> electron_diffraction </td>\n",
       "                    </tr>\n",
       "                </thead>\n",
       "                <thead>\n",
       "                    <tr>\n",
       "                        <td>  </td>\n",
       "                        <th> Array </th>\n",
       "                        <th> Chunk </th>\n",
       "                    </tr>\n",
       "                </thead>\n",
       "                <tbody>\n",
       "                    \n",
       "                    <tr>\n",
       "                        <th> Bytes </th>\n",
       "                        <td> 850.50 MiB </td>\n",
       "                        <td> 512.00 kiB </td>\n",
       "                    </tr>\n",
       "                    \n",
       "                    <tr>\n",
       "                        <th> Shape </th>\n",
       "                        <td> (84, 81|256, 256) </td>\n",
       "                        <td> (2,2|<b>256</b>,<b>256</b>) </td>\n",
       "                    </tr>\n",
       "                    <tr>\n",
       "                        <th> Count </th>\n",
       "                        <td> 18148 Tasks </td>\n",
       "                        <td> 1763 Chunks </td>\n",
       "                    </tr>\n",
       "                    <tr>\n",
       "                    <th> Type </th>\n",
       "                    <td> >u2 </td>\n",
       "                    <td> numpy.ndarray </td>\n",
       "                    </tr>\n",
       "                </tbody>\n",
       "            </table>\n",
       "        </td>\n",
       "        <td>\n",
       "            <table>\n",
       "                <thead>\n",
       "                    <tr>\n",
       "                        <th><p style=\"text-align:left;\">Navigation Axes</p>  </th>\n",
       "                        <th> <p style=\"text-align:left;\">Signal Axes</p> </th>\n",
       "                    </tr>\n",
       "                </thead>\n",
       "                <tbody>\n",
       "                    <tr>\n",
       "                        <td> <svg width=\"170\" height=\"165\" style=\"stroke:rgb(0,0,0);stroke-width:1\" >\n",
       "\n",
       "  <!-- Horizontal lines -->\n",
       "  <line x1=\"0\" y1=\"0\" x2=\"120\" y2=\"0\" style=\"stroke-width:2\" />\n",
       "  <line x1=\"0\" y1=\"5\" x2=\"120\" y2=\"5\" />\n",
       "  <line x1=\"0\" y1=\"11\" x2=\"120\" y2=\"11\" />\n",
       "  <line x1=\"0\" y1=\"17\" x2=\"120\" y2=\"17\" />\n",
       "  <line x1=\"0\" y1=\"22\" x2=\"120\" y2=\"22\" />\n",
       "  <line x1=\"0\" y1=\"28\" x2=\"120\" y2=\"28\" />\n",
       "  <line x1=\"0\" y1=\"34\" x2=\"120\" y2=\"34\" />\n",
       "  <line x1=\"0\" y1=\"42\" x2=\"120\" y2=\"42\" />\n",
       "  <line x1=\"0\" y1=\"48\" x2=\"120\" y2=\"48\" />\n",
       "  <line x1=\"0\" y1=\"54\" x2=\"120\" y2=\"54\" />\n",
       "  <line x1=\"0\" y1=\"60\" x2=\"120\" y2=\"60\" />\n",
       "  <line x1=\"0\" y1=\"65\" x2=\"120\" y2=\"65\" />\n",
       "  <line x1=\"0\" y1=\"71\" x2=\"120\" y2=\"71\" />\n",
       "  <line x1=\"0\" y1=\"80\" x2=\"120\" y2=\"80\" />\n",
       "  <line x1=\"0\" y1=\"85\" x2=\"120\" y2=\"85\" />\n",
       "  <line x1=\"0\" y1=\"91\" x2=\"120\" y2=\"91\" />\n",
       "  <line x1=\"0\" y1=\"97\" x2=\"120\" y2=\"97\" />\n",
       "  <line x1=\"0\" y1=\"102\" x2=\"120\" y2=\"102\" />\n",
       "  <line x1=\"0\" y1=\"108\" x2=\"120\" y2=\"108\" />\n",
       "  <line x1=\"0\" y1=\"115\" x2=\"120\" y2=\"115\" style=\"stroke-width:2\" />\n",
       "\n",
       "  <!-- Vertical lines -->\n",
       "  <line x1=\"0\" y1=\"0\" x2=\"0\" y2=\"115\" style=\"stroke-width:2\" />\n",
       "  <line x1=\"4\" y1=\"0\" x2=\"4\" y2=\"115\" />\n",
       "  <line x1=\"10\" y1=\"0\" x2=\"10\" y2=\"115\" />\n",
       "  <line x1=\"15\" y1=\"0\" x2=\"15\" y2=\"115\" />\n",
       "  <line x1=\"24\" y1=\"0\" x2=\"24\" y2=\"115\" />\n",
       "  <line x1=\"30\" y1=\"0\" x2=\"30\" y2=\"115\" />\n",
       "  <line x1=\"35\" y1=\"0\" x2=\"35\" y2=\"115\" />\n",
       "  <line x1=\"41\" y1=\"0\" x2=\"41\" y2=\"115\" />\n",
       "  <line x1=\"50\" y1=\"0\" x2=\"50\" y2=\"115\" />\n",
       "  <line x1=\"55\" y1=\"0\" x2=\"55\" y2=\"115\" />\n",
       "  <line x1=\"61\" y1=\"0\" x2=\"61\" y2=\"115\" />\n",
       "  <line x1=\"67\" y1=\"0\" x2=\"67\" y2=\"115\" />\n",
       "  <line x1=\"75\" y1=\"0\" x2=\"75\" y2=\"115\" />\n",
       "  <line x1=\"81\" y1=\"0\" x2=\"81\" y2=\"115\" />\n",
       "  <line x1=\"87\" y1=\"0\" x2=\"87\" y2=\"115\" />\n",
       "  <line x1=\"92\" y1=\"0\" x2=\"92\" y2=\"115\" />\n",
       "  <line x1=\"101\" y1=\"0\" x2=\"101\" y2=\"115\" />\n",
       "  <line x1=\"107\" y1=\"0\" x2=\"107\" y2=\"115\" />\n",
       "  <line x1=\"112\" y1=\"0\" x2=\"112\" y2=\"115\" />\n",
       "  <line x1=\"120\" y1=\"0\" x2=\"120\" y2=\"115\" style=\"stroke-width:2\" />\n",
       "\n",
       "  <!-- Colored Rectangle -->\n",
       "  <polygon points=\"0.0,0.0 120.0,0.0 120.0,115.71428571428572 0.0,115.71428571428572\" style=\"fill:#8B4903A0;stroke-width:0\"/>\n",
       "\n",
       "  <!-- Text -->\n",
       "  <text x=\"60.000000\" y=\"135.714286\" font-size=\"1.0rem\" font-weight=\"100\" text-anchor=\"middle\" >84</text>\n",
       "  <text x=\"140.000000\" y=\"57.857143\" font-size=\"1.0rem\" font-weight=\"100\" text-anchor=\"middle\" transform=\"rotate(0,140.000000,57.857143)\">81</text>\n",
       "</svg> </td>\n",
       "                        <td> <svg width=\"170\" height=\"170\" style=\"stroke:rgb(0,0,0);stroke-width:1\" >\n",
       "\n",
       "  <!-- Horizontal lines -->\n",
       "  <line x1=\"0\" y1=\"0\" x2=\"120\" y2=\"0\" style=\"stroke-width:2\" />\n",
       "  <line x1=\"0\" y1=\"120\" x2=\"120\" y2=\"120\" style=\"stroke-width:2\" />\n",
       "\n",
       "  <!-- Vertical lines -->\n",
       "  <line x1=\"0\" y1=\"0\" x2=\"0\" y2=\"120\" style=\"stroke-width:2\" />\n",
       "  <line x1=\"120\" y1=\"0\" x2=\"120\" y2=\"120\" style=\"stroke-width:2\" />\n",
       "\n",
       "  <!-- Colored Rectangle -->\n",
       "  <polygon points=\"0.0,0.0 120.0,0.0 120.0,120.0 0.0,120.0\" style=\"fill:#ECB172A0;stroke-width:0\"/>\n",
       "\n",
       "  <!-- Text -->\n",
       "  <text x=\"60.000000\" y=\"140.000000\" font-size=\"1.0rem\" font-weight=\"100\" text-anchor=\"middle\" >256</text>\n",
       "  <text x=\"140.000000\" y=\"60.000000\" font-size=\"1.0rem\" font-weight=\"100\" text-anchor=\"middle\" transform=\"rotate(-90,140.000000,60.000000)\">256</text>\n",
       "</svg> </td>\n",
       "                    </tr>\n",
       "                </tbody>\n",
       "            </table>\n",
       "        </td>\n",
       "    </tr>\n",
       "</table>"
      ],
      "text/plain": [
       "<LazyElectronDiffraction2D, title: , dimensions: (84, 81|256, 256)>"
      ]
     },
     "execution_count": 23,
     "metadata": {},
     "output_type": "execute_result"
    }
   ],
   "source": [
    "signal"
   ]
  },
  {
   "cell_type": "markdown",
   "metadata": {},
   "source": [
    "# 7. Center data "
   ]
  },
  {
   "cell_type": "code",
   "execution_count": 44,
   "metadata": {
    "tags": []
   },
   "outputs": [],
   "source": [
    "def make_nav_mask(signal, width=None):\n",
    "    mask = hs.signals.Signal2D(np.zeros(signal.axes_manager.navigation_shape, dtype=bool).T).T\n",
    "    if width is not None:\n",
    "        mask.inav[width:-width, width:-width] = True\n",
    "    return mask\n",
    "\n",
    "def correct_shifts_COM(signal, com_mask, nav_mask=None, plot_results=False, inplace=False):\n",
    "    com = signal.center_of_mass(mask=com_mask)\n",
    "    if plot_results:\n",
    "        com.get_bivariate_histogram().plot()\n",
    "        \n",
    "    beam_shift = pxm.signals.BeamShift(com.T)\n",
    "    beam_shift.make_linear_plane(mask=nav_mask)\n",
    "    print(beam_shift)\n",
    "    print(beam_shift.isig[0] - signal.axes_manager.signal_shape[0]/2.0)\n",
    "    print(beam_shift.isig[1], signal.axes_manager.signal_shape[1]/2.0)\n",
    "\n",
    "    x_shift, y_shift = [beam_shift.isig[ax] - signal.axes_manager.signal_shape[ax]/2.0 for ax in (0, 1)]\n",
    "    \n",
    "    print(f'Estimated beam shift X min/max = ({x_shift.min().data}, {x_shift.max().data})\\nEstimated beam shift Y min/max = ({y_shift.min().data}, {y_shift.max().data})')\n",
    "    \n",
    "    dp_max_before = signal.max(axis=[0, 1])\n",
    "    \n",
    "    #A trick to make sure that the shifted signal contains the same metadata etc as the original signal. Might not be needed...\n",
    "    if not inplace:\n",
    "        shifted_signal = signal.deepcopy()\n",
    "    else:\n",
    "        shifted_signal = signal\n",
    "    \n",
    "    shifted_signal.shift_diffraction(x_shift, y_shift, inplace=True)\n",
    "    \n",
    "    dp_max_after = shifted_signal.max(axis=[0, 1])\n",
    "        \n",
    "    if plot_results:\n",
    "        hs.plot.plot_images([dp_max_before, dp_max_after], overlay=True, colors=['w', 'r'], axes_decor='off', alphas=[1, 0.75])\n",
    "    \n",
    "    return shifted_signal, x_shift, y_shift\n",
    "    "
   ]
  },
  {
   "cell_type": "code",
   "execution_count": 32,
   "metadata": {
    "tags": []
   },
   "outputs": [],
   "source": [
    "dp_max = signal.max(axis=[0, 1])"
   ]
  },
  {
   "cell_type": "code",
   "execution_count": 33,
   "metadata": {
    "tags": []
   },
   "outputs": [
    {
     "data": {
      "text/plain": [
       "(0.0, 0.0, 0.0029521694141985133)"
      ]
     },
     "execution_count": 33,
     "metadata": {},
     "output_type": "execute_result"
    }
   ],
   "source": [
    "(roi.cx, roi.cy, roi.r)\n"
   ]
  },
  {
   "cell_type": "code",
   "execution_count": 43,
   "metadata": {
    "tags": []
   },
   "outputs": [
    {
     "data": {
      "text/plain": [
       "<hyperspy.drawing._widgets.circle.CircleWidget at 0x13eec4b5ad0>"
      ]
     },
     "execution_count": 43,
     "metadata": {},
     "output_type": "execute_result"
    }
   ],
   "source": [
    "dp_max.plot(norm='symlog')\n",
    "x0, y0 = dp_max.axes_manager.signal_shape\n",
    "x0, y0 = x0//2, y0//2\n",
    "roi = hs.roi.CircleROI(x0, y0, 10)\n",
    "roi.add_widget(dp_max)"
   ]
  },
  {
   "cell_type": "code",
   "execution_count": 45,
   "metadata": {
    "tags": []
   },
   "outputs": [
    {
     "name": "stdout",
     "output_type": "stream",
     "text": [
      "[########################################] | 100% Completed | 10.88 ss\n",
      "<BeamShift, title: , dimensions: (84, 81|2)>\n",
      "<BaseSignal, title: , dimensions: (84, 81|)>\n",
      "<BaseSignal, title: , dimensions: (84, 81|)> 128.0\n",
      "Estimated beam shift X min/max = ([-0.69649174], [1.5939149])\n",
      "Estimated beam shift Y min/max = ([-1.82969391], [0.11826048])\n"
     ]
    }
   ],
   "source": [
    "shifted_signal, shift_x, shift_y = correct_shifts_COM(signal, (roi.cx, roi.cy, roi.r), plot_results=False)"
   ]
  },
  {
   "cell_type": "code",
   "execution_count": 46,
   "metadata": {
    "tags": []
   },
   "outputs": [
    {
     "name": "stdout",
     "output_type": "stream",
     "text": [
      "[########################################] | 100% Completed | 22.14 s\n",
      "<BeamShift, title: , dimensions: (84, 81|2)>\n",
      "<BaseSignal, title: , dimensions: (84, 81|)>\n",
      "<BaseSignal, title: , dimensions: (84, 81|)> 128.0\n",
      "Estimated beam shift X min/max = ([-0.24256196], [0.6087789])\n",
      "Estimated beam shift Y min/max = ([-0.7234763], [0.0461724])\n"
     ]
    }
   ],
   "source": [
    "nx, ny = shifted_signal.axes_manager.signal_shape\n",
    "nx, ny = nx/2.0, ny/2.0\n",
    "shifted_signal_2, shift_x, shift_y = correct_shifts_COM(shifted_signal, (nx, ny, roi.r,), plot_results=True)"
   ]
  },
  {
   "cell_type": "code",
   "execution_count": 47,
   "metadata": {
    "tags": []
   },
   "outputs": [],
   "source": [
    "signal = shifted_signal_2"
   ]
  },
  {
   "cell_type": "markdown",
   "metadata": {},
   "source": [
    "# 8. Calibrate diffraction space"
   ]
  },
  {
   "cell_type": "markdown",
   "metadata": {},
   "source": [
    "Plot the data and move to a pattern you can index manually"
   ]
  },
  {
   "cell_type": "code",
   "execution_count": 48,
   "metadata": {
    "tags": []
   },
   "outputs": [
    {
     "name": "stderr",
     "output_type": "stream",
     "text": [
      "C:\\Users\\hfyhn\\anaconda3\\envs\\pyxem\\Lib\\site-packages\\ipykernel\\eventloops.py:128: UserWarning: All values for SymLogScale are below linthresh, making it effectively linear. You likely should lower the value of linthresh. \n",
      "  el.exec() if hasattr(el, 'exec') else el.exec_()\n"
     ]
    }
   ],
   "source": [
    "signal.plot(norm='symlog')"
   ]
  },
  {
   "cell_type": "markdown",
   "metadata": {},
   "source": [
    "Plot the pattern and add a line that you use to create a line-profile across some known reflections"
   ]
  },
  {
   "cell_type": "code",
   "execution_count": 49,
   "metadata": {
    "tags": []
   },
   "outputs": [
    {
     "data": {
      "text/plain": [
       "<hyperspy.drawing._widgets.range.RangeWidget at 0x13eda128310>"
      ]
     },
     "execution_count": 49,
     "metadata": {},
     "output_type": "execute_result"
    },
    {
     "name": "stderr",
     "output_type": "stream",
     "text": [
      "C:\\Users\\hfyhn\\anaconda3\\envs\\pyxem\\Lib\\site-packages\\hyperspy\\drawing\\signal1d.py:233: UserWarning: Attempt to set non-positive ylim on a log-scaled axis will be ignored.\n",
      "  ax.set_ylim(y_min, y_max)\n",
      "C:\\Users\\hfyhn\\anaconda3\\envs\\pyxem\\Lib\\site-packages\\hyperspy\\drawing\\signal1d.py:233: UserWarning: Attempt to set non-positive ylim on a log-scaled axis will be ignored.\n",
      "  ax.set_ylim(y_min, y_max)\n",
      "C:\\Users\\hfyhn\\anaconda3\\envs\\pyxem\\Lib\\site-packages\\hyperspy\\drawing\\signal1d.py:233: UserWarning: Attempt to set non-positive ylim on a log-scaled axis will be ignored.\n",
      "  ax.set_ylim(y_min, y_max)\n",
      "C:\\Users\\hfyhn\\anaconda3\\envs\\pyxem\\Lib\\site-packages\\hyperspy\\drawing\\signal1d.py:233: UserWarning: Attempt to set non-positive ylim on a log-scaled axis will be ignored.\n",
      "  ax.set_ylim(y_min, y_max)\n",
      "C:\\Users\\hfyhn\\anaconda3\\envs\\pyxem\\Lib\\site-packages\\hyperspy\\drawing\\signal1d.py:233: UserWarning: Attempt to set non-positive ylim on a log-scaled axis will be ignored.\n",
      "  ax.set_ylim(y_min, y_max)\n",
      "C:\\Users\\hfyhn\\anaconda3\\envs\\pyxem\\Lib\\site-packages\\hyperspy\\drawing\\signal1d.py:233: UserWarning: Attempt to set non-positive ylim on a log-scaled axis will be ignored.\n",
      "  ax.set_ylim(y_min, y_max)\n",
      "C:\\Users\\hfyhn\\anaconda3\\envs\\pyxem\\Lib\\site-packages\\hyperspy\\drawing\\signal1d.py:233: UserWarning: Attempt to set non-positive ylim on a log-scaled axis will be ignored.\n",
      "  ax.set_ylim(y_min, y_max)\n",
      "C:\\Users\\hfyhn\\anaconda3\\envs\\pyxem\\Lib\\site-packages\\hyperspy\\drawing\\signal1d.py:233: UserWarning: Attempt to set non-positive ylim on a log-scaled axis will be ignored.\n",
      "  ax.set_ylim(y_min, y_max)\n",
      "C:\\Users\\hfyhn\\anaconda3\\envs\\pyxem\\Lib\\site-packages\\hyperspy\\drawing\\signal1d.py:233: UserWarning: Attempt to set non-positive ylim on a log-scaled axis will be ignored.\n",
      "  ax.set_ylim(y_min, y_max)\n",
      "C:\\Users\\hfyhn\\anaconda3\\envs\\pyxem\\Lib\\site-packages\\hyperspy\\drawing\\signal1d.py:233: UserWarning: Attempt to set non-positive ylim on a log-scaled axis will be ignored.\n",
      "  ax.set_ylim(y_min, y_max)\n",
      "C:\\Users\\hfyhn\\anaconda3\\envs\\pyxem\\Lib\\site-packages\\hyperspy\\drawing\\signal1d.py:233: UserWarning: Attempt to set non-positive ylim on a log-scaled axis will be ignored.\n",
      "  ax.set_ylim(y_min, y_max)\n",
      "C:\\Users\\hfyhn\\anaconda3\\envs\\pyxem\\Lib\\site-packages\\ipykernel\\eventloops.py:128: UserWarning: All values for SymLogScale are below linthresh, making it effectively linear. You likely should lower the value of linthresh. \n",
      "  el.exec() if hasattr(el, 'exec') else el.exec_()\n",
      "Traceback (most recent call last):\n",
      "  File \"C:\\Users\\hfyhn\\anaconda3\\envs\\pyxem\\Lib\\site-packages\\matplotlib\\cbook\\__init__.py\", line 304, in process\n",
      "    func(*args, **kwargs)\n",
      "  File \"C:\\Users\\hfyhn\\anaconda3\\envs\\pyxem\\Lib\\site-packages\\hyperspy\\drawing\\_widgets\\line2d.py\", line 397, in _onmousemove\n",
      "    self._resize(event)\n",
      "  File \"C:\\Users\\hfyhn\\anaconda3\\envs\\pyxem\\Lib\\site-packages\\hyperspy\\drawing\\_widgets\\line2d.py\", line 429, in _resize\n",
      "    dx = self._get_diff(event)\n",
      "         ^^^^^^^^^^^^^^^^^^^^^\n",
      "  File \"C:\\Users\\hfyhn\\anaconda3\\envs\\pyxem\\Lib\\site-packages\\hyperspy\\drawing\\_widgets\\line2d.py\", line 410, in _get_diff\n",
      "    dx = event.xdata - self._drag_start[0]\n",
      "         ~~~~~~~~~~~~^~~~~~~~~~~~~~~~~~~~~\n",
      "TypeError: unsupported operand type(s) for -: 'float' and 'NoneType'\n",
      "Traceback (most recent call last):\n",
      "  File \"C:\\Users\\hfyhn\\anaconda3\\envs\\pyxem\\Lib\\site-packages\\matplotlib\\cbook\\__init__.py\", line 304, in process\n",
      "    func(*args, **kwargs)\n",
      "  File \"C:\\Users\\hfyhn\\anaconda3\\envs\\pyxem\\Lib\\site-packages\\hyperspy\\drawing\\_widgets\\line2d.py\", line 397, in _onmousemove\n",
      "    self._resize(event)\n",
      "  File \"C:\\Users\\hfyhn\\anaconda3\\envs\\pyxem\\Lib\\site-packages\\hyperspy\\drawing\\_widgets\\line2d.py\", line 429, in _resize\n",
      "    dx = self._get_diff(event)\n",
      "         ^^^^^^^^^^^^^^^^^^^^^\n",
      "  File \"C:\\Users\\hfyhn\\anaconda3\\envs\\pyxem\\Lib\\site-packages\\hyperspy\\drawing\\_widgets\\line2d.py\", line 410, in _get_diff\n",
      "    dx = event.xdata - self._drag_start[0]\n",
      "         ~~~~~~~~~~~~^~~~~~~~~~~~~~~~~~~~~\n",
      "TypeError: unsupported operand type(s) for -: 'float' and 'NoneType'\n",
      "Traceback (most recent call last):\n",
      "  File \"C:\\Users\\hfyhn\\anaconda3\\envs\\pyxem\\Lib\\site-packages\\matplotlib\\cbook\\__init__.py\", line 304, in process\n",
      "    func(*args, **kwargs)\n",
      "  File \"C:\\Users\\hfyhn\\anaconda3\\envs\\pyxem\\Lib\\site-packages\\hyperspy\\drawing\\_widgets\\line2d.py\", line 397, in _onmousemove\n",
      "    self._resize(event)\n",
      "  File \"C:\\Users\\hfyhn\\anaconda3\\envs\\pyxem\\Lib\\site-packages\\hyperspy\\drawing\\_widgets\\line2d.py\", line 429, in _resize\n",
      "    dx = self._get_diff(event)\n",
      "         ^^^^^^^^^^^^^^^^^^^^^\n",
      "  File \"C:\\Users\\hfyhn\\anaconda3\\envs\\pyxem\\Lib\\site-packages\\hyperspy\\drawing\\_widgets\\line2d.py\", line 410, in _get_diff\n",
      "    dx = event.xdata - self._drag_start[0]\n",
      "         ~~~~~~~~~~~~^~~~~~~~~~~~~~~~~~~~~\n",
      "TypeError: unsupported operand type(s) for -: 'float' and 'NoneType'\n",
      "Traceback (most recent call last):\n",
      "  File \"C:\\Users\\hfyhn\\anaconda3\\envs\\pyxem\\Lib\\site-packages\\matplotlib\\cbook\\__init__.py\", line 304, in process\n",
      "    func(*args, **kwargs)\n",
      "  File \"C:\\Users\\hfyhn\\anaconda3\\envs\\pyxem\\Lib\\site-packages\\hyperspy\\drawing\\_widgets\\line2d.py\", line 397, in _onmousemove\n",
      "    self._resize(event)\n",
      "  File \"C:\\Users\\hfyhn\\anaconda3\\envs\\pyxem\\Lib\\site-packages\\hyperspy\\drawing\\_widgets\\line2d.py\", line 429, in _resize\n",
      "    dx = self._get_diff(event)\n",
      "         ^^^^^^^^^^^^^^^^^^^^^\n",
      "  File \"C:\\Users\\hfyhn\\anaconda3\\envs\\pyxem\\Lib\\site-packages\\hyperspy\\drawing\\_widgets\\line2d.py\", line 410, in _get_diff\n",
      "    dx = event.xdata - self._drag_start[0]\n",
      "         ~~~~~~~~~~~~^~~~~~~~~~~~~~~~~~~~~\n",
      "TypeError: unsupported operand type(s) for -: 'float' and 'NoneType'\n",
      "Traceback (most recent call last):\n",
      "  File \"C:\\Users\\hfyhn\\anaconda3\\envs\\pyxem\\Lib\\site-packages\\matplotlib\\cbook\\__init__.py\", line 304, in process\n",
      "    func(*args, **kwargs)\n",
      "  File \"C:\\Users\\hfyhn\\anaconda3\\envs\\pyxem\\Lib\\site-packages\\hyperspy\\drawing\\_widgets\\line2d.py\", line 397, in _onmousemove\n",
      "    self._resize(event)\n",
      "  File \"C:\\Users\\hfyhn\\anaconda3\\envs\\pyxem\\Lib\\site-packages\\hyperspy\\drawing\\_widgets\\line2d.py\", line 429, in _resize\n",
      "    dx = self._get_diff(event)\n",
      "         ^^^^^^^^^^^^^^^^^^^^^\n",
      "  File \"C:\\Users\\hfyhn\\anaconda3\\envs\\pyxem\\Lib\\site-packages\\hyperspy\\drawing\\_widgets\\line2d.py\", line 410, in _get_diff\n",
      "    dx = event.xdata - self._drag_start[0]\n",
      "         ~~~~~~~~~~~~^~~~~~~~~~~~~~~~~~~~~\n",
      "TypeError: unsupported operand type(s) for -: 'float' and 'NoneType'\n",
      "Traceback (most recent call last):\n",
      "  File \"C:\\Users\\hfyhn\\anaconda3\\envs\\pyxem\\Lib\\site-packages\\matplotlib\\cbook\\__init__.py\", line 304, in process\n",
      "    func(*args, **kwargs)\n",
      "  File \"C:\\Users\\hfyhn\\anaconda3\\envs\\pyxem\\Lib\\site-packages\\hyperspy\\drawing\\_widgets\\line2d.py\", line 397, in _onmousemove\n",
      "    self._resize(event)\n",
      "  File \"C:\\Users\\hfyhn\\anaconda3\\envs\\pyxem\\Lib\\site-packages\\hyperspy\\drawing\\_widgets\\line2d.py\", line 429, in _resize\n",
      "    dx = self._get_diff(event)\n",
      "         ^^^^^^^^^^^^^^^^^^^^^\n",
      "  File \"C:\\Users\\hfyhn\\anaconda3\\envs\\pyxem\\Lib\\site-packages\\hyperspy\\drawing\\_widgets\\line2d.py\", line 410, in _get_diff\n",
      "    dx = event.xdata - self._drag_start[0]\n",
      "         ~~~~~~~~~~~~^~~~~~~~~~~~~~~~~~~~~\n",
      "TypeError: unsupported operand type(s) for -: 'float' and 'NoneType'\n",
      "Traceback (most recent call last):\n",
      "  File \"C:\\Users\\hfyhn\\anaconda3\\envs\\pyxem\\Lib\\site-packages\\matplotlib\\cbook\\__init__.py\", line 304, in process\n",
      "    func(*args, **kwargs)\n",
      "  File \"C:\\Users\\hfyhn\\anaconda3\\envs\\pyxem\\Lib\\site-packages\\hyperspy\\drawing\\_widgets\\line2d.py\", line 397, in _onmousemove\n",
      "    self._resize(event)\n",
      "  File \"C:\\Users\\hfyhn\\anaconda3\\envs\\pyxem\\Lib\\site-packages\\hyperspy\\drawing\\_widgets\\line2d.py\", line 429, in _resize\n",
      "    dx = self._get_diff(event)\n",
      "         ^^^^^^^^^^^^^^^^^^^^^\n",
      "  File \"C:\\Users\\hfyhn\\anaconda3\\envs\\pyxem\\Lib\\site-packages\\hyperspy\\drawing\\_widgets\\line2d.py\", line 410, in _get_diff\n",
      "    dx = event.xdata - self._drag_start[0]\n",
      "         ~~~~~~~~~~~~^~~~~~~~~~~~~~~~~~~~~\n",
      "TypeError: unsupported operand type(s) for -: 'float' and 'NoneType'\n",
      "Traceback (most recent call last):\n",
      "  File \"C:\\Users\\hfyhn\\anaconda3\\envs\\pyxem\\Lib\\site-packages\\matplotlib\\cbook\\__init__.py\", line 304, in process\n",
      "    func(*args, **kwargs)\n",
      "  File \"C:\\Users\\hfyhn\\anaconda3\\envs\\pyxem\\Lib\\site-packages\\hyperspy\\drawing\\_widgets\\line2d.py\", line 397, in _onmousemove\n",
      "    self._resize(event)\n",
      "  File \"C:\\Users\\hfyhn\\anaconda3\\envs\\pyxem\\Lib\\site-packages\\hyperspy\\drawing\\_widgets\\line2d.py\", line 429, in _resize\n",
      "    dx = self._get_diff(event)\n",
      "         ^^^^^^^^^^^^^^^^^^^^^\n",
      "  File \"C:\\Users\\hfyhn\\anaconda3\\envs\\pyxem\\Lib\\site-packages\\hyperspy\\drawing\\_widgets\\line2d.py\", line 410, in _get_diff\n",
      "    dx = event.xdata - self._drag_start[0]\n",
      "         ~~~~~~~~~~~~^~~~~~~~~~~~~~~~~~~~~\n",
      "TypeError: unsupported operand type(s) for -: 'float' and 'NoneType'\n",
      "Traceback (most recent call last):\n",
      "  File \"C:\\Users\\hfyhn\\anaconda3\\envs\\pyxem\\Lib\\site-packages\\matplotlib\\cbook\\__init__.py\", line 304, in process\n",
      "    func(*args, **kwargs)\n",
      "  File \"C:\\Users\\hfyhn\\anaconda3\\envs\\pyxem\\Lib\\site-packages\\hyperspy\\drawing\\_widgets\\line2d.py\", line 397, in _onmousemove\n",
      "    self._resize(event)\n",
      "  File \"C:\\Users\\hfyhn\\anaconda3\\envs\\pyxem\\Lib\\site-packages\\hyperspy\\drawing\\_widgets\\line2d.py\", line 429, in _resize\n",
      "    dx = self._get_diff(event)\n",
      "         ^^^^^^^^^^^^^^^^^^^^^\n",
      "  File \"C:\\Users\\hfyhn\\anaconda3\\envs\\pyxem\\Lib\\site-packages\\hyperspy\\drawing\\_widgets\\line2d.py\", line 410, in _get_diff\n",
      "    dx = event.xdata - self._drag_start[0]\n",
      "         ~~~~~~~~~~~~^~~~~~~~~~~~~~~~~~~~~\n",
      "TypeError: unsupported operand type(s) for -: 'float' and 'NoneType'\n",
      "Traceback (most recent call last):\n",
      "  File \"C:\\Users\\hfyhn\\anaconda3\\envs\\pyxem\\Lib\\site-packages\\matplotlib\\cbook\\__init__.py\", line 304, in process\n",
      "    func(*args, **kwargs)\n",
      "  File \"C:\\Users\\hfyhn\\anaconda3\\envs\\pyxem\\Lib\\site-packages\\hyperspy\\drawing\\_widgets\\line2d.py\", line 397, in _onmousemove\n",
      "    self._resize(event)\n",
      "  File \"C:\\Users\\hfyhn\\anaconda3\\envs\\pyxem\\Lib\\site-packages\\hyperspy\\drawing\\_widgets\\line2d.py\", line 429, in _resize\n",
      "    dx = self._get_diff(event)\n",
      "         ^^^^^^^^^^^^^^^^^^^^^\n",
      "  File \"C:\\Users\\hfyhn\\anaconda3\\envs\\pyxem\\Lib\\site-packages\\hyperspy\\drawing\\_widgets\\line2d.py\", line 410, in _get_diff\n",
      "    dx = event.xdata - self._drag_start[0]\n",
      "         ~~~~~~~~~~~~^~~~~~~~~~~~~~~~~~~~~\n",
      "TypeError: unsupported operand type(s) for -: 'float' and 'NoneType'\n",
      "Traceback (most recent call last):\n",
      "  File \"C:\\Users\\hfyhn\\anaconda3\\envs\\pyxem\\Lib\\site-packages\\matplotlib\\cbook\\__init__.py\", line 304, in process\n",
      "    func(*args, **kwargs)\n",
      "  File \"C:\\Users\\hfyhn\\anaconda3\\envs\\pyxem\\Lib\\site-packages\\hyperspy\\drawing\\_widgets\\line2d.py\", line 397, in _onmousemove\n",
      "    self._resize(event)\n",
      "  File \"C:\\Users\\hfyhn\\anaconda3\\envs\\pyxem\\Lib\\site-packages\\hyperspy\\drawing\\_widgets\\line2d.py\", line 429, in _resize\n",
      "    dx = self._get_diff(event)\n",
      "         ^^^^^^^^^^^^^^^^^^^^^\n",
      "  File \"C:\\Users\\hfyhn\\anaconda3\\envs\\pyxem\\Lib\\site-packages\\hyperspy\\drawing\\_widgets\\line2d.py\", line 410, in _get_diff\n",
      "    dx = event.xdata - self._drag_start[0]\n",
      "         ~~~~~~~~~~~~^~~~~~~~~~~~~~~~~~~~~\n",
      "TypeError: unsupported operand type(s) for -: 'float' and 'NoneType'\n",
      "Traceback (most recent call last):\n",
      "  File \"C:\\Users\\hfyhn\\anaconda3\\envs\\pyxem\\Lib\\site-packages\\matplotlib\\cbook\\__init__.py\", line 304, in process\n",
      "    func(*args, **kwargs)\n",
      "  File \"C:\\Users\\hfyhn\\anaconda3\\envs\\pyxem\\Lib\\site-packages\\hyperspy\\drawing\\_widgets\\line2d.py\", line 397, in _onmousemove\n",
      "    self._resize(event)\n",
      "  File \"C:\\Users\\hfyhn\\anaconda3\\envs\\pyxem\\Lib\\site-packages\\hyperspy\\drawing\\_widgets\\line2d.py\", line 429, in _resize\n",
      "    dx = self._get_diff(event)\n",
      "         ^^^^^^^^^^^^^^^^^^^^^\n",
      "  File \"C:\\Users\\hfyhn\\anaconda3\\envs\\pyxem\\Lib\\site-packages\\hyperspy\\drawing\\_widgets\\line2d.py\", line 410, in _get_diff\n",
      "    dx = event.xdata - self._drag_start[0]\n",
      "         ~~~~~~~~~~~~^~~~~~~~~~~~~~~~~~~~~\n",
      "TypeError: unsupported operand type(s) for -: 'float' and 'NoneType'\n",
      "Traceback (most recent call last):\n",
      "  File \"C:\\Users\\hfyhn\\anaconda3\\envs\\pyxem\\Lib\\site-packages\\matplotlib\\cbook\\__init__.py\", line 304, in process\n",
      "    func(*args, **kwargs)\n",
      "  File \"C:\\Users\\hfyhn\\anaconda3\\envs\\pyxem\\Lib\\site-packages\\hyperspy\\drawing\\_widgets\\line2d.py\", line 397, in _onmousemove\n",
      "    self._resize(event)\n",
      "  File \"C:\\Users\\hfyhn\\anaconda3\\envs\\pyxem\\Lib\\site-packages\\hyperspy\\drawing\\_widgets\\line2d.py\", line 429, in _resize\n",
      "    dx = self._get_diff(event)\n",
      "         ^^^^^^^^^^^^^^^^^^^^^\n",
      "  File \"C:\\Users\\hfyhn\\anaconda3\\envs\\pyxem\\Lib\\site-packages\\hyperspy\\drawing\\_widgets\\line2d.py\", line 410, in _get_diff\n",
      "    dx = event.xdata - self._drag_start[0]\n",
      "         ~~~~~~~~~~~~^~~~~~~~~~~~~~~~~~~~~\n",
      "TypeError: unsupported operand type(s) for -: 'float' and 'NoneType'\n",
      "Traceback (most recent call last):\n",
      "  File \"C:\\Users\\hfyhn\\anaconda3\\envs\\pyxem\\Lib\\site-packages\\matplotlib\\cbook\\__init__.py\", line 304, in process\n",
      "    func(*args, **kwargs)\n",
      "  File \"C:\\Users\\hfyhn\\anaconda3\\envs\\pyxem\\Lib\\site-packages\\hyperspy\\drawing\\_widgets\\line2d.py\", line 397, in _onmousemove\n",
      "    self._resize(event)\n",
      "  File \"C:\\Users\\hfyhn\\anaconda3\\envs\\pyxem\\Lib\\site-packages\\hyperspy\\drawing\\_widgets\\line2d.py\", line 429, in _resize\n",
      "    dx = self._get_diff(event)\n",
      "         ^^^^^^^^^^^^^^^^^^^^^\n",
      "  File \"C:\\Users\\hfyhn\\anaconda3\\envs\\pyxem\\Lib\\site-packages\\hyperspy\\drawing\\_widgets\\line2d.py\", line 410, in _get_diff\n",
      "    dx = event.xdata - self._drag_start[0]\n",
      "         ~~~~~~~~~~~~^~~~~~~~~~~~~~~~~~~~~\n",
      "TypeError: unsupported operand type(s) for -: 'float' and 'NoneType'\n",
      "Traceback (most recent call last):\n",
      "  File \"C:\\Users\\hfyhn\\anaconda3\\envs\\pyxem\\Lib\\site-packages\\matplotlib\\cbook\\__init__.py\", line 304, in process\n",
      "    func(*args, **kwargs)\n",
      "  File \"C:\\Users\\hfyhn\\anaconda3\\envs\\pyxem\\Lib\\site-packages\\hyperspy\\drawing\\_widgets\\line2d.py\", line 397, in _onmousemove\n",
      "    self._resize(event)\n",
      "  File \"C:\\Users\\hfyhn\\anaconda3\\envs\\pyxem\\Lib\\site-packages\\hyperspy\\drawing\\_widgets\\line2d.py\", line 429, in _resize\n",
      "    dx = self._get_diff(event)\n",
      "         ^^^^^^^^^^^^^^^^^^^^^\n",
      "  File \"C:\\Users\\hfyhn\\anaconda3\\envs\\pyxem\\Lib\\site-packages\\hyperspy\\drawing\\_widgets\\line2d.py\", line 410, in _get_diff\n",
      "    dx = event.xdata - self._drag_start[0]\n",
      "         ~~~~~~~~~~~~^~~~~~~~~~~~~~~~~~~~~\n",
      "TypeError: unsupported operand type(s) for -: 'float' and 'NoneType'\n",
      "Traceback (most recent call last):\n",
      "  File \"C:\\Users\\hfyhn\\anaconda3\\envs\\pyxem\\Lib\\site-packages\\matplotlib\\cbook\\__init__.py\", line 304, in process\n",
      "    func(*args, **kwargs)\n",
      "  File \"C:\\Users\\hfyhn\\anaconda3\\envs\\pyxem\\Lib\\site-packages\\hyperspy\\drawing\\_widgets\\line2d.py\", line 397, in _onmousemove\n",
      "    self._resize(event)\n",
      "  File \"C:\\Users\\hfyhn\\anaconda3\\envs\\pyxem\\Lib\\site-packages\\hyperspy\\drawing\\_widgets\\line2d.py\", line 429, in _resize\n",
      "    dx = self._get_diff(event)\n",
      "         ^^^^^^^^^^^^^^^^^^^^^\n",
      "  File \"C:\\Users\\hfyhn\\anaconda3\\envs\\pyxem\\Lib\\site-packages\\hyperspy\\drawing\\_widgets\\line2d.py\", line 410, in _get_diff\n",
      "    dx = event.xdata - self._drag_start[0]\n",
      "         ~~~~~~~~~~~~^~~~~~~~~~~~~~~~~~~~~\n",
      "TypeError: unsupported operand type(s) for -: 'float' and 'NoneType'\n",
      "Traceback (most recent call last):\n",
      "  File \"C:\\Users\\hfyhn\\anaconda3\\envs\\pyxem\\Lib\\site-packages\\matplotlib\\cbook\\__init__.py\", line 304, in process\n",
      "    func(*args, **kwargs)\n",
      "  File \"C:\\Users\\hfyhn\\anaconda3\\envs\\pyxem\\Lib\\site-packages\\hyperspy\\drawing\\_widgets\\line2d.py\", line 397, in _onmousemove\n",
      "    self._resize(event)\n",
      "  File \"C:\\Users\\hfyhn\\anaconda3\\envs\\pyxem\\Lib\\site-packages\\hyperspy\\drawing\\_widgets\\line2d.py\", line 429, in _resize\n",
      "    dx = self._get_diff(event)\n",
      "         ^^^^^^^^^^^^^^^^^^^^^\n",
      "  File \"C:\\Users\\hfyhn\\anaconda3\\envs\\pyxem\\Lib\\site-packages\\hyperspy\\drawing\\_widgets\\line2d.py\", line 410, in _get_diff\n",
      "    dx = event.xdata - self._drag_start[0]\n",
      "         ~~~~~~~~~~~~^~~~~~~~~~~~~~~~~~~~~\n",
      "TypeError: unsupported operand type(s) for -: 'float' and 'NoneType'\n",
      "Traceback (most recent call last):\n",
      "  File \"C:\\Users\\hfyhn\\anaconda3\\envs\\pyxem\\Lib\\site-packages\\matplotlib\\cbook\\__init__.py\", line 304, in process\n",
      "    func(*args, **kwargs)\n",
      "  File \"C:\\Users\\hfyhn\\anaconda3\\envs\\pyxem\\Lib\\site-packages\\hyperspy\\drawing\\_widgets\\line2d.py\", line 397, in _onmousemove\n",
      "    self._resize(event)\n",
      "  File \"C:\\Users\\hfyhn\\anaconda3\\envs\\pyxem\\Lib\\site-packages\\hyperspy\\drawing\\_widgets\\line2d.py\", line 429, in _resize\n",
      "    dx = self._get_diff(event)\n",
      "         ^^^^^^^^^^^^^^^^^^^^^\n",
      "  File \"C:\\Users\\hfyhn\\anaconda3\\envs\\pyxem\\Lib\\site-packages\\hyperspy\\drawing\\_widgets\\line2d.py\", line 410, in _get_diff\n",
      "    dx = event.xdata - self._drag_start[0]\n",
      "         ~~~~~~~~~~~~^~~~~~~~~~~~~~~~~~~~~\n",
      "TypeError: unsupported operand type(s) for -: 'float' and 'NoneType'\n",
      "Traceback (most recent call last):\n",
      "  File \"C:\\Users\\hfyhn\\anaconda3\\envs\\pyxem\\Lib\\site-packages\\matplotlib\\cbook\\__init__.py\", line 304, in process\n",
      "    func(*args, **kwargs)\n",
      "  File \"C:\\Users\\hfyhn\\anaconda3\\envs\\pyxem\\Lib\\site-packages\\hyperspy\\drawing\\_widgets\\line2d.py\", line 397, in _onmousemove\n",
      "    self._resize(event)\n",
      "  File \"C:\\Users\\hfyhn\\anaconda3\\envs\\pyxem\\Lib\\site-packages\\hyperspy\\drawing\\_widgets\\line2d.py\", line 429, in _resize\n",
      "    dx = self._get_diff(event)\n",
      "         ^^^^^^^^^^^^^^^^^^^^^\n",
      "  File \"C:\\Users\\hfyhn\\anaconda3\\envs\\pyxem\\Lib\\site-packages\\hyperspy\\drawing\\_widgets\\line2d.py\", line 410, in _get_diff\n",
      "    dx = event.xdata - self._drag_start[0]\n",
      "         ~~~~~~~~~~~~^~~~~~~~~~~~~~~~~~~~~\n",
      "TypeError: unsupported operand type(s) for -: 'float' and 'NoneType'\n",
      "Traceback (most recent call last):\n",
      "  File \"C:\\Users\\hfyhn\\anaconda3\\envs\\pyxem\\Lib\\site-packages\\matplotlib\\cbook\\__init__.py\", line 304, in process\n",
      "    func(*args, **kwargs)\n",
      "  File \"C:\\Users\\hfyhn\\anaconda3\\envs\\pyxem\\Lib\\site-packages\\hyperspy\\drawing\\_widgets\\line2d.py\", line 397, in _onmousemove\n",
      "    self._resize(event)\n",
      "  File \"C:\\Users\\hfyhn\\anaconda3\\envs\\pyxem\\Lib\\site-packages\\hyperspy\\drawing\\_widgets\\line2d.py\", line 429, in _resize\n",
      "    dx = self._get_diff(event)\n",
      "         ^^^^^^^^^^^^^^^^^^^^^\n",
      "  File \"C:\\Users\\hfyhn\\anaconda3\\envs\\pyxem\\Lib\\site-packages\\hyperspy\\drawing\\_widgets\\line2d.py\", line 410, in _get_diff\n",
      "    dx = event.xdata - self._drag_start[0]\n",
      "         ~~~~~~~~~~~~^~~~~~~~~~~~~~~~~~~~~\n",
      "TypeError: unsupported operand type(s) for -: 'float' and 'NoneType'\n",
      "Traceback (most recent call last):\n",
      "  File \"C:\\Users\\hfyhn\\anaconda3\\envs\\pyxem\\Lib\\site-packages\\matplotlib\\cbook\\__init__.py\", line 304, in process\n",
      "    func(*args, **kwargs)\n",
      "  File \"C:\\Users\\hfyhn\\anaconda3\\envs\\pyxem\\Lib\\site-packages\\hyperspy\\drawing\\_widgets\\line2d.py\", line 397, in _onmousemove\n",
      "    self._resize(event)\n",
      "  File \"C:\\Users\\hfyhn\\anaconda3\\envs\\pyxem\\Lib\\site-packages\\hyperspy\\drawing\\_widgets\\line2d.py\", line 429, in _resize\n",
      "    dx = self._get_diff(event)\n",
      "         ^^^^^^^^^^^^^^^^^^^^^\n",
      "  File \"C:\\Users\\hfyhn\\anaconda3\\envs\\pyxem\\Lib\\site-packages\\hyperspy\\drawing\\_widgets\\line2d.py\", line 410, in _get_diff\n",
      "    dx = event.xdata - self._drag_start[0]\n",
      "         ~~~~~~~~~~~~^~~~~~~~~~~~~~~~~~~~~\n",
      "TypeError: unsupported operand type(s) for -: 'float' and 'NoneType'\n",
      "Traceback (most recent call last):\n",
      "  File \"C:\\Users\\hfyhn\\anaconda3\\envs\\pyxem\\Lib\\site-packages\\matplotlib\\cbook\\__init__.py\", line 304, in process\n",
      "    func(*args, **kwargs)\n",
      "  File \"C:\\Users\\hfyhn\\anaconda3\\envs\\pyxem\\Lib\\site-packages\\hyperspy\\drawing\\_widgets\\line2d.py\", line 397, in _onmousemove\n",
      "    self._resize(event)\n",
      "  File \"C:\\Users\\hfyhn\\anaconda3\\envs\\pyxem\\Lib\\site-packages\\hyperspy\\drawing\\_widgets\\line2d.py\", line 429, in _resize\n",
      "    dx = self._get_diff(event)\n",
      "         ^^^^^^^^^^^^^^^^^^^^^\n",
      "  File \"C:\\Users\\hfyhn\\anaconda3\\envs\\pyxem\\Lib\\site-packages\\hyperspy\\drawing\\_widgets\\line2d.py\", line 410, in _get_diff\n",
      "    dx = event.xdata - self._drag_start[0]\n",
      "         ~~~~~~~~~~~~^~~~~~~~~~~~~~~~~~~~~\n",
      "TypeError: unsupported operand type(s) for -: 'float' and 'NoneType'\n",
      "Traceback (most recent call last):\n",
      "  File \"C:\\Users\\hfyhn\\anaconda3\\envs\\pyxem\\Lib\\site-packages\\matplotlib\\cbook\\__init__.py\", line 304, in process\n",
      "    func(*args, **kwargs)\n",
      "  File \"C:\\Users\\hfyhn\\anaconda3\\envs\\pyxem\\Lib\\site-packages\\hyperspy\\drawing\\_widgets\\line2d.py\", line 397, in _onmousemove\n",
      "    self._resize(event)\n",
      "  File \"C:\\Users\\hfyhn\\anaconda3\\envs\\pyxem\\Lib\\site-packages\\hyperspy\\drawing\\_widgets\\line2d.py\", line 429, in _resize\n",
      "    dx = self._get_diff(event)\n",
      "         ^^^^^^^^^^^^^^^^^^^^^\n",
      "  File \"C:\\Users\\hfyhn\\anaconda3\\envs\\pyxem\\Lib\\site-packages\\hyperspy\\drawing\\_widgets\\line2d.py\", line 410, in _get_diff\n",
      "    dx = event.xdata - self._drag_start[0]\n",
      "         ~~~~~~~~~~~~^~~~~~~~~~~~~~~~~~~~~\n",
      "TypeError: unsupported operand type(s) for -: 'float' and 'NoneType'\n",
      "Traceback (most recent call last):\n",
      "  File \"C:\\Users\\hfyhn\\anaconda3\\envs\\pyxem\\Lib\\site-packages\\matplotlib\\cbook\\__init__.py\", line 304, in process\n",
      "    func(*args, **kwargs)\n",
      "  File \"C:\\Users\\hfyhn\\anaconda3\\envs\\pyxem\\Lib\\site-packages\\hyperspy\\drawing\\_widgets\\line2d.py\", line 397, in _onmousemove\n",
      "    self._resize(event)\n",
      "  File \"C:\\Users\\hfyhn\\anaconda3\\envs\\pyxem\\Lib\\site-packages\\hyperspy\\drawing\\_widgets\\line2d.py\", line 429, in _resize\n",
      "    dx = self._get_diff(event)\n",
      "         ^^^^^^^^^^^^^^^^^^^^^\n",
      "  File \"C:\\Users\\hfyhn\\anaconda3\\envs\\pyxem\\Lib\\site-packages\\hyperspy\\drawing\\_widgets\\line2d.py\", line 410, in _get_diff\n",
      "    dx = event.xdata - self._drag_start[0]\n",
      "         ~~~~~~~~~~~~^~~~~~~~~~~~~~~~~~~~~\n",
      "TypeError: unsupported operand type(s) for -: 'float' and 'NoneType'\n",
      "Traceback (most recent call last):\n",
      "  File \"C:\\Users\\hfyhn\\anaconda3\\envs\\pyxem\\Lib\\site-packages\\matplotlib\\cbook\\__init__.py\", line 304, in process\n",
      "    func(*args, **kwargs)\n",
      "  File \"C:\\Users\\hfyhn\\anaconda3\\envs\\pyxem\\Lib\\site-packages\\hyperspy\\drawing\\_widgets\\line2d.py\", line 397, in _onmousemove\n",
      "    self._resize(event)\n",
      "  File \"C:\\Users\\hfyhn\\anaconda3\\envs\\pyxem\\Lib\\site-packages\\hyperspy\\drawing\\_widgets\\line2d.py\", line 429, in _resize\n",
      "    dx = self._get_diff(event)\n",
      "         ^^^^^^^^^^^^^^^^^^^^^\n",
      "  File \"C:\\Users\\hfyhn\\anaconda3\\envs\\pyxem\\Lib\\site-packages\\hyperspy\\drawing\\_widgets\\line2d.py\", line 410, in _get_diff\n",
      "    dx = event.xdata - self._drag_start[0]\n",
      "         ~~~~~~~~~~~~^~~~~~~~~~~~~~~~~~~~~\n",
      "TypeError: unsupported operand type(s) for -: 'float' and 'NoneType'\n",
      "Traceback (most recent call last):\n",
      "  File \"C:\\Users\\hfyhn\\anaconda3\\envs\\pyxem\\Lib\\site-packages\\matplotlib\\cbook\\__init__.py\", line 304, in process\n",
      "    func(*args, **kwargs)\n",
      "  File \"C:\\Users\\hfyhn\\anaconda3\\envs\\pyxem\\Lib\\site-packages\\hyperspy\\drawing\\_widgets\\line2d.py\", line 397, in _onmousemove\n",
      "    self._resize(event)\n",
      "  File \"C:\\Users\\hfyhn\\anaconda3\\envs\\pyxem\\Lib\\site-packages\\hyperspy\\drawing\\_widgets\\line2d.py\", line 429, in _resize\n",
      "    dx = self._get_diff(event)\n",
      "         ^^^^^^^^^^^^^^^^^^^^^\n",
      "  File \"C:\\Users\\hfyhn\\anaconda3\\envs\\pyxem\\Lib\\site-packages\\hyperspy\\drawing\\_widgets\\line2d.py\", line 410, in _get_diff\n",
      "    dx = event.xdata - self._drag_start[0]\n",
      "         ~~~~~~~~~~~~^~~~~~~~~~~~~~~~~~~~~\n",
      "TypeError: unsupported operand type(s) for -: 'float' and 'NoneType'\n",
      "Traceback (most recent call last):\n",
      "  File \"C:\\Users\\hfyhn\\anaconda3\\envs\\pyxem\\Lib\\site-packages\\matplotlib\\cbook\\__init__.py\", line 304, in process\n",
      "    func(*args, **kwargs)\n",
      "  File \"C:\\Users\\hfyhn\\anaconda3\\envs\\pyxem\\Lib\\site-packages\\hyperspy\\drawing\\_widgets\\line2d.py\", line 397, in _onmousemove\n",
      "    self._resize(event)\n",
      "  File \"C:\\Users\\hfyhn\\anaconda3\\envs\\pyxem\\Lib\\site-packages\\hyperspy\\drawing\\_widgets\\line2d.py\", line 429, in _resize\n",
      "    dx = self._get_diff(event)\n",
      "         ^^^^^^^^^^^^^^^^^^^^^\n",
      "  File \"C:\\Users\\hfyhn\\anaconda3\\envs\\pyxem\\Lib\\site-packages\\hyperspy\\drawing\\_widgets\\line2d.py\", line 410, in _get_diff\n",
      "    dx = event.xdata - self._drag_start[0]\n",
      "         ~~~~~~~~~~~~^~~~~~~~~~~~~~~~~~~~~\n",
      "TypeError: unsupported operand type(s) for -: 'float' and 'NoneType'\n",
      "Traceback (most recent call last):\n",
      "  File \"C:\\Users\\hfyhn\\anaconda3\\envs\\pyxem\\Lib\\site-packages\\matplotlib\\cbook\\__init__.py\", line 304, in process\n",
      "    func(*args, **kwargs)\n",
      "  File \"C:\\Users\\hfyhn\\anaconda3\\envs\\pyxem\\Lib\\site-packages\\hyperspy\\drawing\\_widgets\\line2d.py\", line 397, in _onmousemove\n",
      "    self._resize(event)\n",
      "  File \"C:\\Users\\hfyhn\\anaconda3\\envs\\pyxem\\Lib\\site-packages\\hyperspy\\drawing\\_widgets\\line2d.py\", line 429, in _resize\n",
      "    dx = self._get_diff(event)\n",
      "         ^^^^^^^^^^^^^^^^^^^^^\n",
      "  File \"C:\\Users\\hfyhn\\anaconda3\\envs\\pyxem\\Lib\\site-packages\\hyperspy\\drawing\\_widgets\\line2d.py\", line 410, in _get_diff\n",
      "    dx = event.xdata - self._drag_start[0]\n",
      "         ~~~~~~~~~~~~^~~~~~~~~~~~~~~~~~~~~\n",
      "TypeError: unsupported operand type(s) for -: 'float' and 'NoneType'\n",
      "Traceback (most recent call last):\n",
      "  File \"C:\\Users\\hfyhn\\anaconda3\\envs\\pyxem\\Lib\\site-packages\\matplotlib\\cbook\\__init__.py\", line 304, in process\n",
      "    func(*args, **kwargs)\n",
      "  File \"C:\\Users\\hfyhn\\anaconda3\\envs\\pyxem\\Lib\\site-packages\\hyperspy\\drawing\\_widgets\\line2d.py\", line 397, in _onmousemove\n",
      "    self._resize(event)\n",
      "  File \"C:\\Users\\hfyhn\\anaconda3\\envs\\pyxem\\Lib\\site-packages\\hyperspy\\drawing\\_widgets\\line2d.py\", line 429, in _resize\n",
      "    dx = self._get_diff(event)\n",
      "         ^^^^^^^^^^^^^^^^^^^^^\n",
      "  File \"C:\\Users\\hfyhn\\anaconda3\\envs\\pyxem\\Lib\\site-packages\\hyperspy\\drawing\\_widgets\\line2d.py\", line 410, in _get_diff\n",
      "    dx = event.xdata - self._drag_start[0]\n",
      "         ~~~~~~~~~~~~^~~~~~~~~~~~~~~~~~~~~\n",
      "TypeError: unsupported operand type(s) for -: 'float' and 'NoneType'\n",
      "Traceback (most recent call last):\n",
      "  File \"C:\\Users\\hfyhn\\anaconda3\\envs\\pyxem\\Lib\\site-packages\\matplotlib\\cbook\\__init__.py\", line 304, in process\n",
      "    func(*args, **kwargs)\n",
      "  File \"C:\\Users\\hfyhn\\anaconda3\\envs\\pyxem\\Lib\\site-packages\\hyperspy\\drawing\\_widgets\\line2d.py\", line 397, in _onmousemove\n",
      "    self._resize(event)\n",
      "  File \"C:\\Users\\hfyhn\\anaconda3\\envs\\pyxem\\Lib\\site-packages\\hyperspy\\drawing\\_widgets\\line2d.py\", line 429, in _resize\n",
      "    dx = self._get_diff(event)\n",
      "         ^^^^^^^^^^^^^^^^^^^^^\n",
      "  File \"C:\\Users\\hfyhn\\anaconda3\\envs\\pyxem\\Lib\\site-packages\\hyperspy\\drawing\\_widgets\\line2d.py\", line 410, in _get_diff\n",
      "    dx = event.xdata - self._drag_start[0]\n",
      "         ~~~~~~~~~~~~^~~~~~~~~~~~~~~~~~~~~\n",
      "TypeError: unsupported operand type(s) for -: 'float' and 'NoneType'\n",
      "Traceback (most recent call last):\n",
      "  File \"C:\\Users\\hfyhn\\anaconda3\\envs\\pyxem\\Lib\\site-packages\\matplotlib\\cbook\\__init__.py\", line 304, in process\n",
      "    func(*args, **kwargs)\n",
      "  File \"C:\\Users\\hfyhn\\anaconda3\\envs\\pyxem\\Lib\\site-packages\\hyperspy\\drawing\\_widgets\\line2d.py\", line 397, in _onmousemove\n",
      "    self._resize(event)\n",
      "  File \"C:\\Users\\hfyhn\\anaconda3\\envs\\pyxem\\Lib\\site-packages\\hyperspy\\drawing\\_widgets\\line2d.py\", line 429, in _resize\n",
      "    dx = self._get_diff(event)\n",
      "         ^^^^^^^^^^^^^^^^^^^^^\n",
      "  File \"C:\\Users\\hfyhn\\anaconda3\\envs\\pyxem\\Lib\\site-packages\\hyperspy\\drawing\\_widgets\\line2d.py\", line 410, in _get_diff\n",
      "    dx = event.xdata - self._drag_start[0]\n",
      "         ~~~~~~~~~~~~^~~~~~~~~~~~~~~~~~~~~\n",
      "TypeError: unsupported operand type(s) for -: 'float' and 'NoneType'\n",
      "Traceback (most recent call last):\n",
      "  File \"C:\\Users\\hfyhn\\anaconda3\\envs\\pyxem\\Lib\\site-packages\\matplotlib\\cbook\\__init__.py\", line 304, in process\n",
      "    func(*args, **kwargs)\n",
      "  File \"C:\\Users\\hfyhn\\anaconda3\\envs\\pyxem\\Lib\\site-packages\\hyperspy\\drawing\\_widgets\\line2d.py\", line 397, in _onmousemove\n",
      "    self._resize(event)\n",
      "  File \"C:\\Users\\hfyhn\\anaconda3\\envs\\pyxem\\Lib\\site-packages\\hyperspy\\drawing\\_widgets\\line2d.py\", line 429, in _resize\n",
      "    dx = self._get_diff(event)\n",
      "         ^^^^^^^^^^^^^^^^^^^^^\n",
      "  File \"C:\\Users\\hfyhn\\anaconda3\\envs\\pyxem\\Lib\\site-packages\\hyperspy\\drawing\\_widgets\\line2d.py\", line 410, in _get_diff\n",
      "    dx = event.xdata - self._drag_start[0]\n",
      "         ~~~~~~~~~~~~^~~~~~~~~~~~~~~~~~~~~\n",
      "TypeError: unsupported operand type(s) for -: 'float' and 'NoneType'\n",
      "Traceback (most recent call last):\n",
      "  File \"C:\\Users\\hfyhn\\anaconda3\\envs\\pyxem\\Lib\\site-packages\\matplotlib\\cbook\\__init__.py\", line 304, in process\n",
      "    func(*args, **kwargs)\n",
      "  File \"C:\\Users\\hfyhn\\anaconda3\\envs\\pyxem\\Lib\\site-packages\\hyperspy\\drawing\\_widgets\\line2d.py\", line 397, in _onmousemove\n",
      "    self._resize(event)\n",
      "  File \"C:\\Users\\hfyhn\\anaconda3\\envs\\pyxem\\Lib\\site-packages\\hyperspy\\drawing\\_widgets\\line2d.py\", line 429, in _resize\n",
      "    dx = self._get_diff(event)\n",
      "         ^^^^^^^^^^^^^^^^^^^^^\n",
      "  File \"C:\\Users\\hfyhn\\anaconda3\\envs\\pyxem\\Lib\\site-packages\\hyperspy\\drawing\\_widgets\\line2d.py\", line 410, in _get_diff\n",
      "    dx = event.xdata - self._drag_start[0]\n",
      "         ~~~~~~~~~~~~^~~~~~~~~~~~~~~~~~~~~\n",
      "TypeError: unsupported operand type(s) for -: 'float' and 'NoneType'\n",
      "Traceback (most recent call last):\n",
      "  File \"C:\\Users\\hfyhn\\anaconda3\\envs\\pyxem\\Lib\\site-packages\\matplotlib\\cbook\\__init__.py\", line 304, in process\n",
      "    func(*args, **kwargs)\n",
      "  File \"C:\\Users\\hfyhn\\anaconda3\\envs\\pyxem\\Lib\\site-packages\\hyperspy\\drawing\\_widgets\\line2d.py\", line 397, in _onmousemove\n",
      "    self._resize(event)\n",
      "  File \"C:\\Users\\hfyhn\\anaconda3\\envs\\pyxem\\Lib\\site-packages\\hyperspy\\drawing\\_widgets\\line2d.py\", line 429, in _resize\n",
      "    dx = self._get_diff(event)\n",
      "         ^^^^^^^^^^^^^^^^^^^^^\n",
      "  File \"C:\\Users\\hfyhn\\anaconda3\\envs\\pyxem\\Lib\\site-packages\\hyperspy\\drawing\\_widgets\\line2d.py\", line 410, in _get_diff\n",
      "    dx = event.xdata - self._drag_start[0]\n",
      "         ~~~~~~~~~~~~^~~~~~~~~~~~~~~~~~~~~\n",
      "TypeError: unsupported operand type(s) for -: 'float' and 'NoneType'\n",
      "Traceback (most recent call last):\n",
      "  File \"C:\\Users\\hfyhn\\anaconda3\\envs\\pyxem\\Lib\\site-packages\\matplotlib\\cbook\\__init__.py\", line 304, in process\n",
      "    func(*args, **kwargs)\n",
      "  File \"C:\\Users\\hfyhn\\anaconda3\\envs\\pyxem\\Lib\\site-packages\\hyperspy\\drawing\\_widgets\\line2d.py\", line 397, in _onmousemove\n",
      "    self._resize(event)\n",
      "  File \"C:\\Users\\hfyhn\\anaconda3\\envs\\pyxem\\Lib\\site-packages\\hyperspy\\drawing\\_widgets\\line2d.py\", line 429, in _resize\n",
      "    dx = self._get_diff(event)\n",
      "         ^^^^^^^^^^^^^^^^^^^^^\n",
      "  File \"C:\\Users\\hfyhn\\anaconda3\\envs\\pyxem\\Lib\\site-packages\\hyperspy\\drawing\\_widgets\\line2d.py\", line 410, in _get_diff\n",
      "    dx = event.xdata - self._drag_start[0]\n",
      "         ~~~~~~~~~~~~^~~~~~~~~~~~~~~~~~~~~\n",
      "TypeError: unsupported operand type(s) for -: 'float' and 'NoneType'\n",
      "Traceback (most recent call last):\n",
      "  File \"C:\\Users\\hfyhn\\anaconda3\\envs\\pyxem\\Lib\\site-packages\\matplotlib\\cbook\\__init__.py\", line 304, in process\n",
      "    func(*args, **kwargs)\n",
      "  File \"C:\\Users\\hfyhn\\anaconda3\\envs\\pyxem\\Lib\\site-packages\\hyperspy\\drawing\\_widgets\\line2d.py\", line 397, in _onmousemove\n",
      "    self._resize(event)\n",
      "  File \"C:\\Users\\hfyhn\\anaconda3\\envs\\pyxem\\Lib\\site-packages\\hyperspy\\drawing\\_widgets\\line2d.py\", line 429, in _resize\n",
      "    dx = self._get_diff(event)\n",
      "         ^^^^^^^^^^^^^^^^^^^^^\n",
      "  File \"C:\\Users\\hfyhn\\anaconda3\\envs\\pyxem\\Lib\\site-packages\\hyperspy\\drawing\\_widgets\\line2d.py\", line 410, in _get_diff\n",
      "    dx = event.xdata - self._drag_start[0]\n",
      "         ~~~~~~~~~~~~^~~~~~~~~~~~~~~~~~~~~\n",
      "TypeError: unsupported operand type(s) for -: 'float' and 'NoneType'\n",
      "Traceback (most recent call last):\n",
      "  File \"C:\\Users\\hfyhn\\anaconda3\\envs\\pyxem\\Lib\\site-packages\\matplotlib\\cbook\\__init__.py\", line 304, in process\n",
      "    func(*args, **kwargs)\n",
      "  File \"C:\\Users\\hfyhn\\anaconda3\\envs\\pyxem\\Lib\\site-packages\\hyperspy\\drawing\\_widgets\\line2d.py\", line 397, in _onmousemove\n",
      "    self._resize(event)\n",
      "  File \"C:\\Users\\hfyhn\\anaconda3\\envs\\pyxem\\Lib\\site-packages\\hyperspy\\drawing\\_widgets\\line2d.py\", line 429, in _resize\n",
      "    dx = self._get_diff(event)\n",
      "         ^^^^^^^^^^^^^^^^^^^^^\n",
      "  File \"C:\\Users\\hfyhn\\anaconda3\\envs\\pyxem\\Lib\\site-packages\\hyperspy\\drawing\\_widgets\\line2d.py\", line 410, in _get_diff\n",
      "    dx = event.xdata - self._drag_start[0]\n",
      "         ~~~~~~~~~~~~^~~~~~~~~~~~~~~~~~~~~\n",
      "TypeError: unsupported operand type(s) for -: 'float' and 'NoneType'\n",
      "Traceback (most recent call last):\n",
      "  File \"C:\\Users\\hfyhn\\anaconda3\\envs\\pyxem\\Lib\\site-packages\\matplotlib\\cbook\\__init__.py\", line 304, in process\n",
      "    func(*args, **kwargs)\n",
      "  File \"C:\\Users\\hfyhn\\anaconda3\\envs\\pyxem\\Lib\\site-packages\\hyperspy\\drawing\\_widgets\\line2d.py\", line 397, in _onmousemove\n",
      "    self._resize(event)\n",
      "  File \"C:\\Users\\hfyhn\\anaconda3\\envs\\pyxem\\Lib\\site-packages\\hyperspy\\drawing\\_widgets\\line2d.py\", line 429, in _resize\n",
      "    dx = self._get_diff(event)\n",
      "         ^^^^^^^^^^^^^^^^^^^^^\n",
      "  File \"C:\\Users\\hfyhn\\anaconda3\\envs\\pyxem\\Lib\\site-packages\\hyperspy\\drawing\\_widgets\\line2d.py\", line 410, in _get_diff\n",
      "    dx = event.xdata - self._drag_start[0]\n",
      "         ~~~~~~~~~~~~^~~~~~~~~~~~~~~~~~~~~\n",
      "TypeError: unsupported operand type(s) for -: 'float' and 'NoneType'\n",
      "Traceback (most recent call last):\n",
      "  File \"C:\\Users\\hfyhn\\anaconda3\\envs\\pyxem\\Lib\\site-packages\\matplotlib\\cbook\\__init__.py\", line 304, in process\n",
      "    func(*args, **kwargs)\n",
      "  File \"C:\\Users\\hfyhn\\anaconda3\\envs\\pyxem\\Lib\\site-packages\\hyperspy\\drawing\\_widgets\\line2d.py\", line 397, in _onmousemove\n",
      "    self._resize(event)\n",
      "  File \"C:\\Users\\hfyhn\\anaconda3\\envs\\pyxem\\Lib\\site-packages\\hyperspy\\drawing\\_widgets\\line2d.py\", line 429, in _resize\n",
      "    dx = self._get_diff(event)\n",
      "         ^^^^^^^^^^^^^^^^^^^^^\n",
      "  File \"C:\\Users\\hfyhn\\anaconda3\\envs\\pyxem\\Lib\\site-packages\\hyperspy\\drawing\\_widgets\\line2d.py\", line 410, in _get_diff\n",
      "    dx = event.xdata - self._drag_start[0]\n",
      "         ~~~~~~~~~~~~^~~~~~~~~~~~~~~~~~~~~\n",
      "TypeError: unsupported operand type(s) for -: 'float' and 'NoneType'\n",
      "Traceback (most recent call last):\n",
      "  File \"C:\\Users\\hfyhn\\anaconda3\\envs\\pyxem\\Lib\\site-packages\\matplotlib\\cbook\\__init__.py\", line 304, in process\n",
      "    func(*args, **kwargs)\n",
      "  File \"C:\\Users\\hfyhn\\anaconda3\\envs\\pyxem\\Lib\\site-packages\\hyperspy\\drawing\\_widgets\\line2d.py\", line 397, in _onmousemove\n",
      "    self._resize(event)\n",
      "  File \"C:\\Users\\hfyhn\\anaconda3\\envs\\pyxem\\Lib\\site-packages\\hyperspy\\drawing\\_widgets\\line2d.py\", line 429, in _resize\n",
      "    dx = self._get_diff(event)\n",
      "         ^^^^^^^^^^^^^^^^^^^^^\n",
      "  File \"C:\\Users\\hfyhn\\anaconda3\\envs\\pyxem\\Lib\\site-packages\\hyperspy\\drawing\\_widgets\\line2d.py\", line 410, in _get_diff\n",
      "    dx = event.xdata - self._drag_start[0]\n",
      "         ~~~~~~~~~~~~^~~~~~~~~~~~~~~~~~~~~\n",
      "TypeError: unsupported operand type(s) for -: 'float' and 'NoneType'\n",
      "Traceback (most recent call last):\n",
      "  File \"C:\\Users\\hfyhn\\anaconda3\\envs\\pyxem\\Lib\\site-packages\\matplotlib\\cbook\\__init__.py\", line 304, in process\n",
      "    func(*args, **kwargs)\n",
      "  File \"C:\\Users\\hfyhn\\anaconda3\\envs\\pyxem\\Lib\\site-packages\\hyperspy\\drawing\\_widgets\\line2d.py\", line 397, in _onmousemove\n",
      "    self._resize(event)\n",
      "  File \"C:\\Users\\hfyhn\\anaconda3\\envs\\pyxem\\Lib\\site-packages\\hyperspy\\drawing\\_widgets\\line2d.py\", line 429, in _resize\n",
      "    dx = self._get_diff(event)\n",
      "         ^^^^^^^^^^^^^^^^^^^^^\n",
      "  File \"C:\\Users\\hfyhn\\anaconda3\\envs\\pyxem\\Lib\\site-packages\\hyperspy\\drawing\\_widgets\\line2d.py\", line 410, in _get_diff\n",
      "    dx = event.xdata - self._drag_start[0]\n",
      "         ~~~~~~~~~~~~^~~~~~~~~~~~~~~~~~~~~\n",
      "TypeError: unsupported operand type(s) for -: 'float' and 'NoneType'\n",
      "Traceback (most recent call last):\n",
      "  File \"C:\\Users\\hfyhn\\anaconda3\\envs\\pyxem\\Lib\\site-packages\\matplotlib\\cbook\\__init__.py\", line 304, in process\n",
      "    func(*args, **kwargs)\n",
      "  File \"C:\\Users\\hfyhn\\anaconda3\\envs\\pyxem\\Lib\\site-packages\\hyperspy\\drawing\\_widgets\\line2d.py\", line 397, in _onmousemove\n",
      "    self._resize(event)\n",
      "  File \"C:\\Users\\hfyhn\\anaconda3\\envs\\pyxem\\Lib\\site-packages\\hyperspy\\drawing\\_widgets\\line2d.py\", line 429, in _resize\n",
      "    dx = self._get_diff(event)\n",
      "         ^^^^^^^^^^^^^^^^^^^^^\n",
      "  File \"C:\\Users\\hfyhn\\anaconda3\\envs\\pyxem\\Lib\\site-packages\\hyperspy\\drawing\\_widgets\\line2d.py\", line 410, in _get_diff\n",
      "    dx = event.xdata - self._drag_start[0]\n",
      "         ~~~~~~~~~~~~^~~~~~~~~~~~~~~~~~~~~\n",
      "TypeError: unsupported operand type(s) for -: 'float' and 'NoneType'\n",
      "Traceback (most recent call last):\n",
      "  File \"C:\\Users\\hfyhn\\anaconda3\\envs\\pyxem\\Lib\\site-packages\\matplotlib\\cbook\\__init__.py\", line 304, in process\n",
      "    func(*args, **kwargs)\n",
      "  File \"C:\\Users\\hfyhn\\anaconda3\\envs\\pyxem\\Lib\\site-packages\\hyperspy\\drawing\\_widgets\\line2d.py\", line 397, in _onmousemove\n",
      "    self._resize(event)\n",
      "  File \"C:\\Users\\hfyhn\\anaconda3\\envs\\pyxem\\Lib\\site-packages\\hyperspy\\drawing\\_widgets\\line2d.py\", line 429, in _resize\n",
      "    dx = self._get_diff(event)\n",
      "         ^^^^^^^^^^^^^^^^^^^^^\n",
      "  File \"C:\\Users\\hfyhn\\anaconda3\\envs\\pyxem\\Lib\\site-packages\\hyperspy\\drawing\\_widgets\\line2d.py\", line 410, in _get_diff\n",
      "    dx = event.xdata - self._drag_start[0]\n",
      "         ~~~~~~~~~~~~^~~~~~~~~~~~~~~~~~~~~\n",
      "TypeError: unsupported operand type(s) for -: 'float' and 'NoneType'\n",
      "Traceback (most recent call last):\n",
      "  File \"C:\\Users\\hfyhn\\anaconda3\\envs\\pyxem\\Lib\\site-packages\\matplotlib\\cbook\\__init__.py\", line 304, in process\n",
      "    func(*args, **kwargs)\n",
      "  File \"C:\\Users\\hfyhn\\anaconda3\\envs\\pyxem\\Lib\\site-packages\\hyperspy\\drawing\\_widgets\\line2d.py\", line 397, in _onmousemove\n",
      "    self._resize(event)\n",
      "  File \"C:\\Users\\hfyhn\\anaconda3\\envs\\pyxem\\Lib\\site-packages\\hyperspy\\drawing\\_widgets\\line2d.py\", line 429, in _resize\n",
      "    dx = self._get_diff(event)\n",
      "         ^^^^^^^^^^^^^^^^^^^^^\n",
      "  File \"C:\\Users\\hfyhn\\anaconda3\\envs\\pyxem\\Lib\\site-packages\\hyperspy\\drawing\\_widgets\\line2d.py\", line 410, in _get_diff\n",
      "    dx = event.xdata - self._drag_start[0]\n",
      "         ~~~~~~~~~~~~^~~~~~~~~~~~~~~~~~~~~\n",
      "TypeError: unsupported operand type(s) for -: 'float' and 'NoneType'\n",
      "Traceback (most recent call last):\n",
      "  File \"C:\\Users\\hfyhn\\anaconda3\\envs\\pyxem\\Lib\\site-packages\\matplotlib\\cbook\\__init__.py\", line 304, in process\n",
      "    func(*args, **kwargs)\n",
      "  File \"C:\\Users\\hfyhn\\anaconda3\\envs\\pyxem\\Lib\\site-packages\\hyperspy\\drawing\\_widgets\\line2d.py\", line 397, in _onmousemove\n",
      "    self._resize(event)\n",
      "  File \"C:\\Users\\hfyhn\\anaconda3\\envs\\pyxem\\Lib\\site-packages\\hyperspy\\drawing\\_widgets\\line2d.py\", line 429, in _resize\n",
      "    dx = self._get_diff(event)\n",
      "         ^^^^^^^^^^^^^^^^^^^^^\n",
      "  File \"C:\\Users\\hfyhn\\anaconda3\\envs\\pyxem\\Lib\\site-packages\\hyperspy\\drawing\\_widgets\\line2d.py\", line 410, in _get_diff\n",
      "    dx = event.xdata - self._drag_start[0]\n",
      "         ~~~~~~~~~~~~^~~~~~~~~~~~~~~~~~~~~\n",
      "TypeError: unsupported operand type(s) for -: 'float' and 'NoneType'\n",
      "Traceback (most recent call last):\n",
      "  File \"C:\\Users\\hfyhn\\anaconda3\\envs\\pyxem\\Lib\\site-packages\\matplotlib\\cbook\\__init__.py\", line 304, in process\n",
      "    func(*args, **kwargs)\n",
      "  File \"C:\\Users\\hfyhn\\anaconda3\\envs\\pyxem\\Lib\\site-packages\\hyperspy\\drawing\\_widgets\\line2d.py\", line 397, in _onmousemove\n",
      "    self._resize(event)\n",
      "  File \"C:\\Users\\hfyhn\\anaconda3\\envs\\pyxem\\Lib\\site-packages\\hyperspy\\drawing\\_widgets\\line2d.py\", line 429, in _resize\n",
      "    dx = self._get_diff(event)\n",
      "         ^^^^^^^^^^^^^^^^^^^^^\n",
      "  File \"C:\\Users\\hfyhn\\anaconda3\\envs\\pyxem\\Lib\\site-packages\\hyperspy\\drawing\\_widgets\\line2d.py\", line 410, in _get_diff\n",
      "    dx = event.xdata - self._drag_start[0]\n",
      "         ~~~~~~~~~~~~^~~~~~~~~~~~~~~~~~~~~\n",
      "TypeError: unsupported operand type(s) for -: 'float' and 'NoneType'\n",
      "Traceback (most recent call last):\n",
      "  File \"C:\\Users\\hfyhn\\anaconda3\\envs\\pyxem\\Lib\\site-packages\\matplotlib\\cbook\\__init__.py\", line 304, in process\n",
      "    func(*args, **kwargs)\n",
      "  File \"C:\\Users\\hfyhn\\anaconda3\\envs\\pyxem\\Lib\\site-packages\\hyperspy\\drawing\\_widgets\\line2d.py\", line 397, in _onmousemove\n",
      "    self._resize(event)\n",
      "  File \"C:\\Users\\hfyhn\\anaconda3\\envs\\pyxem\\Lib\\site-packages\\hyperspy\\drawing\\_widgets\\line2d.py\", line 429, in _resize\n",
      "    dx = self._get_diff(event)\n",
      "         ^^^^^^^^^^^^^^^^^^^^^\n",
      "  File \"C:\\Users\\hfyhn\\anaconda3\\envs\\pyxem\\Lib\\site-packages\\hyperspy\\drawing\\_widgets\\line2d.py\", line 410, in _get_diff\n",
      "    dx = event.xdata - self._drag_start[0]\n",
      "         ~~~~~~~~~~~~^~~~~~~~~~~~~~~~~~~~~\n",
      "TypeError: unsupported operand type(s) for -: 'float' and 'NoneType'\n",
      "Traceback (most recent call last):\n",
      "  File \"C:\\Users\\hfyhn\\anaconda3\\envs\\pyxem\\Lib\\site-packages\\matplotlib\\cbook\\__init__.py\", line 304, in process\n",
      "    func(*args, **kwargs)\n",
      "  File \"C:\\Users\\hfyhn\\anaconda3\\envs\\pyxem\\Lib\\site-packages\\hyperspy\\drawing\\_widgets\\line2d.py\", line 397, in _onmousemove\n",
      "    self._resize(event)\n",
      "  File \"C:\\Users\\hfyhn\\anaconda3\\envs\\pyxem\\Lib\\site-packages\\hyperspy\\drawing\\_widgets\\line2d.py\", line 429, in _resize\n",
      "    dx = self._get_diff(event)\n",
      "         ^^^^^^^^^^^^^^^^^^^^^\n",
      "  File \"C:\\Users\\hfyhn\\anaconda3\\envs\\pyxem\\Lib\\site-packages\\hyperspy\\drawing\\_widgets\\line2d.py\", line 410, in _get_diff\n",
      "    dx = event.xdata - self._drag_start[0]\n",
      "         ~~~~~~~~~~~~^~~~~~~~~~~~~~~~~~~~~\n",
      "TypeError: unsupported operand type(s) for -: 'float' and 'NoneType'\n",
      "Traceback (most recent call last):\n",
      "  File \"C:\\Users\\hfyhn\\anaconda3\\envs\\pyxem\\Lib\\site-packages\\matplotlib\\cbook\\__init__.py\", line 304, in process\n",
      "    func(*args, **kwargs)\n",
      "  File \"C:\\Users\\hfyhn\\anaconda3\\envs\\pyxem\\Lib\\site-packages\\hyperspy\\drawing\\_widgets\\line2d.py\", line 397, in _onmousemove\n",
      "    self._resize(event)\n",
      "  File \"C:\\Users\\hfyhn\\anaconda3\\envs\\pyxem\\Lib\\site-packages\\hyperspy\\drawing\\_widgets\\line2d.py\", line 429, in _resize\n",
      "    dx = self._get_diff(event)\n",
      "         ^^^^^^^^^^^^^^^^^^^^^\n",
      "  File \"C:\\Users\\hfyhn\\anaconda3\\envs\\pyxem\\Lib\\site-packages\\hyperspy\\drawing\\_widgets\\line2d.py\", line 410, in _get_diff\n",
      "    dx = event.xdata - self._drag_start[0]\n",
      "         ~~~~~~~~~~~~^~~~~~~~~~~~~~~~~~~~~\n",
      "TypeError: unsupported operand type(s) for -: 'float' and 'NoneType'\n",
      "Traceback (most recent call last):\n",
      "  File \"C:\\Users\\hfyhn\\anaconda3\\envs\\pyxem\\Lib\\site-packages\\matplotlib\\cbook\\__init__.py\", line 304, in process\n",
      "    func(*args, **kwargs)\n",
      "  File \"C:\\Users\\hfyhn\\anaconda3\\envs\\pyxem\\Lib\\site-packages\\hyperspy\\drawing\\_widgets\\line2d.py\", line 397, in _onmousemove\n",
      "    self._resize(event)\n",
      "  File \"C:\\Users\\hfyhn\\anaconda3\\envs\\pyxem\\Lib\\site-packages\\hyperspy\\drawing\\_widgets\\line2d.py\", line 429, in _resize\n",
      "    dx = self._get_diff(event)\n",
      "         ^^^^^^^^^^^^^^^^^^^^^\n",
      "  File \"C:\\Users\\hfyhn\\anaconda3\\envs\\pyxem\\Lib\\site-packages\\hyperspy\\drawing\\_widgets\\line2d.py\", line 410, in _get_diff\n",
      "    dx = event.xdata - self._drag_start[0]\n",
      "         ~~~~~~~~~~~~^~~~~~~~~~~~~~~~~~~~~\n",
      "TypeError: unsupported operand type(s) for -: 'float' and 'NoneType'\n",
      "Traceback (most recent call last):\n",
      "  File \"C:\\Users\\hfyhn\\anaconda3\\envs\\pyxem\\Lib\\site-packages\\matplotlib\\cbook\\__init__.py\", line 304, in process\n",
      "    func(*args, **kwargs)\n",
      "  File \"C:\\Users\\hfyhn\\anaconda3\\envs\\pyxem\\Lib\\site-packages\\hyperspy\\drawing\\_widgets\\line2d.py\", line 397, in _onmousemove\n",
      "    self._resize(event)\n",
      "  File \"C:\\Users\\hfyhn\\anaconda3\\envs\\pyxem\\Lib\\site-packages\\hyperspy\\drawing\\_widgets\\line2d.py\", line 429, in _resize\n",
      "    dx = self._get_diff(event)\n",
      "         ^^^^^^^^^^^^^^^^^^^^^\n",
      "  File \"C:\\Users\\hfyhn\\anaconda3\\envs\\pyxem\\Lib\\site-packages\\hyperspy\\drawing\\_widgets\\line2d.py\", line 410, in _get_diff\n",
      "    dx = event.xdata - self._drag_start[0]\n",
      "         ~~~~~~~~~~~~^~~~~~~~~~~~~~~~~~~~~\n",
      "TypeError: unsupported operand type(s) for -: 'float' and 'NoneType'\n",
      "Traceback (most recent call last):\n",
      "  File \"C:\\Users\\hfyhn\\anaconda3\\envs\\pyxem\\Lib\\site-packages\\matplotlib\\cbook\\__init__.py\", line 304, in process\n",
      "    func(*args, **kwargs)\n",
      "  File \"C:\\Users\\hfyhn\\anaconda3\\envs\\pyxem\\Lib\\site-packages\\hyperspy\\drawing\\_widgets\\line2d.py\", line 397, in _onmousemove\n",
      "    self._resize(event)\n",
      "  File \"C:\\Users\\hfyhn\\anaconda3\\envs\\pyxem\\Lib\\site-packages\\hyperspy\\drawing\\_widgets\\line2d.py\", line 429, in _resize\n",
      "    dx = self._get_diff(event)\n",
      "         ^^^^^^^^^^^^^^^^^^^^^\n",
      "  File \"C:\\Users\\hfyhn\\anaconda3\\envs\\pyxem\\Lib\\site-packages\\hyperspy\\drawing\\_widgets\\line2d.py\", line 410, in _get_diff\n",
      "    dx = event.xdata - self._drag_start[0]\n",
      "         ~~~~~~~~~~~~^~~~~~~~~~~~~~~~~~~~~\n",
      "TypeError: unsupported operand type(s) for -: 'float' and 'NoneType'\n",
      "Traceback (most recent call last):\n",
      "  File \"C:\\Users\\hfyhn\\anaconda3\\envs\\pyxem\\Lib\\site-packages\\matplotlib\\cbook\\__init__.py\", line 304, in process\n",
      "    func(*args, **kwargs)\n",
      "  File \"C:\\Users\\hfyhn\\anaconda3\\envs\\pyxem\\Lib\\site-packages\\hyperspy\\drawing\\_widgets\\line2d.py\", line 397, in _onmousemove\n",
      "    self._resize(event)\n",
      "  File \"C:\\Users\\hfyhn\\anaconda3\\envs\\pyxem\\Lib\\site-packages\\hyperspy\\drawing\\_widgets\\line2d.py\", line 429, in _resize\n",
      "    dx = self._get_diff(event)\n",
      "         ^^^^^^^^^^^^^^^^^^^^^\n",
      "  File \"C:\\Users\\hfyhn\\anaconda3\\envs\\pyxem\\Lib\\site-packages\\hyperspy\\drawing\\_widgets\\line2d.py\", line 410, in _get_diff\n",
      "    dx = event.xdata - self._drag_start[0]\n",
      "         ~~~~~~~~~~~~^~~~~~~~~~~~~~~~~~~~~\n",
      "TypeError: unsupported operand type(s) for -: 'float' and 'NoneType'\n",
      "Traceback (most recent call last):\n",
      "  File \"C:\\Users\\hfyhn\\anaconda3\\envs\\pyxem\\Lib\\site-packages\\matplotlib\\cbook\\__init__.py\", line 304, in process\n",
      "    func(*args, **kwargs)\n",
      "  File \"C:\\Users\\hfyhn\\anaconda3\\envs\\pyxem\\Lib\\site-packages\\hyperspy\\drawing\\_widgets\\line2d.py\", line 397, in _onmousemove\n",
      "    self._resize(event)\n",
      "  File \"C:\\Users\\hfyhn\\anaconda3\\envs\\pyxem\\Lib\\site-packages\\hyperspy\\drawing\\_widgets\\line2d.py\", line 429, in _resize\n",
      "    dx = self._get_diff(event)\n",
      "         ^^^^^^^^^^^^^^^^^^^^^\n",
      "  File \"C:\\Users\\hfyhn\\anaconda3\\envs\\pyxem\\Lib\\site-packages\\hyperspy\\drawing\\_widgets\\line2d.py\", line 410, in _get_diff\n",
      "    dx = event.xdata - self._drag_start[0]\n",
      "         ~~~~~~~~~~~~^~~~~~~~~~~~~~~~~~~~~\n",
      "TypeError: unsupported operand type(s) for -: 'float' and 'NoneType'\n",
      "Traceback (most recent call last):\n",
      "  File \"C:\\Users\\hfyhn\\anaconda3\\envs\\pyxem\\Lib\\site-packages\\matplotlib\\cbook\\__init__.py\", line 304, in process\n",
      "    func(*args, **kwargs)\n",
      "  File \"C:\\Users\\hfyhn\\anaconda3\\envs\\pyxem\\Lib\\site-packages\\hyperspy\\drawing\\_widgets\\line2d.py\", line 397, in _onmousemove\n",
      "    self._resize(event)\n",
      "  File \"C:\\Users\\hfyhn\\anaconda3\\envs\\pyxem\\Lib\\site-packages\\hyperspy\\drawing\\_widgets\\line2d.py\", line 429, in _resize\n",
      "    dx = self._get_diff(event)\n",
      "         ^^^^^^^^^^^^^^^^^^^^^\n",
      "  File \"C:\\Users\\hfyhn\\anaconda3\\envs\\pyxem\\Lib\\site-packages\\hyperspy\\drawing\\_widgets\\line2d.py\", line 410, in _get_diff\n",
      "    dx = event.xdata - self._drag_start[0]\n",
      "         ~~~~~~~~~~~~^~~~~~~~~~~~~~~~~~~~~\n",
      "TypeError: unsupported operand type(s) for -: 'float' and 'NoneType'\n",
      "Traceback (most recent call last):\n",
      "  File \"C:\\Users\\hfyhn\\anaconda3\\envs\\pyxem\\Lib\\site-packages\\matplotlib\\cbook\\__init__.py\", line 304, in process\n",
      "    func(*args, **kwargs)\n",
      "  File \"C:\\Users\\hfyhn\\anaconda3\\envs\\pyxem\\Lib\\site-packages\\hyperspy\\drawing\\_widgets\\line2d.py\", line 397, in _onmousemove\n",
      "    self._resize(event)\n",
      "  File \"C:\\Users\\hfyhn\\anaconda3\\envs\\pyxem\\Lib\\site-packages\\hyperspy\\drawing\\_widgets\\line2d.py\", line 429, in _resize\n",
      "    dx = self._get_diff(event)\n",
      "         ^^^^^^^^^^^^^^^^^^^^^\n",
      "  File \"C:\\Users\\hfyhn\\anaconda3\\envs\\pyxem\\Lib\\site-packages\\hyperspy\\drawing\\_widgets\\line2d.py\", line 410, in _get_diff\n",
      "    dx = event.xdata - self._drag_start[0]\n",
      "         ~~~~~~~~~~~~^~~~~~~~~~~~~~~~~~~~~\n",
      "TypeError: unsupported operand type(s) for -: 'float' and 'NoneType'\n",
      "Traceback (most recent call last):\n",
      "  File \"C:\\Users\\hfyhn\\anaconda3\\envs\\pyxem\\Lib\\site-packages\\matplotlib\\cbook\\__init__.py\", line 304, in process\n",
      "    func(*args, **kwargs)\n",
      "  File \"C:\\Users\\hfyhn\\anaconda3\\envs\\pyxem\\Lib\\site-packages\\hyperspy\\drawing\\_widgets\\line2d.py\", line 397, in _onmousemove\n",
      "    self._resize(event)\n",
      "  File \"C:\\Users\\hfyhn\\anaconda3\\envs\\pyxem\\Lib\\site-packages\\hyperspy\\drawing\\_widgets\\line2d.py\", line 429, in _resize\n",
      "    dx = self._get_diff(event)\n",
      "         ^^^^^^^^^^^^^^^^^^^^^\n",
      "  File \"C:\\Users\\hfyhn\\anaconda3\\envs\\pyxem\\Lib\\site-packages\\hyperspy\\drawing\\_widgets\\line2d.py\", line 410, in _get_diff\n",
      "    dx = event.xdata - self._drag_start[0]\n",
      "         ~~~~~~~~~~~~^~~~~~~~~~~~~~~~~~~~~\n",
      "TypeError: unsupported operand type(s) for -: 'float' and 'NoneType'\n",
      "Traceback (most recent call last):\n",
      "  File \"C:\\Users\\hfyhn\\anaconda3\\envs\\pyxem\\Lib\\site-packages\\matplotlib\\cbook\\__init__.py\", line 304, in process\n",
      "    func(*args, **kwargs)\n",
      "  File \"C:\\Users\\hfyhn\\anaconda3\\envs\\pyxem\\Lib\\site-packages\\hyperspy\\drawing\\_widgets\\line2d.py\", line 397, in _onmousemove\n",
      "    self._resize(event)\n",
      "  File \"C:\\Users\\hfyhn\\anaconda3\\envs\\pyxem\\Lib\\site-packages\\hyperspy\\drawing\\_widgets\\line2d.py\", line 429, in _resize\n",
      "    dx = self._get_diff(event)\n",
      "         ^^^^^^^^^^^^^^^^^^^^^\n",
      "  File \"C:\\Users\\hfyhn\\anaconda3\\envs\\pyxem\\Lib\\site-packages\\hyperspy\\drawing\\_widgets\\line2d.py\", line 410, in _get_diff\n",
      "    dx = event.xdata - self._drag_start[0]\n",
      "         ~~~~~~~~~~~~^~~~~~~~~~~~~~~~~~~~~\n",
      "TypeError: unsupported operand type(s) for -: 'float' and 'NoneType'\n",
      "Traceback (most recent call last):\n",
      "  File \"C:\\Users\\hfyhn\\anaconda3\\envs\\pyxem\\Lib\\site-packages\\matplotlib\\cbook\\__init__.py\", line 304, in process\n",
      "    func(*args, **kwargs)\n",
      "  File \"C:\\Users\\hfyhn\\anaconda3\\envs\\pyxem\\Lib\\site-packages\\hyperspy\\drawing\\_widgets\\line2d.py\", line 397, in _onmousemove\n",
      "    self._resize(event)\n",
      "  File \"C:\\Users\\hfyhn\\anaconda3\\envs\\pyxem\\Lib\\site-packages\\hyperspy\\drawing\\_widgets\\line2d.py\", line 429, in _resize\n",
      "    dx = self._get_diff(event)\n",
      "         ^^^^^^^^^^^^^^^^^^^^^\n",
      "  File \"C:\\Users\\hfyhn\\anaconda3\\envs\\pyxem\\Lib\\site-packages\\hyperspy\\drawing\\_widgets\\line2d.py\", line 410, in _get_diff\n",
      "    dx = event.xdata - self._drag_start[0]\n",
      "         ~~~~~~~~~~~~^~~~~~~~~~~~~~~~~~~~~\n",
      "TypeError: unsupported operand type(s) for -: 'float' and 'NoneType'\n",
      "Traceback (most recent call last):\n",
      "  File \"C:\\Users\\hfyhn\\anaconda3\\envs\\pyxem\\Lib\\site-packages\\matplotlib\\cbook\\__init__.py\", line 304, in process\n",
      "    func(*args, **kwargs)\n",
      "  File \"C:\\Users\\hfyhn\\anaconda3\\envs\\pyxem\\Lib\\site-packages\\hyperspy\\drawing\\_widgets\\line2d.py\", line 397, in _onmousemove\n",
      "    self._resize(event)\n",
      "  File \"C:\\Users\\hfyhn\\anaconda3\\envs\\pyxem\\Lib\\site-packages\\hyperspy\\drawing\\_widgets\\line2d.py\", line 429, in _resize\n",
      "    dx = self._get_diff(event)\n",
      "         ^^^^^^^^^^^^^^^^^^^^^\n",
      "  File \"C:\\Users\\hfyhn\\anaconda3\\envs\\pyxem\\Lib\\site-packages\\hyperspy\\drawing\\_widgets\\line2d.py\", line 410, in _get_diff\n",
      "    dx = event.xdata - self._drag_start[0]\n",
      "         ~~~~~~~~~~~~^~~~~~~~~~~~~~~~~~~~~\n",
      "TypeError: unsupported operand type(s) for -: 'float' and 'NoneType'\n",
      "Traceback (most recent call last):\n",
      "  File \"C:\\Users\\hfyhn\\anaconda3\\envs\\pyxem\\Lib\\site-packages\\matplotlib\\cbook\\__init__.py\", line 304, in process\n",
      "    func(*args, **kwargs)\n",
      "  File \"C:\\Users\\hfyhn\\anaconda3\\envs\\pyxem\\Lib\\site-packages\\hyperspy\\drawing\\_widgets\\line2d.py\", line 397, in _onmousemove\n",
      "    self._resize(event)\n",
      "  File \"C:\\Users\\hfyhn\\anaconda3\\envs\\pyxem\\Lib\\site-packages\\hyperspy\\drawing\\_widgets\\line2d.py\", line 429, in _resize\n",
      "    dx = self._get_diff(event)\n",
      "         ^^^^^^^^^^^^^^^^^^^^^\n",
      "  File \"C:\\Users\\hfyhn\\anaconda3\\envs\\pyxem\\Lib\\site-packages\\hyperspy\\drawing\\_widgets\\line2d.py\", line 410, in _get_diff\n",
      "    dx = event.xdata - self._drag_start[0]\n",
      "         ~~~~~~~~~~~~^~~~~~~~~~~~~~~~~~~~~\n",
      "TypeError: unsupported operand type(s) for -: 'float' and 'NoneType'\n",
      "Traceback (most recent call last):\n",
      "  File \"C:\\Users\\hfyhn\\anaconda3\\envs\\pyxem\\Lib\\site-packages\\matplotlib\\cbook\\__init__.py\", line 304, in process\n",
      "    func(*args, **kwargs)\n",
      "  File \"C:\\Users\\hfyhn\\anaconda3\\envs\\pyxem\\Lib\\site-packages\\hyperspy\\drawing\\_widgets\\line2d.py\", line 397, in _onmousemove\n",
      "    self._resize(event)\n",
      "  File \"C:\\Users\\hfyhn\\anaconda3\\envs\\pyxem\\Lib\\site-packages\\hyperspy\\drawing\\_widgets\\line2d.py\", line 429, in _resize\n",
      "    dx = self._get_diff(event)\n",
      "         ^^^^^^^^^^^^^^^^^^^^^\n",
      "  File \"C:\\Users\\hfyhn\\anaconda3\\envs\\pyxem\\Lib\\site-packages\\hyperspy\\drawing\\_widgets\\line2d.py\", line 410, in _get_diff\n",
      "    dx = event.xdata - self._drag_start[0]\n",
      "         ~~~~~~~~~~~~^~~~~~~~~~~~~~~~~~~~~\n",
      "TypeError: unsupported operand type(s) for -: 'float' and 'NoneType'\n",
      "Traceback (most recent call last):\n",
      "  File \"C:\\Users\\hfyhn\\anaconda3\\envs\\pyxem\\Lib\\site-packages\\matplotlib\\cbook\\__init__.py\", line 304, in process\n",
      "    func(*args, **kwargs)\n",
      "  File \"C:\\Users\\hfyhn\\anaconda3\\envs\\pyxem\\Lib\\site-packages\\hyperspy\\drawing\\_widgets\\line2d.py\", line 397, in _onmousemove\n",
      "    self._resize(event)\n",
      "  File \"C:\\Users\\hfyhn\\anaconda3\\envs\\pyxem\\Lib\\site-packages\\hyperspy\\drawing\\_widgets\\line2d.py\", line 429, in _resize\n",
      "    dx = self._get_diff(event)\n",
      "         ^^^^^^^^^^^^^^^^^^^^^\n",
      "  File \"C:\\Users\\hfyhn\\anaconda3\\envs\\pyxem\\Lib\\site-packages\\hyperspy\\drawing\\_widgets\\line2d.py\", line 410, in _get_diff\n",
      "    dx = event.xdata - self._drag_start[0]\n",
      "         ~~~~~~~~~~~~^~~~~~~~~~~~~~~~~~~~~\n",
      "TypeError: unsupported operand type(s) for -: 'float' and 'NoneType'\n"
     ]
    }
   ],
   "source": [
    "#dp = dp_max\n",
    "dp = signal.get_current_signal()\n",
    "dp.plot(norm='symlog')\n",
    "line = hs.roi.Line2DROI()\n",
    "profile = line.interactive(dp)\n",
    "profile.plot(norm='log')\n",
    "span = hs.roi.SpanROI()\n",
    "span.add_widget(profile)"
   ]
  },
  {
   "cell_type": "markdown",
   "metadata": {},
   "source": [
    "Calculate the scale of the diffraction patterns. \n",
    "\n",
    "_NB_: This cell is __only valid for cubic crystals!!__"
   ]
  },
  {
   "cell_type": "raw",
   "metadata": {
    "tags": []
   },
   "source": [
    "a_Ag = 4.09 #Å\n",
    "h, k, l = 1, 1, 1\n",
    "n = 5\n",
    "hkl = np.array([h, k, l])*n\n",
    "g_hkl = np.sqrt(np.sum((hkl/a_Ag)**2))\n",
    "L = (span.right-span.left) / profile.axes_manager[0].scale\n",
    "scale = g_hkl / L\n",
    "print(f'Lattice spacing of ({h*n}, {k*n}, {l*n}) is {g_hkl:.3g} 1/Å\\nMeasured distance on detector is {L:.2f}\\nDiffraction scale is {scale:.3g} 1/Å')"
   ]
  },
  {
   "cell_type": "markdown",
   "metadata": {},
   "source": [
    "Set the diffraction scale if you are satisfied"
   ]
  },
  {
   "cell_type": "code",
   "execution_count": 26,
   "metadata": {
    "tags": []
   },
   "outputs": [],
   "source": [
    "signal.set_diffraction_calibration(scale)"
   ]
  },
  {
   "cell_type": "markdown",
   "metadata": {},
   "source": [
    "# 9. Save processed data"
   ]
  },
  {
   "cell_type": "code",
   "execution_count": 27,
   "metadata": {
    "tags": []
   },
   "outputs": [
    {
     "name": "stdout",
     "output_type": "stream",
     "text": [
      "[########################################] | 100% Completed | 166.03 s\n",
      "[########################################] | 100% Completed | 111.08 ms\n"
     ]
    }
   ],
   "source": [
    "signal.save(datapath.with_name(f'{datapath.stem}_cropped_centered.hspy'))"
   ]
  },
  {
   "cell_type": "markdown",
   "metadata": {},
   "source": [
    "# 10. Load processed data"
   ]
  },
  {
   "cell_type": "code",
   "execution_count": null,
   "metadata": {},
   "outputs": [],
   "source": [
    "signal = hs.load(datapath.with_name(f'{datapath.stem}_cropped_centered.hspy'), lazy=True)"
   ]
  },
  {
   "cell_type": "markdown",
   "metadata": {
    "tags": []
   },
   "source": [
    "# 11. Basic VDF analysis\n",
    "Store some positions of the roi and create VDF images of them. Also add the positions of the \"aperture\" positions as markers to the diffraction pattern."
   ]
  },
  {
   "cell_type": "code",
   "execution_count": 53,
   "metadata": {
    "tags": []
   },
   "outputs": [],
   "source": [
    "#roi = hs.roi.CircleROI(0.0, 0.0, 0.1) #For calibrated data sets\n",
    "# For uncalibrated data sets:\n",
    "nx, ny = signal.axes_manager.signal_shape #Get the signal shape\n",
    "roi = hs.roi.CircleROI(0, 0, 10) #For calibrated data sets, position the ROI at the middle of the diffraction pattern and with a radius of 10 pixels\n",
    "signal.plot_integrated_intensity(roi)"
   ]
  },
  {
   "cell_type": "code",
   "execution_count": 57,
   "metadata": {
    "collapsed": false,
    "jupyter": {
     "outputs_hidden": false
    },
    "tags": []
   },
   "outputs": [],
   "source": [
    "positions = [] #Create an empty list of virtual aperture positions"
   ]
  },
  {
   "cell_type": "markdown",
   "metadata": {},
   "source": [
    "Run the next cell to add an aperture position to the list created above. Run it several times to store more aperture positions. IMPORTANT: this is a fairly \"stupid\" way of doing this - if you run it several times without moving or chaning the virtual aperture, you will most likely get unwanted results"
   ]
  },
  {
   "cell_type": "code",
   "execution_count": 60,
   "metadata": {
    "collapsed": false,
    "jupyter": {
     "outputs_hidden": false
    },
    "tags": []
   },
   "outputs": [],
   "source": [
    "positions.append(tuple([roi.cx, roi.cy, roi.r]))"
   ]
  },
  {
   "cell_type": "markdown",
   "metadata": {},
   "source": [
    "Print the stored positions. This can be useful if you start the notebook over, as you can use these numbers to manually place the different ROIs"
   ]
  },
  {
   "cell_type": "code",
   "execution_count": 61,
   "metadata": {
    "collapsed": false,
    "jupyter": {
     "outputs_hidden": false
    },
    "tags": []
   },
   "outputs": [
    {
     "name": "stdout",
     "output_type": "stream",
     "text": [
      " Position 1: (-0.0004578875009403501, -0.0002891921058570633, 0.00013254638209214738)\n",
      " Position 2: (-0.0004096888166308394, -0.0007711789489521685, 0.00013254638209214738)\n"
     ]
    }
   ],
   "source": [
    "_ = [print(f' Position {i+1}: {position}') for i, position in enumerate(positions)]"
   ]
  },
  {
   "cell_type": "markdown",
   "metadata": {},
   "source": [
    "Create new ROIs based on the stored positions. It seems a bit \"backwards\", not simply storing the ROIs we moved around, but it is important to realise that each ROI is a dynamic object. If you store it, move it and then store it again, both variables will point to the same object and only the updated ROI will be stored, not the first one! It is therefore sometimes necessary to do it the \"hard way\" and extract the current positions as we did above, and the create new ROIs based on those"
   ]
  },
  {
   "cell_type": "code",
   "execution_count": 63,
   "metadata": {
    "collapsed": false,
    "jupyter": {
     "outputs_hidden": false
    },
    "tags": []
   },
   "outputs": [],
   "source": [
    "if False: #Toggle this if you want to use predefined or previously manually measured positions\n",
    "    positions = [\n",
    "        (0.4570201218767853, -0.17474298777641795, 0.10081326231312035),\n",
    "        (-0.02688353658098741, -0.4839036584577727, 0.10081326231312035),\n",
    "        (-0.3226024389718485, -0.3763695121338233, 0.10081326231312035),\n",
    "        (0.24195182922888647, -0.4301365852957981, 0.10081326231312035)\n",
    "    ]\n",
    "rois = [hs.roi.CircleROI(position[0], position[1], position[2]) for position in positions] #create new sets of virtual apertures based on the stored positions"
   ]
  },
  {
   "cell_type": "markdown",
   "metadata": {},
   "source": [
    "Now, let us create VDFs and put some markers in a representative diffraction pattern to show which parts of the diffraction pattern was integrated to create each image"
   ]
  },
  {
   "cell_type": "code",
   "execution_count": 64,
   "metadata": {
    "collapsed": false,
    "jupyter": {
     "outputs_hidden": false
    },
    "tags": []
   },
   "outputs": [
    {
     "name": "stderr",
     "output_type": "stream",
     "text": [
      "C:\\Users\\hfyhn\\anaconda3\\envs\\pyxem\\Lib\\site-packages\\hyperspy\\drawing\\_markers\\ellipse.py:106: UserWarning: Setting the 'color' property will override the edgecolor or facecolor properties.\n",
      "  self.marker = self.ax.add_patch(patches.Ellipse(\n",
      "C:\\Users\\hfyhn\\anaconda3\\envs\\pyxem\\Lib\\site-packages\\hyperspy\\drawing\\_markers\\ellipse.py:106: UserWarning: Setting the 'color' property will override the edgecolor or facecolor properties.\n",
      "  self.marker = self.ax.add_patch(patches.Ellipse(\n",
      "C:\\Users\\hfyhn\\anaconda3\\envs\\pyxem\\Lib\\site-packages\\hyperspy\\drawing\\_markers\\ellipse.py:106: UserWarning: Setting the 'color' property will override the edgecolor or facecolor properties.\n",
      "  self.marker = self.ax.add_patch(patches.Ellipse(\n"
     ]
    },
    {
     "name": "stdout",
     "output_type": "stream",
     "text": [
      "[########################################] | 100% Completed | 40.42 s\n",
      "[########################################] | 100% Completed | 37.63 s\n",
      "[########################################] | 100% Completed | 35.76 s\n",
      "[########################################] | 100% Completed | 35.15 s\n"
     ]
    }
   ],
   "source": [
    "vdfs = [] #Create empty list of VDFs\n",
    "dp_mean = signal.mean(axis=[0, 1]) #Create as mean diffraction pattern to show the positions of the apertures\n",
    "#dp_mean.compute() #Calculate the mean (remember: we have not read the data into memory yet, and we need to call `compute()` to do so)\n",
    "dp_max = signal.max(axis=[0, 1])\n",
    "#dp_max.compute()\n",
    "for i, roi in enumerate(rois):\n",
    "    x, y, r_integration = roi.cx, roi.cy, roi.r\n",
    "\n",
    "    r = np.sqrt(roi.cx**2 + roi.cy**2)\n",
    "    phi = np.sign(roi.cy)*np.arccos(roi.cx/r)*180/np.pi\n",
    "    degree_symbol = '$^{\\circ}$'\n",
    "    vdf = signal.get_integrated_intensity(roi)\n",
    "    vdf.metadata.General.title = f'VDF {i} (d={r:.2f} {signal.axes_manager[2].units}, {phi:.0f}{degree_symbol})'\n",
    "    vdfs.append(vdf)\n",
    "\n",
    "    dp_mean.add_marker(hs.plot.markers.ellipse(x=x, y=y, width=r_integration, height=r_integration, color='r'), permanent=True)\n",
    "    dp_mean.add_marker(hs.plot.markers.text(x=x, y=y, text=f'{i}', color='r'), permanent=True)\n",
    "\n",
    "    dp_max.add_marker(hs.plot.markers.ellipse(x=x, y=y, width=r_integration, height=r_integration, color='r'), permanent=True)\n",
    "    dp_max.add_marker(hs.plot.markers.text(x=x, y=y, text=f'{i}', color='r'), permanent=True)\n",
    "    \n",
    "[vdf.compute() for vdf in vdfs]\n",
    "dp_mean.compute()\n",
    "dp_max.compute()"
   ]
  },
  {
   "cell_type": "code",
   "execution_count": 65,
   "metadata": {
    "tags": []
   },
   "outputs": [
    {
     "ename": "AttributeError",
     "evalue": "'Signal2D' object has no attribute 'compute'",
     "output_type": "error",
     "traceback": [
      "\u001b[1;31m---------------------------------------------------------------------------\u001b[0m",
      "\u001b[1;31mAttributeError\u001b[0m                            Traceback (most recent call last)",
      "Cell \u001b[1;32mIn[65], line 1\u001b[0m\n\u001b[1;32m----> 1\u001b[0m [vdf\u001b[38;5;241m.\u001b[39mcompute() \u001b[38;5;28;01mfor\u001b[39;00m vdf \u001b[38;5;129;01min\u001b[39;00m vdfs]\n\u001b[0;32m      2\u001b[0m dp_mean\u001b[38;5;241m.\u001b[39mcompute()\n\u001b[0;32m      3\u001b[0m dp_max\u001b[38;5;241m.\u001b[39mcompute()\n",
      "Cell \u001b[1;32mIn[65], line 1\u001b[0m, in \u001b[0;36m<listcomp>\u001b[1;34m(.0)\u001b[0m\n\u001b[1;32m----> 1\u001b[0m [vdf\u001b[38;5;241m.\u001b[39mcompute() \u001b[38;5;28;01mfor\u001b[39;00m vdf \u001b[38;5;129;01min\u001b[39;00m vdfs]\n\u001b[0;32m      2\u001b[0m dp_mean\u001b[38;5;241m.\u001b[39mcompute()\n\u001b[0;32m      3\u001b[0m dp_max\u001b[38;5;241m.\u001b[39mcompute()\n",
      "\u001b[1;31mAttributeError\u001b[0m: 'Signal2D' object has no attribute 'compute'"
     ]
    }
   ],
   "source": [
    "[vdf.compute() for vdf in vdfs]\n",
    "dp_mean.compute()\n",
    "dp_max.compute()"
   ]
  },
  {
   "cell_type": "markdown",
   "metadata": {},
   "source": [
    "Let us plot the VDFs"
   ]
  },
  {
   "cell_type": "code",
   "execution_count": 66,
   "metadata": {
    "tags": []
   },
   "outputs": [
    {
     "data": {
      "image/png": "[encoded data removed]",
      "text/plain": [
       "<Figure size 640x640 with 4 Axes>"
      ]
     },
     "execution_count": 66,
     "metadata": {},
     "output_type": "execute_result"
    }
   ],
   "source": [
    "hs.plot.plot_images(vdfs+[dp_max, dp_mean], per_row=len(vdfs), axes_decor='off', colorbar=None)\n",
    "fig = plt.gcf()\n",
    "fig"
   ]
  },
  {
   "cell_type": "markdown",
   "metadata": {},
   "source": [
    "We can also plot the images like this to make the marked diffraction patterns more visible"
   ]
  },
  {
   "cell_type": "code",
   "execution_count": 67,
   "metadata": {
    "collapsed": false,
    "jupyter": {
     "outputs_hidden": false
    },
    "tags": []
   },
   "outputs": [
    {
     "name": "stderr",
     "output_type": "stream",
     "text": [
      "C:\\Users\\hfyhn\\anaconda3\\envs\\pyxem\\Lib\\site-packages\\hyperspy\\drawing\\_markers\\ellipse.py:106: UserWarning: Setting the 'color' property will override the edgecolor or facecolor properties.\n",
      "  self.marker = self.ax.add_patch(patches.Ellipse(\n",
      "C:\\Users\\hfyhn\\anaconda3\\envs\\pyxem\\Lib\\site-packages\\hyperspy\\drawing\\_markers\\ellipse.py:106: UserWarning: Setting the 'color' property will override the edgecolor or facecolor properties.\n",
      "  self.marker = self.ax.add_patch(patches.Ellipse(\n"
     ]
    },
    {
     "data": {
      "image/png": "[encoded data removed]",
      "text/plain": [
       "<Figure size 640x320 with 2 Axes>"
      ]
     },
     "execution_count": 67,
     "metadata": {},
     "output_type": "execute_result"
    }
   ],
   "source": [
    "hs.plot.plot_images(vdfs, per_row = len(vdfs), axes_decor='off', colorbar=None)\n",
    "fig = plt.gcf()\n",
    "dp_mean.plot(norm='symlog')\n",
    "dp_max.plot(norm='symlog')\n",
    "fig"
   ]
  },
  {
   "cell_type": "markdown",
   "metadata": {},
   "source": [
    "Let us also make individual plots of the images"
   ]
  },
  {
   "cell_type": "code",
   "execution_count": 68,
   "metadata": {
    "collapsed": false,
    "jupyter": {
     "outputs_hidden": false
    },
    "tags": []
   },
   "outputs": [
    {
     "name": "stderr",
     "output_type": "stream",
     "text": [
      "C:\\Users\\hfyhn\\anaconda3\\envs\\pyxem\\Lib\\site-packages\\hyperspy\\drawing\\_markers\\ellipse.py:106: UserWarning: Setting the 'color' property will override the edgecolor or facecolor properties.\n",
      "  self.marker = self.ax.add_patch(patches.Ellipse(\n",
      "C:\\Users\\hfyhn\\anaconda3\\envs\\pyxem\\Lib\\site-packages\\hyperspy\\drawing\\_markers\\ellipse.py:106: UserWarning: Setting the 'color' property will override the edgecolor or facecolor properties.\n",
      "  self.marker = self.ax.add_patch(patches.Ellipse(\n"
     ]
    }
   ],
   "source": [
    "colormap =plt.get_cmap('Greens_r')\n",
    "for i, vdf in enumerate(vdfs):\n",
    "    vdf.plot(cmap=colormap, colorbar=None, axes_off=True)\n",
    "    plt.tight_layout()\n",
    "    fig=plt.gcf()\n",
    "    fig.savefig(datapath.with_name(f'{datapath.stem}_VDF{i}.png'))\n",
    "    vdf.save(datapath.with_name(f'{datapath.stem}_VDF{i}.hspy'))\n",
    "\n",
    "dp_max.plot(norm='symlog', cmap=colormap, colorbar=None, axes_off=True)\n",
    "plt.tight_layout()\n",
    "fig = plt.gcf()\n",
    "fig.savefig(datapath.with_name(f'{datapath.stem}_max_VDF_apertures.png'))\n",
    "\n",
    "dp_mean.plot(norm='symlog', cmap=colormap, colorbar=None, axes_off=True)\n",
    "plt.tight_layout()\n",
    "fig = plt.gcf()\n",
    "fig.savefig(datapath.with_name(f'{datapath.stem}_mean_VDF_apertures.png'))"
   ]
  },
  {
   "cell_type": "markdown",
   "metadata": {},
   "source": [
    "Finally, let us see how we can overlay the different images and data to visualize them in a single image"
   ]
  },
  {
   "cell_type": "code",
   "execution_count": 69,
   "metadata": {
    "tags": []
   },
   "outputs": [
    {
     "data": {
      "image/png": "[encoded data removed]",
      "text/plain": [
       "<Figure size 497x480 with 1 Axes>"
      ]
     },
     "execution_count": 69,
     "metadata": {},
     "output_type": "execute_result"
    }
   ],
   "source": [
    "hs.plot.plot_images(vdfs, overlay=True, colors=['r', 'g', 'b', 'm'], axes_decor='off', label=None)\n",
    "fig = plt.gcf()\n",
    "fig"
   ]
  },
  {
   "cell_type": "markdown",
   "metadata": {},
   "source": [
    "We can also create composite images of the diffraction patterns, showing which reflections are used for the different colors. Let us first do this based on the `dp_max` showing all the reflections in the data"
   ]
  },
  {
   "cell_type": "code",
   "execution_count": 70,
   "metadata": {
    "tags": []
   },
   "outputs": [
    {
     "data": {
      "image/png": "[encoded data removed]",
      "text/plain": [
       "<Figure size 497x480 with 2 Axes>"
      ]
     },
     "execution_count": 70,
     "metadata": {},
     "output_type": "execute_result"
    }
   ],
   "source": [
    "x, y = dp_max.axes_manager[0].axis, dp_max.axes_manager[1].axis\n",
    "X, Y = np.meshgrid(y, x) #Create X and Y position matrices\n",
    "\n",
    "kmax = 0.6 #Maximum scattering vector to show\n",
    "dp_max_c = dp_max.isig[-kmax:kmax, -kmax:kmax].deepcopy() #Crop the dp_max down to a reasonable size - this will depend on the size of your plotted figure and the choice of reflections!\n",
    "reflections = [dp_max_c*np.ones(dp_max_c.axes_manager.signal_shape)] #Create a list that will contain the diffraction patterns we wish to overlay at the end\n",
    "\n",
    "#Loop through the ROIs and create circular masks based on them. Multiply this mask with the `dp_max_c` pattern to extract only that part from the pattern. Note that `roi(dp_max_c)` would not work!\n",
    "for roi in rois:\n",
    "    R = np.sqrt((X-roi.cx)**2 + (Y-roi.cy)**2)\n",
    "    mask = R<=roi.r\n",
    "    reflection = dp_max*mask\n",
    "    reflections.append(reflection.isig[-kmax:kmax, -kmax:kmax])\n",
    "\n",
    "#Plot the reflections as an overlay image in the same figure as we got before\n",
    "axes = hs.plot.plot_images(reflections, overlay=True, colors=['w', 'r', 'g', 'b', 'm'], axes_decor='off', label=None, fig=fig)\n",
    "ax = axes[0]\n",
    "ax.set_anchor('NE') #Move the axis of the inset DP to the upper right corner of the map. Note that this will cover parts of the data!\n",
    "#ax.set_position([0.12, 0, 1, 1])\n",
    "\n",
    "fig.savefig(datapath.with_name(f'{datapath.stem}_VDF_overlay.png'))\n",
    "fig"
   ]
  },
  {
   "cell_type": "markdown",
   "metadata": {},
   "source": [
    "Alternatively, we can extract representative diffraction patterns from the different parts of the VDF to overlay those and show the color \"maps\" based on them instead. However, note that this is different from before where we showed which reflections were actually _used_ to create the VDFs. The following is used to _illustrate_ their patterns. "
   ]
  },
  {
   "cell_type": "code",
   "execution_count": 71,
   "metadata": {
    "tags": []
   },
   "outputs": [],
   "source": [
    "#import some useful functions from scikit-image:\n",
    "from skimage.filters import try_all_threshold, threshold_isodata, threshold_li, threshold_local, threshold_mean, threshold_minimum, threshold_triangle, threshold_otsu, threshold_yen"
   ]
  },
  {
   "cell_type": "code",
   "execution_count": 72,
   "metadata": {
    "tags": []
   },
   "outputs": [
    {
     "name": "stdout",
     "output_type": "stream",
     "text": [
      "skimage.filters.thresholding.threshold_isodata\n",
      "skimage.filters.thresholding.threshold_li\n",
      "skimage.filters.thresholding.threshold_mean\n",
      "skimage.filters.thresholding.threshold_minimum\n",
      "skimage.filters.thresholding.threshold_otsu\n",
      "skimage.filters.thresholding.threshold_triangle\n",
      "skimage.filters.thresholding.threshold_yen\n",
      "skimage.filters.thresholding.threshold_isodata\n",
      "skimage.filters.thresholding.threshold_li\n",
      "skimage.filters.thresholding.threshold_mean\n",
      "skimage.filters.thresholding.threshold_minimum\n",
      "skimage.filters.thresholding.threshold_otsu\n",
      "skimage.filters.thresholding.threshold_triangle\n",
      "skimage.filters.thresholding.threshold_yen\n"
     ]
    }
   ],
   "source": [
    "for vdf in vdfs:\n",
    "    try_all_threshold(vdf.data)"
   ]
  },
  {
   "cell_type": "markdown",
   "metadata": {},
   "source": [
    "It looks like `threshold_li` works pretty well for most cases - so let us try that! If there are different algorithms that work better for different images you should modify the following code"
   ]
  },
  {
   "cell_type": "code",
   "execution_count": 73,
   "metadata": {
    "tags": []
   },
   "outputs": [
    {
     "data": {
      "text/plain": [
       "[<Axes: title={'center': 'VDF 0 (d=0.00 $Å^{-1}$,\\n-148$^{\\\\circ}$)'}, xlabel='x axis (nm)', ylabel='y axis (nm)'>,\n",
       " <Axes: title={'center': 'VDF 1 (d=0.00 $Å^{-1}$,\\n-118$^{\\\\circ}$)'}, xlabel='x axis (nm)', ylabel='y axis (nm)'>]"
      ]
     },
     "execution_count": 73,
     "metadata": {},
     "output_type": "execute_result"
    }
   ],
   "source": [
    "masks = [vdf>threshold_func(vdf.data) for vdf, threshold_func in zip(vdfs, [threshold_li]*len(vdfs))] #Create masks\n",
    "hs.plot.plot_images(masks, per_row=1, axes_decor='off', colorbar=None)"
   ]
  },
  {
   "cell_type": "markdown",
   "metadata": {},
   "source": [
    "Next, let us get rid of any overlap between the masks. For instance, the amorphous layer in the top part is common for all VDFs"
   ]
  },
  {
   "cell_type": "code",
   "execution_count": 74,
   "metadata": {
    "tags": []
   },
   "outputs": [
    {
     "data": {
      "text/plain": [
       "[<Axes: title={'center': 'VDF 0 (d=0.00 $Å^{-1}$,\\n-148$^{\\\\circ}$)'}, xlabel='x axis (nm)', ylabel='y axis (nm)'>,\n",
       " <Axes: title={'center': 'VDF 1 (d=0.00 $Å^{-1}$,\\n-118$^{\\\\circ}$)'}, xlabel='x axis (nm)', ylabel='y axis (nm)'>]"
      ]
     },
     "execution_count": 74,
     "metadata": {},
     "output_type": "execute_result"
    }
   ],
   "source": [
    "stacked_masks = np.stack(masks)\n",
    "common_mask = np.sum(stacked_masks, axis=0)\n",
    "common_mask = common_mask<np.max(common_mask)\n",
    "masks = [mask*common_mask for mask in masks]\n",
    "hs.plot.plot_images(masks, per_row=1, axes_decor='off', colorbar=None)"
   ]
  },
  {
   "cell_type": "markdown",
   "metadata": {},
   "source": [
    "Now, let us apply these masks to our VDFs"
   ]
  },
  {
   "cell_type": "code",
   "execution_count": 75,
   "metadata": {
    "tags": []
   },
   "outputs": [],
   "source": [
    "transposed_signal = signal.T"
   ]
  },
  {
   "cell_type": "code",
   "execution_count": 76,
   "metadata": {
    "tags": []
   },
   "outputs": [
    {
     "data": {
      "text/html": [
       "<table>\n",
       "    <tr>\n",
       "        <td>\n",
       "            <table>\n",
       "                <thead>\n",
       "                    <tr>\n",
       "                        <th> Title: </th>\n",
       "                        <td>  </td>\n",
       "                    </tr>\n",
       "                    <tr>\n",
       "                        <th> SignalType: </th>\n",
       "                        <td> electron_diffraction </td>\n",
       "                    </tr>\n",
       "                </thead>\n",
       "                <thead>\n",
       "                    <tr>\n",
       "                        <td>  </td>\n",
       "                        <th> Array </th>\n",
       "                        <th> Chunk </th>\n",
       "                    </tr>\n",
       "                </thead>\n",
       "                <tbody>\n",
       "                    \n",
       "                    <tr>\n",
       "                        <th> Bytes </th>\n",
       "                        <td> 850.50 MiB </td>\n",
       "                        <td> 512.00 kiB </td>\n",
       "                    </tr>\n",
       "                    \n",
       "                    <tr>\n",
       "                        <th> Shape </th>\n",
       "                        <td> (256, 256|84, 81) </td>\n",
       "                        <td> (<b>256</b>,<b>256</b>|2,2) </td>\n",
       "                    </tr>\n",
       "                    <tr>\n",
       "                        <th> Count </th>\n",
       "                        <td> 37545 Tasks </td>\n",
       "                        <td> 1763 Chunks </td>\n",
       "                    </tr>\n",
       "                    <tr>\n",
       "                    <th> Type </th>\n",
       "                    <td> uint16 </td>\n",
       "                    <td> numpy.ndarray </td>\n",
       "                    </tr>\n",
       "                </tbody>\n",
       "            </table>\n",
       "        </td>\n",
       "        <td>\n",
       "            <table>\n",
       "                <thead>\n",
       "                    <tr>\n",
       "                        <th><p style=\"text-align:left;\">Navigation Axes</p>  </th>\n",
       "                        <th> <p style=\"text-align:left;\">Signal Axes</p> </th>\n",
       "                    </tr>\n",
       "                </thead>\n",
       "                <tbody>\n",
       "                    <tr>\n",
       "                        <td> <svg width=\"170\" height=\"170\" style=\"stroke:rgb(0,0,0);stroke-width:1\" >\n",
       "\n",
       "  <!-- Horizontal lines -->\n",
       "  <line x1=\"0\" y1=\"0\" x2=\"120\" y2=\"0\" style=\"stroke-width:2\" />\n",
       "  <line x1=\"0\" y1=\"120\" x2=\"120\" y2=\"120\" style=\"stroke-width:2\" />\n",
       "\n",
       "  <!-- Vertical lines -->\n",
       "  <line x1=\"0\" y1=\"0\" x2=\"0\" y2=\"120\" style=\"stroke-width:2\" />\n",
       "  <line x1=\"120\" y1=\"0\" x2=\"120\" y2=\"120\" style=\"stroke-width:2\" />\n",
       "\n",
       "  <!-- Colored Rectangle -->\n",
       "  <polygon points=\"0.0,0.0 120.0,0.0 120.0,120.0 0.0,120.0\" style=\"fill:#ECB172A0;stroke-width:0\"/>\n",
       "\n",
       "  <!-- Text -->\n",
       "  <text x=\"60.000000\" y=\"140.000000\" font-size=\"1.0rem\" font-weight=\"100\" text-anchor=\"middle\" >256</text>\n",
       "  <text x=\"140.000000\" y=\"60.000000\" font-size=\"1.0rem\" font-weight=\"100\" text-anchor=\"middle\" transform=\"rotate(-90,140.000000,60.000000)\">256</text>\n",
       "</svg> </td>\n",
       "                        <td> <svg width=\"170\" height=\"165\" style=\"stroke:rgb(0,0,0);stroke-width:1\" >\n",
       "\n",
       "  <!-- Horizontal lines -->\n",
       "  <line x1=\"0\" y1=\"0\" x2=\"120\" y2=\"0\" style=\"stroke-width:2\" />\n",
       "  <line x1=\"0\" y1=\"5\" x2=\"120\" y2=\"5\" />\n",
       "  <line x1=\"0\" y1=\"11\" x2=\"120\" y2=\"11\" />\n",
       "  <line x1=\"0\" y1=\"17\" x2=\"120\" y2=\"17\" />\n",
       "  <line x1=\"0\" y1=\"22\" x2=\"120\" y2=\"22\" />\n",
       "  <line x1=\"0\" y1=\"28\" x2=\"120\" y2=\"28\" />\n",
       "  <line x1=\"0\" y1=\"34\" x2=\"120\" y2=\"34\" />\n",
       "  <line x1=\"0\" y1=\"42\" x2=\"120\" y2=\"42\" />\n",
       "  <line x1=\"0\" y1=\"48\" x2=\"120\" y2=\"48\" />\n",
       "  <line x1=\"0\" y1=\"54\" x2=\"120\" y2=\"54\" />\n",
       "  <line x1=\"0\" y1=\"60\" x2=\"120\" y2=\"60\" />\n",
       "  <line x1=\"0\" y1=\"65\" x2=\"120\" y2=\"65\" />\n",
       "  <line x1=\"0\" y1=\"71\" x2=\"120\" y2=\"71\" />\n",
       "  <line x1=\"0\" y1=\"80\" x2=\"120\" y2=\"80\" />\n",
       "  <line x1=\"0\" y1=\"85\" x2=\"120\" y2=\"85\" />\n",
       "  <line x1=\"0\" y1=\"91\" x2=\"120\" y2=\"91\" />\n",
       "  <line x1=\"0\" y1=\"97\" x2=\"120\" y2=\"97\" />\n",
       "  <line x1=\"0\" y1=\"102\" x2=\"120\" y2=\"102\" />\n",
       "  <line x1=\"0\" y1=\"108\" x2=\"120\" y2=\"108\" />\n",
       "  <line x1=\"0\" y1=\"115\" x2=\"120\" y2=\"115\" style=\"stroke-width:2\" />\n",
       "\n",
       "  <!-- Vertical lines -->\n",
       "  <line x1=\"0\" y1=\"0\" x2=\"0\" y2=\"115\" style=\"stroke-width:2\" />\n",
       "  <line x1=\"4\" y1=\"0\" x2=\"4\" y2=\"115\" />\n",
       "  <line x1=\"10\" y1=\"0\" x2=\"10\" y2=\"115\" />\n",
       "  <line x1=\"15\" y1=\"0\" x2=\"15\" y2=\"115\" />\n",
       "  <line x1=\"24\" y1=\"0\" x2=\"24\" y2=\"115\" />\n",
       "  <line x1=\"30\" y1=\"0\" x2=\"30\" y2=\"115\" />\n",
       "  <line x1=\"35\" y1=\"0\" x2=\"35\" y2=\"115\" />\n",
       "  <line x1=\"41\" y1=\"0\" x2=\"41\" y2=\"115\" />\n",
       "  <line x1=\"50\" y1=\"0\" x2=\"50\" y2=\"115\" />\n",
       "  <line x1=\"55\" y1=\"0\" x2=\"55\" y2=\"115\" />\n",
       "  <line x1=\"61\" y1=\"0\" x2=\"61\" y2=\"115\" />\n",
       "  <line x1=\"67\" y1=\"0\" x2=\"67\" y2=\"115\" />\n",
       "  <line x1=\"75\" y1=\"0\" x2=\"75\" y2=\"115\" />\n",
       "  <line x1=\"81\" y1=\"0\" x2=\"81\" y2=\"115\" />\n",
       "  <line x1=\"87\" y1=\"0\" x2=\"87\" y2=\"115\" />\n",
       "  <line x1=\"92\" y1=\"0\" x2=\"92\" y2=\"115\" />\n",
       "  <line x1=\"101\" y1=\"0\" x2=\"101\" y2=\"115\" />\n",
       "  <line x1=\"107\" y1=\"0\" x2=\"107\" y2=\"115\" />\n",
       "  <line x1=\"112\" y1=\"0\" x2=\"112\" y2=\"115\" />\n",
       "  <line x1=\"120\" y1=\"0\" x2=\"120\" y2=\"115\" style=\"stroke-width:2\" />\n",
       "\n",
       "  <!-- Colored Rectangle -->\n",
       "  <polygon points=\"0.0,0.0 120.0,0.0 120.0,115.71428571428572 0.0,115.71428571428572\" style=\"fill:#8B4903A0;stroke-width:0\"/>\n",
       "\n",
       "  <!-- Text -->\n",
       "  <text x=\"60.000000\" y=\"135.714286\" font-size=\"1.0rem\" font-weight=\"100\" text-anchor=\"middle\" >84</text>\n",
       "  <text x=\"140.000000\" y=\"57.857143\" font-size=\"1.0rem\" font-weight=\"100\" text-anchor=\"middle\" transform=\"rotate(0,140.000000,57.857143)\">81</text>\n",
       "</svg> </td>\n",
       "                    </tr>\n",
       "                </tbody>\n",
       "            </table>\n",
       "        </td>\n",
       "    </tr>\n",
       "</table>"
      ],
      "text/plain": [
       "<LazyElectronDiffraction2D, title: , dimensions: (256, 256|84, 81)>"
      ]
     },
     "execution_count": 76,
     "metadata": {},
     "output_type": "execute_result"
    }
   ],
   "source": [
    "transposed_signal"
   ]
  },
  {
   "cell_type": "code",
   "execution_count": 77,
   "metadata": {
    "tags": []
   },
   "outputs": [],
   "source": [
    "dps = [(transposed_signal*mask).sum(axis=[2, 3]).T/np.count_nonzero(mask) for mask in masks] #calculate the sum and divide by the number of True pixels in our masks. This gives a \"mean\" diffraction pattern of the included areas"
   ]
  },
  {
   "cell_type": "code",
   "execution_count": 78,
   "metadata": {
    "tags": []
   },
   "outputs": [
    {
     "data": {
      "text/plain": [
       "[<LazyElectronDiffraction2D, title: , dimensions: (|256, 256)>,\n",
       " <LazyElectronDiffraction2D, title: , dimensions: (|256, 256)>]"
      ]
     },
     "execution_count": 78,
     "metadata": {},
     "output_type": "execute_result"
    }
   ],
   "source": [
    "dps"
   ]
  },
  {
   "cell_type": "code",
   "execution_count": 79,
   "metadata": {
    "tags": []
   },
   "outputs": [
    {
     "name": "stdout",
     "output_type": "stream",
     "text": [
      "[########################################] | 100% Completed | 32.05 s\n",
      "[########################################] | 100% Completed | 29.72 s\n"
     ]
    },
    {
     "data": {
      "text/plain": [
       "[None, None]"
      ]
     },
     "execution_count": 79,
     "metadata": {},
     "output_type": "execute_result"
    }
   ],
   "source": [
    "[dp.compute() for dp in dps]"
   ]
  },
  {
   "cell_type": "markdown",
   "metadata": {},
   "source": [
    "Now, let us also remove the direct beam as it holds no useful information and will only reduce the contrast in the resulting image"
   ]
  },
  {
   "cell_type": "code",
   "execution_count": 80,
   "metadata": {
    "tags": []
   },
   "outputs": [],
   "source": [
    "masked_dps =[]\n",
    "for dp in dps:\n",
    "    x, y = dp.axes_manager[0].axis, dp.axes_manager[1].axis\n",
    "    X, Y = np.meshgrid(x, y)\n",
    "    R = np.sqrt(X**2 + Y**2)\n",
    "    masked_dps.append(dp*(R>0.1))"
   ]
  },
  {
   "cell_type": "markdown",
   "metadata": {},
   "source": [
    "Finally, let us plot an overlayed image of the patterns"
   ]
  },
  {
   "cell_type": "code",
   "execution_count": 81,
   "metadata": {
    "tags": []
   },
   "outputs": [
    {
     "data": {
      "image/png": "[encoded data removed]",
      "text/plain": [
       "<Figure size 480x480 with 1 Axes>"
      ]
     },
     "execution_count": 81,
     "metadata": {},
     "output_type": "execute_result"
    }
   ],
   "source": [
    "hs.plot.plot_images(masked_dps, overlay=True, axes_decor='off', label=None, colors=['r', 'g', 'b', 'm'], alphas=[1, 1, 1, 1])\n",
    "fig = plt.gcf()\n",
    "fig.savefig(datapath.with_name(f'{datapath.stem}_VDF_patterns.png'))\n",
    "fig"
   ]
  },
  {
   "cell_type": "markdown",
   "metadata": {},
   "source": [
    "The image above is not perfect. When inspecting the data, we saw that it is only the $(111)$ planes that are different in all of the twins, while the $(110)$ planes are common in different combinations for the different twins. Hence, the colors for the shortest $\\vec{g}$ seen in the image above should not be trusted. It would be best to either remove them, or to change the image colors and transparencies to show that they should in fact be multi-colored. Nevertheless, the $(111)$ planes should have a color that matches their VDF counterparts"
   ]
  },
  {
   "cell_type": "markdown",
   "metadata": {},
   "source": [
    "### Verifying scan orientation\n",
    "We should also go one step further and see that the diffraction patterns are aligned correctly with our scan. \n",
    "\n",
    "    (1) Let us start by plotting the data and adding two lines, one in real space and the other in diffraction space. \n",
    "    (2) Navigate to two twins with a sharp boundary and align the real-space line with the boundary\n",
    "    (3) Move the navigator handle across the boundary and see which reflections in the diffraction patterns remains the same. These reflections represents planes that are constant across the boundary\n",
    "    (4) Align the diffraction space line with the planes that are constant across the boundary\n",
    "    (5) Calculate the angular difference between the lines. The lines should have a 90 degrees angle between them"
   ]
  },
  {
   "cell_type": "code",
   "execution_count": 82,
   "metadata": {
    "tags": []
   },
   "outputs": [
    {
     "data": {
      "text/plain": [
       "<hyperspy.drawing._widgets.line2d.Line2DWidget at 0x13e931acfd0>"
      ]
     },
     "execution_count": 82,
     "metadata": {},
     "output_type": "execute_result"
    }
   ],
   "source": [
    "signal.plot(norm='symlog')\n",
    "l1 = hs.roi.Line2DROI()\n",
    "l1.add_widget(signal, axes=[0, 1])\n",
    "l2 = hs.roi.Line2DROI()\n",
    "l2.add_widget(signal, axes=[2, 3])"
   ]
  },
  {
   "cell_type": "code",
   "execution_count": 83,
   "metadata": {
    "tags": []
   },
   "outputs": [
    {
     "name": "stdout",
     "output_type": "stream",
     "text": [
      "Diffraction patterns are rotated 88.95 degrees ccw compared to scan\n"
     ]
    }
   ],
   "source": [
    "angles = [l.angle() for l in [l1, l2]]\n",
    "misalignment = (max(angles) - min(angles)) - 90\n",
    "if misalignment < 0:\n",
    "    direction = 'ccw'\n",
    "else:\n",
    "    direction='cw'\n",
    "\n",
    "print(f'Diffraction patterns are rotated {abs(misalignment):.2f} degrees {direction} compared to scan')"
   ]
  },
  {
   "cell_type": "markdown",
   "metadata": {},
   "source": [
    "As you can see, the diffraction patterns are rotated by about $64^{\\circ}$ compared to the scan. This is very important for subsequent analysis and when representing the data! Indeed, if you remember at the very start of this notebook, the scan rotation was read from the `.json` file and added to the metadata. It's value was $296^{\\circ}$. Since $64+296=360$, our numbers match up!\n",
    "\n",
    "In the case of our VDFs and diffraction patterns made earlier, it is generally best toexport the images as usual (as we did above), but before putting them into any paper, report, thesis, or presentation, we should rotate the diffraction patterns in e.g. inkscape!"
   ]
  },
  {
   "cell_type": "code",
   "execution_count": null,
   "metadata": {},
   "outputs": [],
   "source": []
  }
 ],
 "metadata": {
  "kernelspec": {
   "display_name": "Python 3 (ipykernel)",
   "language": "python",
   "name": "python3"
  },
  "language_info": {
   "codemirror_mode": {
    "name": "ipython",
    "version": 3
   },
   "file_extension": ".py",
   "mimetype": "text/x-python",
   "name": "python",
   "nbconvert_exporter": "python",
   "pygments_lexer": "ipython3",
   "version": "3.11.4"
  }
 },
 "nbformat": 4,
 "nbformat_minor": 4
}
