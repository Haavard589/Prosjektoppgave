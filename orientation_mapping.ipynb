{
 "cells": [
  {
   "cell_type": "code",
   "execution_count": 1,
   "id": "7a12c210-94a9-44b9-ab34-1c93e99f300f",
   "metadata": {
    "tags": []
   },
   "outputs": [],
   "source": [
    "%matplotlib qt\n",
    "import sys\n",
    "\n",
    "sys.path.append(r\"C:\\Users\\hfyhn\\TEM\")\n",
    "\n",
    "from signal_class import Template_matching"
   ]
  },
  {
   "cell_type": "code",
   "execution_count": 5,
   "id": "50a4592c-fc97-4e41-b03f-29c1a8daed9c",
   "metadata": {
    "tags": []
   },
   "outputs": [
    {
     "name": "stderr",
     "output_type": "stream",
     "text": [
      "C:\\Users\\hfyhn\\anaconda3\\envs\\pyxem\\Lib\\site-packages\\diffsims\\generators\\sphere_mesh_generators.py:514: RuntimeWarning: invalid value encountered in divide\n",
      "  phi2 = sign * np.nan_to_num(np.arccos(x_comp / norm_proj))\n"
     ]
    },
    {
     "name": "stdout",
     "output_type": "stream",
     "text": [
      "129 80.0 1e-20 0.0078 1.3072443077127025\n",
      "['C:\\\\Users\\\\hfyhn\\\\Documents\\\\Skole\\\\Fordypningsoppgave\\\\Data\\\\cif\\\\muscovite.cif']\n"
     ]
    },
    {
     "name": "stderr",
     "output_type": "stream",
     "text": [
      "                                                                                                                       \r"
     ]
    }
   ],
   "source": [
    "TM = Template_matching(elements = [\"muscovite\"])\n",
    "TM.read_file(3, processing_type = \"blob_3\", lazy = False)\n",
    "TM.update_axes_manager([19.2086316]*2, 0.010212846154005488, 0.010212846154005488,129, 80.0)\n",
    "\n",
    "TM.create_lib(16.0, deny_new = False, minimum_intensity=1E-20, max_excitation_error=78E-4, force_new = False)\n"
   ]
  },
  {
   "cell_type": "code",
   "execution_count": 6,
   "id": "30bacd73-303d-408b-9032-caa2bc002cb7",
   "metadata": {
    "tags": []
   },
   "outputs": [],
   "source": [
    "TM.signal.plot(norm = \"symlog\")"
   ]
  },
  {
   "cell_type": "code",
   "execution_count": 7,
   "id": "aa0ef370-dc40-4e44-9e2a-91b9ad941a0a",
   "metadata": {
    "tags": []
   },
   "outputs": [
    {
     "name": "stdout",
     "output_type": "stream",
     "text": [
      "[                                        ] | 0% Completed | 203.96 ms"
     ]
    },
    {
     "name": "stderr",
     "output_type": "stream",
     "text": [
      "C:\\Users\\hfyhn\\anaconda3\\envs\\pyxem\\Lib\\site-packages\\pyxem\\utils\\indexation_utils.py:877: RuntimeWarning: invalid value encountered in divide\n",
      "  polar_image = polar_image / dispatcher.linalg.norm(polar_image)\n"
     ]
    },
    {
     "name": "stdout",
     "output_type": "stream",
     "text": [
      "[                                        ] | 0% Completed | 2.81 s ms"
     ]
    },
    {
     "name": "stderr",
     "output_type": "stream",
     "text": [
      "C:\\Users\\hfyhn\\anaconda3\\envs\\pyxem\\Lib\\site-packages\\pyxem\\utils\\indexation_utils.py:877: RuntimeWarning: invalid value encountered in divide\n",
      "  polar_image = polar_image / dispatcher.linalg.norm(polar_image)\n"
     ]
    },
    {
     "name": "stdout",
     "output_type": "stream",
     "text": [
      "[########################################] | 100% Completed | 18.01 s\n",
      "Mean correlation 0.007042606179350343\n"
     ]
    },
    {
     "name": "stderr",
     "output_type": "stream",
     "text": [
      "C:\\Users\\hfyhn\\anaconda3\\envs\\pyxem\\Lib\\site-packages\\matplotlib\\cm.py:478: RuntimeWarning: invalid value encountered in cast\n",
      "  xx = (xx * 255).astype(np.uint8)\n"
     ]
    }
   ],
   "source": [
    "TM.template_match(intensity_transform_function=None)\n",
    "\n",
    "TM.plot_correlation()\n",
    "\n",
    "TM.plot_orientations_mapping()\n"
   ]
  },
  {
   "cell_type": "code",
   "execution_count": null,
   "id": "8daf4680-e190-42d8-afaf-7e259eb8b88f",
   "metadata": {},
   "outputs": [],
   "source": []
  }
 ],
 "metadata": {
  "kernelspec": {
   "display_name": "Python 3 (ipykernel)",
   "language": "python",
   "name": "python3"
  },
  "language_info": {
   "codemirror_mode": {
    "name": "ipython",
    "version": 3
   },
   "file_extension": ".py",
   "mimetype": "text/x-python",
   "name": "python",
   "nbconvert_exporter": "python",
   "pygments_lexer": "ipython3",
   "version": "3.11.4"
  }
 },
 "nbformat": 4,
 "nbformat_minor": 5
}
